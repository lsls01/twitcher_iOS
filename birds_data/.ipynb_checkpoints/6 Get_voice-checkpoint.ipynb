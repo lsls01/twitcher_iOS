{
 "cells": [
  {
   "cell_type": "code",
   "execution_count": 1,
   "metadata": {
    "collapsed": true
   },
   "outputs": [],
   "source": [
    "# Import necessary libraries\n",
    "import pandas as pd\n",
    "from urllib.request import Request, urlopen\n",
    "import re\n",
    "import os"
   ]
  },
  {
   "cell_type": "code",
   "execution_count": 2,
   "metadata": {
    "collapsed": true
   },
   "outputs": [],
   "source": [
    "# load latest csv file into dataframe\n",
    "birds_df = pd.read_csv(\"birds.csv\")\n",
    "birds_df.set_index('id', inplace=True)\n",
    "\n",
    "# load latest csv file into dataframe\n",
    "new_df = pd.read_csv(\"birds_with_more_voice.csv\")\n",
    "new_df.set_index('Idx', inplace=True)\n",
    "\n",
    "# merge voice url\n",
    "voice_isnull_idx = birds_df[birds_df['voice'].isnull()].index\n",
    "birds_df.ix[voice_isnull_idx, 'voice'] = new_df.ix[voice_isnull_idx, 'URL to list of all the species bird calls']\n",
    "\n",
    "# get the index of birds which has voice link\n",
    "voice_idx = birds_df[birds_df['voice'].notnull()].index\n",
    "\n",
    "# create a string containing the prefix of url to generate a complete url later.\n",
    "url_prefix = \"http://www.xeno-canto.org\""
   ]
  },
  {
   "cell_type": "code",
   "execution_count": 3,
   "metadata": {
    "collapsed": true
   },
   "outputs": [],
   "source": [
    "# download all the voice file into voice/\n",
    "for idx in voice_idx:\n",
    "    # as this block of code easily fail due to lose connection to the server, \n",
    "    # when restart, check it the file already existed\n",
    "    if os.path.isfile(\"voice/\" + str(idx) + '.mp3'):\n",
    "        continue\n",
    "    \n",
    "    url = birds_df.ix[idx, 'voice']\n",
    "    req = Request(url, headers={'User-Agent': 'Mozilla/5.0'})\n",
    "    webpage = urlopen(req).read()\n",
    "    webpage_str = str(webpage)\n",
    "\n",
    "    # use regular expression to find where download link is\n",
    "    url_surfix = re.search('/\\d*/download', webpage_str)\n",
    "    # if there does not exists, continue to next iteration\n",
    "    if url_surfix is None:\n",
    "        continue\n",
    "    url_surfix = url_surfix[0]\n",
    "\n",
    "    mp3_url = url_prefix + url_surfix\n",
    "    \n",
    "    # create a download command using aria2c as download tool and rename it into \"[idx].mp3\"\n",
    "    download_command = 'aria2c ' + mp3_url + ' --out=\"voice/' + str(idx) + '.mp3\"'\n",
    "    !$download_command"
   ]
  },
  {
   "cell_type": "code",
   "execution_count": 4,
   "metadata": {
    "collapsed": true
   },
   "outputs": [],
   "source": [
    "birds_df.to_csv('birds.csv')"
   ]
  },
  {
   "cell_type": "code",
   "execution_count": null,
   "metadata": {
    "collapsed": true
   },
   "outputs": [],
   "source": []
  }
 ],
 "metadata": {
  "kernelspec": {
   "display_name": "Python 3",
   "language": "python",
   "name": "python3"
  },
  "language_info": {
   "codemirror_mode": {
    "name": "ipython",
    "version": 3
   },
   "file_extension": ".py",
   "mimetype": "text/x-python",
   "name": "python",
   "nbconvert_exporter": "python",
   "pygments_lexer": "ipython3",
   "version": "3.6.1"
  }
 },
 "nbformat": 4,
 "nbformat_minor": 2
}
