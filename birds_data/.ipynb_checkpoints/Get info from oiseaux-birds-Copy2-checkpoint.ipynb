{
 "cells": [
  {
   "cell_type": "code",
   "execution_count": 1,
   "metadata": {
    "collapsed": true,
    "deletable": true,
    "editable": true
   },
   "outputs": [],
   "source": [
    "import pandas as pd\n",
    "from urllib.request import Request, urlopen\n",
    "from bs4 import BeautifulSoup as bs\n",
    "import re\n",
    "from multiprocessing import Pool"
   ]
  },
  {
   "cell_type": "code",
   "execution_count": 2,
   "metadata": {
    "collapsed": true,
    "deletable": true,
    "editable": true
   },
   "outputs": [],
   "source": [
    "birds_list = pd.read_csv(\"birds_list.csv\")"
   ]
  },
  {
   "cell_type": "code",
   "execution_count": 3,
   "metadata": {
    "collapsed": false,
    "deletable": true,
    "editable": true,
    "scrolled": true
   },
   "outputs": [
    {
     "data": {
      "text/html": [
       "<div>\n",
       "<table border=\"1\" class=\"dataframe\">\n",
       "  <thead>\n",
       "    <tr style=\"text-align: right;\">\n",
       "      <th></th>\n",
       "      <th>Unnamed: 0</th>\n",
       "      <th>Common name</th>\n",
       "      <th>Binomial</th>\n",
       "      <th>Notes</th>\n",
       "      <th>Category</th>\n",
       "      <th>Order</th>\n",
       "      <th>Family</th>\n",
       "      <th>colour</th>\n",
       "      <th>size</th>\n",
       "    </tr>\n",
       "  </thead>\n",
       "  <tbody>\n",
       "    <tr>\n",
       "      <th>0</th>\n",
       "      <td>0</td>\n",
       "      <td>Southern cassowary</td>\n",
       "      <td>Casuarius casuarius</td>\n",
       "      <td>NaN</td>\n",
       "      <td>Cassowaries</td>\n",
       "      <td>Casuariformes</td>\n",
       "      <td>Casuariidae</td>\n",
       "      <td>NaN</td>\n",
       "      <td>NaN</td>\n",
       "    </tr>\n",
       "    <tr>\n",
       "      <th>1</th>\n",
       "      <td>1</td>\n",
       "      <td>Emu</td>\n",
       "      <td>Dromaius novaehollandiae</td>\n",
       "      <td>NaN</td>\n",
       "      <td>Emus</td>\n",
       "      <td>Casuariformes</td>\n",
       "      <td>Dromaiidae</td>\n",
       "      <td>NaN</td>\n",
       "      <td>NaN</td>\n",
       "    </tr>\n",
       "    <tr>\n",
       "      <th>2</th>\n",
       "      <td>2</td>\n",
       "      <td>King Island emu</td>\n",
       "      <td>Dromaius ater</td>\n",
       "      <td>extinct</td>\n",
       "      <td>Emus</td>\n",
       "      <td>Casuariformes</td>\n",
       "      <td>Dromaiidae</td>\n",
       "      <td>NaN</td>\n",
       "      <td>NaN</td>\n",
       "    </tr>\n",
       "    <tr>\n",
       "      <th>3</th>\n",
       "      <td>3</td>\n",
       "      <td>Kangaroo Island emu</td>\n",
       "      <td>Dromaius baudinianus</td>\n",
       "      <td>extinct</td>\n",
       "      <td>Emus</td>\n",
       "      <td>Casuariformes</td>\n",
       "      <td>Dromaiidae</td>\n",
       "      <td>NaN</td>\n",
       "      <td>NaN</td>\n",
       "    </tr>\n",
       "    <tr>\n",
       "      <th>4</th>\n",
       "      <td>4</td>\n",
       "      <td>Australian brushturkey</td>\n",
       "      <td>Alectura lathami</td>\n",
       "      <td>NaN</td>\n",
       "      <td>Mound-builders</td>\n",
       "      <td>Galliformes</td>\n",
       "      <td>Megapodidae</td>\n",
       "      <td>NaN</td>\n",
       "      <td>NaN</td>\n",
       "    </tr>\n",
       "  </tbody>\n",
       "</table>\n",
       "</div>"
      ],
      "text/plain": [
       "   Unnamed: 0             Common name                  Binomial    Notes  \\\n",
       "0           0      Southern cassowary       Casuarius casuarius      NaN   \n",
       "1           1                     Emu  Dromaius novaehollandiae      NaN   \n",
       "2           2         King Island emu             Dromaius ater  extinct   \n",
       "3           3     Kangaroo Island emu      Dromaius baudinianus  extinct   \n",
       "4           4  Australian brushturkey          Alectura lathami      NaN   \n",
       "\n",
       "         Category          Order       Family  colour  size  \n",
       "0     Cassowaries  Casuariformes  Casuariidae     NaN   NaN  \n",
       "1            Emus  Casuariformes   Dromaiidae     NaN   NaN  \n",
       "2            Emus  Casuariformes   Dromaiidae     NaN   NaN  \n",
       "3            Emus  Casuariformes   Dromaiidae     NaN   NaN  \n",
       "4  Mound-builders    Galliformes  Megapodidae     NaN   NaN  "
      ]
     },
     "execution_count": 3,
     "metadata": {},
     "output_type": "execute_result"
    }
   ],
   "source": [
    "birds_list.head()"
   ]
  },
  {
   "cell_type": "code",
   "execution_count": 4,
   "metadata": {
    "collapsed": false,
    "deletable": true,
    "editable": true
   },
   "outputs": [],
   "source": [
    "birds_list['Common_name_lowercase'] = birds_list['Common name'].str.lower()\n",
    "birds_list['Common_name_lowercase'] = birds_list['Common_name_lowercase'].str.replace(' ', '-')"
   ]
  },
  {
   "cell_type": "code",
   "execution_count": 5,
   "metadata": {
    "collapsed": false,
    "deletable": true,
    "editable": true
   },
   "outputs": [],
   "source": [
    "link_prefix = 'http://www.oiseaux-birds.com/'\n",
    "birds_list['link'] = link_prefix + 'card-' + birds_list['Common_name_lowercase'] + '.html'"
   ]
  },
  {
   "cell_type": "code",
   "execution_count": 6,
   "metadata": {
    "collapsed": true,
    "deletable": true,
    "editable": true
   },
   "outputs": [],
   "source": [
    "ERROR_PAGE_LEN = 2282"
   ]
  },
  {
   "cell_type": "code",
   "execution_count": 7,
   "metadata": {
    "collapsed": true,
    "deletable": true,
    "editable": true
   },
   "outputs": [],
   "source": [
    "url = \"http://www.oiseaux-birds.com/card-pink-eared-duck.html\"\n",
    "req = Request(url, headers={'User-Agent': 'Mozilla/5.0'})\n",
    "webpage = urlopen(req).read()\n",
    "webpage_str = str(webpage)\n",
    "soup = bs(webpage, \"lxml\")"
   ]
  },
  {
   "cell_type": "code",
   "execution_count": 8,
   "metadata": {
    "collapsed": true,
    "deletable": true,
    "editable": true
   },
   "outputs": [],
   "source": [
    "height = re.search('Height:(.*?)<br />', webpage_str)\n",
    "if height:\n",
    "    height = height.group(1).strip()\n",
    "else:\n",
    "    height = pd.np.nan"
   ]
  },
  {
   "cell_type": "code",
   "execution_count": 9,
   "metadata": {
    "collapsed": false,
    "deletable": true,
    "editable": true
   },
   "outputs": [],
   "source": [
    "length = re.search('Length:(.*?)<br />', webpage_str)\n",
    "if length:\n",
    "    length = length.group(1).strip()\n",
    "else:\n",
    "    length = pd.np.nan"
   ]
  },
  {
   "cell_type": "code",
   "execution_count": 10,
   "metadata": {
    "collapsed": true,
    "deletable": true,
    "editable": true
   },
   "outputs": [],
   "source": [
    "weight = re.search('Weight:(.*?)</p>', webpage_str)\n",
    "if weight:\n",
    "    weight = weight.group(1).strip()\n",
    "else:\n",
    "    weight = pd.np.nan"
   ]
  },
  {
   "cell_type": "code",
   "execution_count": 11,
   "metadata": {
    "collapsed": true,
    "deletable": true,
    "editable": true
   },
   "outputs": [],
   "source": [
    "imgs = soup.find_all(\"img\")\n",
    "if imgs:\n",
    "    imgs = [link_prefix + img['src'] for img in imgs]\n",
    "else:\n",
    "    imgs = pd.np.nan"
   ]
  },
  {
   "cell_type": "code",
   "execution_count": 12,
   "metadata": {
    "collapsed": true,
    "deletable": true,
    "editable": true
   },
   "outputs": [],
   "source": [
    "voice = re.search('VOICE(.*?)</a>', webpage_str)\n",
    "if voice:\n",
    "    voice = voice.group(1).strip()\n",
    "    voice = re.search('<a href=\"(.*?)\"', voice)\n",
    "    if voice:\n",
    "        voice = voice.group(1).strip()\n",
    "\n",
    "        for elem in soup(text=re.compile(r'VOICE')):\n",
    "            voice_text = elem.parent.parent.parent.get_text()\n",
    "            voice_text = voice_text[6:].strip()\n",
    "            #print(voice_text)\n",
    "            #print(voice)\n",
    "else:\n",
    "    voice = pd.np.nan\n",
    "    voice_text = pd.np.nan"
   ]
  },
  {
   "cell_type": "code",
   "execution_count": 13,
   "metadata": {
    "collapsed": false,
    "deletable": true,
    "editable": true
   },
   "outputs": [
    {
     "name": "stdout",
     "output_type": "stream",
     "text": [
      "The Pink-eared  Duck frequents inland wetlands, shallow lakes and ponds, stagnant water with  rich aquatic life (including sewage ponds), often saline and brackish waters of  inland continent. It usually avoids the fast-moving, clear or deep waters, and  the coastal wetlands with high rainfall. Large flocks can be seen in extensive  open wetlands.\n"
     ]
    }
   ],
   "source": [
    "habitat = re.search('HABITAT', webpage_str)\n",
    "if habitat:\n",
    "    for elem in soup(text=re.compile(r'HABITAT')):\n",
    "        habitat = elem.parent.parent.parent.get_text()\n",
    "        habitat = habitat[8:].strip()\n",
    "        print(habitat)\n",
    "else:\n",
    "    habitat = pd.np.nan"
   ]
  },
  {
   "cell_type": "code",
   "execution_count": 14,
   "metadata": {
    "collapsed": false,
    "deletable": true,
    "editable": true
   },
   "outputs": [
    {
     "name": "stdout",
     "output_type": "stream",
     "text": [
      "Biometrics:\n",
      "    Length:  36-45 cm\n",
      "    Wingspan:  57-70 cm\n",
      "    Weight:  M: 290-480 g – F: 272-423 g\n"
     ]
    }
   ],
   "source": [
    "description = re.search('DESCRIPTION OF THE BIRD', webpage_str)\n",
    "if description:\n",
    "    for elem in soup(text=re.compile(r'DESCRIPTION OF THE BIRD')):\n",
    "        description = elem.parent.parent.parent.get_text()\n",
    "        description = description[24:].strip()\n",
    "        print(description)\n",
    "else:\n",
    "    description = re.search('DESCRIPTION', webpage_str)\n",
    "    if description:\n",
    "        for elem in soup(text=re.compile(r'DESCRIPTION')):\n",
    "            description = elem.parent.parent.parent.get_text()\n",
    "            description = description[12:].strip()\n",
    "            print(description)\n",
    "    else:\n",
    "        description = pd.np.nan"
   ]
  },
  {
   "cell_type": "code",
   "execution_count": 15,
   "metadata": {
    "collapsed": false,
    "deletable": true,
    "editable": true
   },
   "outputs": [
    {
     "name": "stdout",
     "output_type": "stream",
     "text": [
      "Southern Cassowary lives in Aru and Seram Islands  of Indonesia, in New Guinea and NE Australia.\n"
     ]
    }
   ],
   "source": [
    "location = re.search('RANGE', webpage_str)\n",
    "if location:\n",
    "    for elem in soup(text=re.compile(r'RANGE')):\n",
    "        location = elem.parent.parent.parent.get_text()\n",
    "        location = location[6:].strip()\n",
    "        print(location)\n",
    "else:\n",
    "    location = pd.np.nan"
   ]
  },
  {
   "cell_type": "code",
   "execution_count": 16,
   "metadata": {
    "collapsed": false,
    "deletable": true,
    "editable": true
   },
   "outputs": [
    {
     "name": "stdout",
     "output_type": "stream",
     "text": [
      "Southern Cassowary does not fly. Its powerful legs and  feet allow it to run at speeds of up to 50 km per hour. It is able to jump up to 5 metres. It also can  swim, and cross lakes and wide rivers without any difficulty.\n"
     ]
    }
   ],
   "source": [
    "movements = re.search('MOVEMENTS', webpage_str)\n",
    "if movements:\n",
    "    for elem in soup(text=re.compile(r'MOVEMENTS')):\n",
    "        movements = elem.parent.parent.parent.get_text()\n",
    "        movements = movements[10:].strip()\n",
    "        print(movements)\n",
    "else:\n",
    "    movements = pd.np.nan"
   ]
  },
  {
   "cell_type": "code",
   "execution_count": 17,
   "metadata": {
    "collapsed": false,
    "deletable": true,
    "editable": true
   },
   "outputs": [
    {
     "name": "stdout",
     "output_type": "stream",
     "text": [
      "Breeding season starts at the end of the dry season in  New Guinea, and from June to  October in Queensland. \n",
      "    The female copulates with several males, and  disappears as soon as the eggs are laid. \n",
      "    The nest is a shallow depression scraped in the  ground, with a lining of leaves and grasses. It is very well camouflaged in the  vegetation. \n",
      "    She lays 3 to 5 greenish eggs. Incubation by the male  lasts about 50 days. The male rears the chicks during about 9 months.\n"
     ]
    }
   ],
   "source": [
    "reproduction = re.search('REPRODUCTION', webpage_str)\n",
    "if reproduction:\n",
    "    for elem in soup(text=re.compile(r'REPRODUCTION')):\n",
    "        reproduction = elem.parent.parent.parent.get_text()\n",
    "        reproduction = reproduction[13:].strip()\n",
    "        print(reproduction)\n",
    "else:\n",
    "    reproduction = pd.np.nan"
   ]
  },
  {
   "cell_type": "code",
   "execution_count": 18,
   "metadata": {
    "collapsed": false,
    "deletable": true,
    "editable": true
   },
   "outputs": [
    {
     "name": "stdout",
     "output_type": "stream",
     "text": [
      "Southern Cassowary feeds mainly on fallen fruits of  different plant’s species. It also consumes invertebrates, small vertebrates  and sometimes carrion.\n"
     ]
    }
   ],
   "source": [
    "diet = re.search('DIET', webpage_str)\n",
    "if diet:\n",
    "    for elem in soup(text=re.compile(r'DIET')):\n",
    "        diet = elem.parent.parent.parent.get_text()\n",
    "        diet = diet[5:].strip()\n",
    "        print(diet)\n",
    "else:\n",
    "    diet = pd.np.nan"
   ]
  },
  {
   "cell_type": "code",
   "execution_count": 19,
   "metadata": {
    "collapsed": false,
    "deletable": true,
    "editable": true
   },
   "outputs": [
    {
     "name": "stdout",
     "output_type": "stream",
     "text": [
      "Southern Cassowary is fairly widespread in New Guinea, but  declines due to habitat loss and hunting occurred. Disturbances are also an  important fact in local declines.\n"
     ]
    }
   ],
   "source": [
    "protection = re.search('PROTECTION', webpage_str)\n",
    "if protection:\n",
    "    for elem in soup(text=re.compile(r'PROTECTION')):\n",
    "        protection = elem.parent.parent.parent.get_text()\n",
    "        protection = protection[31:].strip()\n",
    "        print(protection)\n",
    "else:\n",
    "    protection = pd.np.nan"
   ]
  },
  {
   "cell_type": "code",
   "execution_count": 20,
   "metadata": {
    "collapsed": false,
    "deletable": true,
    "editable": true
   },
   "outputs": [
    {
     "name": "stdout",
     "output_type": "stream",
     "text": [
      "HANDBOOK  OF THE BIRDS OF THE WORLD vol 1 by Josep  del  Hoyo-Andrew Elliot-Jordi Sargatal - Lynx  Edicions - ISBN: 8487334105\n",
      "L’ENCYCLOPEDIE MONDIALE DES  OISEAUX - Dr  Christopher M. Perrins -  BORDAS -  ISBN: 2040185607\n",
      "Avibase (Lepage Denis)\n",
      "\n",
      "Birds in backyards (Birds Australia and Australian Museum) \n",
      "ARKive (Christopher Parsons) \n",
      "El Zoológico Electrónico (Damisela)\n"
     ]
    }
   ],
   "source": [
    "sources = re.search('Sources', webpage_str)\n",
    "if sources:\n",
    "    for elem in soup(text=re.compile(r'Sources')):\n",
    "        sources = elem.parent.parent.parent.parent.get_text()\n",
    "        sources = sources[sources.find(\"Sources\") + 9:sources.find(\"Home page\")].strip()\n",
    "        print(sources)\n",
    "else:\n",
    "    sources = pd.np.nan"
   ]
  },
  {
   "cell_type": "code",
   "execution_count": 21,
   "metadata": {
    "collapsed": false,
    "deletable": true,
    "editable": true
   },
   "outputs": [
    {
     "data": {
      "text/plain": [
       "-1"
      ]
     },
     "execution_count": 21,
     "metadata": {},
     "output_type": "execute_result"
    }
   ],
   "source": [
    "sources.find(\"Sources\")"
   ]
  },
  {
   "cell_type": "code",
   "execution_count": 22,
   "metadata": {
    "collapsed": false,
    "deletable": true,
    "editable": true
   },
   "outputs": [
    {
     "data": {
      "text/plain": [
       "'OF THE BIRDS OF THE WORLD vol 1 by Josep  del  Hoyo-Andrew Elliot-Jordi Sargatal - Lynx  Edicions - ISBN: 8487334105\\nL’ENCYCLOPEDIE MONDIALE DES  OISEAUX - Dr  Christopher M. Perrins - \\xa0BORDAS -  ISBN: 2040185607\\nAvibase (Lepage Denis)\\n\\nBirds in backyards (Birds Australia and Australian Museum) \\nARKive (Christopher Parsons) \\nEl Zoológico Electrónico (Damisela'"
      ]
     },
     "execution_count": 22,
     "metadata": {},
     "output_type": "execute_result"
    }
   ],
   "source": [
    "sources[sources.find(\"Sources\") + 9:sources.find(\"Home page\")].strip()"
   ]
  },
  {
   "cell_type": "code",
   "execution_count": 23,
   "metadata": {
    "collapsed": true,
    "deletable": true,
    "editable": true
   },
   "outputs": [],
   "source": [
    "birds_list['Height'] = ''\n",
    "birds_list['Length'] = ''\n",
    "birds_list['Weight'] = ''\n",
    "birds_list['Image'] = ''\n",
    "birds_list['Voice'] = ''\n",
    "birds_list['Habitat'] = ''\n",
    "birds_list['Description'] = ''\n",
    "birds_list['Range'] = ''\n",
    "birds_list['Movements'] = ''\n",
    "birds_list['Reproduction'] = ''\n",
    "birds_list['Diet'] = ''\n",
    "birds_list['Protection'] = ''\n",
    "birds_list['Sources'] = ''"
   ]
  },
  {
   "cell_type": "code",
   "execution_count": 24,
   "metadata": {
    "collapsed": false,
    "deletable": true,
    "editable": true
   },
   "outputs": [],
   "source": [
    "error_list = []\n",
    "def fetch(idx):\n",
    "    url = birds_list.ix[idx, 'link']\n",
    "    req = Request(url, headers={'User-Agent': 'Mozilla/5.0'})\n",
    "    webpage = urlopen(req).read()\n",
    "    webpage_str = str(webpage)\n",
    "    soup = bs(webpage, \"lxml\")\n",
    "    imgs_dict = dict()\n",
    "    \n",
    "    if len(webpage) == ERROR_PAGE_LEN:\n",
    "        error_list.append(idx)\n",
    "        return pd.np.nan\n",
    "    \n",
    "    height = re.search('Height:(.*?)<br />', webpage_str)\n",
    "    if height:\n",
    "        height = height.group(1).strip()\n",
    "    else:\n",
    "        height = pd.np.nan\n",
    "    \n",
    "    length = re.search('Length:(.*?)<br />', webpage_str)\n",
    "    if length:\n",
    "        length = length.group(1).strip()\n",
    "    else:\n",
    "        length = pd.np.nan\n",
    "\n",
    "    weight = re.search('Weight:(.*?)</p>', webpage_str)\n",
    "    if weight:\n",
    "        weight = weight.group(1).strip()\n",
    "    else:\n",
    "        weight = pd.np.nan\n",
    "    \n",
    "    imgs = soup.find_all(\"img\")\n",
    "    if imgs:\n",
    "        imgs = [link_prefix + img['src'] for img in imgs]\n",
    "    else:\n",
    "        imgs = pd.np.nan\n",
    "    \n",
    "    voice = re.search('VOICE(.*?)</a>', webpage_str)\n",
    "    if voice:\n",
    "        voice = voice.group(1).strip()\n",
    "        voice = re.search('<a href=\"(.*?)\"', voice)\n",
    "        if voice:\n",
    "            voice = voice.group(1).strip()\n",
    "\n",
    "            for elem in soup(text=re.compile(r'VOICE')):\n",
    "                voice_text = elem.parent.parent.parent.get_text()\n",
    "                voice_text = voice_text[6:].strip()\n",
    "                #print(voice_text)\n",
    "                #print(voice)\n",
    "    else:\n",
    "        voice = pd.np.nan\n",
    "        voice_text = pd.np.nan\n",
    "    \n",
    "    habitat = re.search('HABITAT', webpage_str)\n",
    "    if habitat:\n",
    "        for elem in soup(text=re.compile(r'HABITAT')):\n",
    "            habitat = elem.parent.parent.parent.get_text()\n",
    "            habitat = habitat[8:].strip()\n",
    "            #print(habitat)\n",
    "    else:\n",
    "        habitat = pd.np.nan\n",
    "    \n",
    "    description = re.search('DESCRIPTION OF THE BIRD', webpage_str)\n",
    "    if description:\n",
    "        for elem in soup(text=re.compile(r'DESCRIPTION OF THE BIRD')):\n",
    "            description = elem.parent.parent.parent.get_text()\n",
    "            description = description[24:].strip()\n",
    "            # print(description)\n",
    "    else:\n",
    "        description = re.search('DESCRIPTION', webpage_str)\n",
    "        if description:\n",
    "            for elem in soup(text=re.compile(r'DESCRIPTION')):\n",
    "                description = elem.parent.parent.parent.get_text()\n",
    "                description = description[12:].strip()\n",
    "                # print(description)\n",
    "        else:\n",
    "            description = pd.np.nan\n",
    "    \n",
    "    location = re.search('RANGE', webpage_str)\n",
    "    if location:\n",
    "        for elem in soup(text=re.compile(r'RANGE')):\n",
    "            location = elem.parent.parent.parent.get_text()\n",
    "            location = location[6:].strip()\n",
    "            #print(location)\n",
    "    else:\n",
    "        location = pd.np.nan\n",
    "    \n",
    "    movements = re.search('MOVEMENTS', webpage_str)\n",
    "    if movements:\n",
    "        for elem in soup(text=re.compile(r'MOVEMENTS')):\n",
    "            movements = elem.parent.parent.parent.get_text()\n",
    "            movements = movements[10:].strip()\n",
    "            #print(movements)\n",
    "    else:\n",
    "        movements = pd.np.nan\n",
    "    \n",
    "    reproduction = re.search('REPRODUCTION', webpage_str)\n",
    "    if reproduction:\n",
    "        for elem in soup(text=re.compile(r'REPRODUCTION')):\n",
    "            reproduction = elem.parent.parent.parent.get_text()\n",
    "            reproduction = reproduction[13:].strip()\n",
    "            #print(reproduction)\n",
    "    else:\n",
    "        reproduction = pd.np.nan\n",
    "    \n",
    "    diet = re.search('DIET', webpage_str)\n",
    "    if diet:\n",
    "        for elem in soup(text=re.compile(r'DIET')):\n",
    "            diet = elem.parent.parent.parent.get_text()\n",
    "            diet = diet[5:].strip()\n",
    "            #print(diet)\n",
    "    else:\n",
    "        diet = pd.np.nan\n",
    "    \n",
    "    protection = re.search('PROTECTION', webpage_str)\n",
    "    if protection:\n",
    "        for elem in soup(text=re.compile(r'PROTECTION')):\n",
    "            protection = elem.parent.parent.parent.get_text()\n",
    "            protection = protection[31:].strip()\n",
    "            #print(protection)\n",
    "    else:\n",
    "        protection = pd.np.nan\n",
    "    \n",
    "    sources = re.search('Sources', webpage_str)\n",
    "    if sources:\n",
    "        for elem in soup(text=re.compile(r'Sources')):\n",
    "            sources = elem.parent.parent.parent.parent.get_text()\n",
    "            sources = sources[sources.find(\"Sources\") + 9:sources.find(\"Home page\")].strip()\n",
    "            #print(sources)\n",
    "    else:\n",
    "        sources = pd.np.nan\n",
    "    \n",
    "    birds_list.ix[idx, 'Height'] = height\n",
    "    birds_list.ix[idx, 'Length'] = length\n",
    "    birds_list.ix[idx, 'Weight'] = weight\n",
    "    if type(imgs) is float:\n",
    "        birds_list.ix[idx, 'Image'] = imgs\n",
    "    else:\n",
    "        birds_list.ix[idx, 'Image'] = imgs[0]\n",
    "        imgs_dict[idx] = imgs\n",
    "    birds_list.ix[idx, 'Voice'] = voice\n",
    "    birds_list.ix[idx, 'Habitat'] = habitat\n",
    "    birds_list.ix[idx, 'Description'] = description\n",
    "    birds_list.ix[idx, 'Range'] = location\n",
    "    birds_list.ix[idx, 'Movements'] = movements\n",
    "    birds_list.ix[idx, 'Reproduction'] = reproduction\n",
    "    birds_list.ix[idx, 'Diet'] = diet\n",
    "    birds_list.ix[idx, 'Protection'] = protection\n",
    "    birds_list.ix[idx, 'Sources'] = sources\n",
    "\n",
    "    imgs_dict[idx] = imgs\n",
    "    \n",
    "    return (birds_list.ix[idx], imgs_dict)"
   ]
  },
  {
   "cell_type": "code",
   "execution_count": 25,
   "metadata": {
    "collapsed": false,
    "deletable": true,
    "editable": true
   },
   "outputs": [],
   "source": [
    "import time\n",
    "start_time = time.time()"
   ]
  },
  {
   "cell_type": "code",
   "execution_count": 26,
   "metadata": {
    "collapsed": false,
    "deletable": true,
    "editable": true
   },
   "outputs": [],
   "source": [
    "# Create a new Pool object\n",
    "multi_pool = Pool(processes=20)\n",
    "# Extract all info from XML file and assign id_list\n",
    "new_bird_list = multi_pool.map(fetch, range(200))\n",
    "# Close Multiprocessing Pool\n",
    "multi_pool.close()"
   ]
  },
  {
   "cell_type": "code",
   "execution_count": 27,
   "metadata": {
    "collapsed": false,
    "deletable": true,
    "editable": true
   },
   "outputs": [],
   "source": [
    "# Create a new Pool object\n",
    "multi_pool = Pool(processes=20)\n",
    "# Extract all info from XML file and assign id_list\n",
    "new_bird_list1 = multi_pool.map(fetch, range(200, 400))\n",
    "# Close Multiprocessing Pool\n",
    "multi_pool.close()"
   ]
  },
  {
   "cell_type": "code",
   "execution_count": 28,
   "metadata": {
    "collapsed": true,
    "deletable": true,
    "editable": true
   },
   "outputs": [],
   "source": [
    "# Create a new Pool object\n",
    "multi_pool = Pool(processes=20)\n",
    "# Extract all info from XML file and assign id_list\n",
    "new_bird_list2 = multi_pool.map(fetch, range(400, 600))\n",
    "# Close Multiprocessing Pool\n",
    "multi_pool.close()"
   ]
  },
  {
   "cell_type": "code",
   "execution_count": 29,
   "metadata": {
    "collapsed": true,
    "deletable": true,
    "editable": true
   },
   "outputs": [],
   "source": [
    "# Create a new Pool object\n",
    "multi_pool = Pool(processes=20)\n",
    "# Extract all info from XML file and assign id_list\n",
    "new_bird_list3 = multi_pool.map(fetch, range(600, 800))\n",
    "# Close Multiprocessing Pool\n",
    "multi_pool.close()"
   ]
  },
  {
   "cell_type": "code",
   "execution_count": 30,
   "metadata": {
    "collapsed": true,
    "deletable": true,
    "editable": true
   },
   "outputs": [],
   "source": [
    "# Create a new Pool object\n",
    "multi_pool = Pool(processes=20)\n",
    "# Extract all info from XML file and assign id_list\n",
    "new_bird_list4 = multi_pool.map(fetch, range(800, len(birds_list)))\n",
    "# Close Multiprocessing Pool\n",
    "multi_pool.close()"
   ]
  },
  {
   "cell_type": "code",
   "execution_count": 31,
   "metadata": {
    "collapsed": false,
    "deletable": true,
    "editable": true,
    "scrolled": true
   },
   "outputs": [
    {
     "name": "stdout",
     "output_type": "stream",
     "text": [
      "102.71105003356934\n"
     ]
    }
   ],
   "source": [
    "print(time.time() - start_time)"
   ]
  },
  {
   "cell_type": "code",
   "execution_count": 32,
   "metadata": {
    "collapsed": true,
    "deletable": true,
    "editable": true
   },
   "outputs": [],
   "source": [
    "birds_list_cleaned = new_bird_list + new_bird_list1 + new_bird_list2 + new_bird_list3 + new_bird_list4\n",
    "birds_list_cleaned = [bird for bird in birds_list_cleaned if type(bird) is not float]"
   ]
  },
  {
   "cell_type": "code",
   "execution_count": 33,
   "metadata": {
    "collapsed": false,
    "deletable": true,
    "editable": true
   },
   "outputs": [
    {
     "data": {
      "text/plain": [
       "235"
      ]
     },
     "execution_count": 33,
     "metadata": {},
     "output_type": "execute_result"
    }
   ],
   "source": [
    "len(birds_list_cleaned)"
   ]
  },
  {
   "cell_type": "code",
   "execution_count": 34,
   "metadata": {
    "collapsed": false,
    "deletable": true,
    "editable": true
   },
   "outputs": [],
   "source": [
    "imgs_list = [bird[1] for bird in birds_list_cleaned]\n",
    "birds_list_cleaned = [bird[0] for bird in birds_list_cleaned]"
   ]
  },
  {
   "cell_type": "code",
   "execution_count": 35,
   "metadata": {
    "collapsed": false,
    "deletable": true,
    "editable": true
   },
   "outputs": [
    {
     "data": {
      "text/plain": [
       "Index(['Idx', 'Common name', 'Binomial', 'Notes', 'Category', 'Order',\n",
       "       'Family', 'colour', 'size', 'Common_name_lowercase', 'link', 'Height',\n",
       "       'Length', 'Weight', 'Image', 'Voice', 'Habitat', 'Description', 'Range',\n",
       "       'Movements', 'Reproduction', 'Diet', 'Protection', 'Sources'],\n",
       "      dtype='object')"
      ]
     },
     "execution_count": 35,
     "metadata": {},
     "output_type": "execute_result"
    }
   ],
   "source": [
    "birds_new_df = pd.DataFrame(birds_list_cleaned)\n",
    "birds_new_df = birds_new_df.rename(columns={'Unnamed: 0': 'Idx'})\n",
    "birds_new_df.columns"
   ]
  },
  {
   "cell_type": "code",
   "execution_count": 36,
   "metadata": {
    "collapsed": true,
    "deletable": true,
    "editable": true
   },
   "outputs": [],
   "source": [
    "imgs_dict = dict()\n",
    "for imgs in imgs_list:\n",
    "    imgs_dict.update(imgs)\n",
    "\n",
    "imgs_df = pd.DataFrame(dict([(k, pd.Series(v)) for k,v in imgs_dict.items()]))"
   ]
  },
  {
   "cell_type": "code",
   "execution_count": 37,
   "metadata": {
    "collapsed": false,
    "deletable": true,
    "editable": true
   },
   "outputs": [],
   "source": [
    "birds_new_df.to_csv(\"birds.csv\")\n",
    "imgs_df.to_csv(\"imgs.csv\")"
   ]
  },
  {
   "cell_type": "code",
   "execution_count": 48,
   "metadata": {
    "collapsed": false,
    "deletable": true,
    "editable": true
   },
   "outputs": [],
   "source": [
    "incomplete_df = birds_list[~birds_list.index.isin(birds_new_df.index)]"
   ]
  },
  {
   "cell_type": "code",
   "execution_count": 50,
   "metadata": {
    "collapsed": false,
    "deletable": true,
    "editable": true
   },
   "outputs": [],
   "source": [
    "incomplete_df.to_csv(\"incomplete.csv\")"
   ]
  },
  {
   "cell_type": "code",
   "execution_count": null,
   "metadata": {
    "collapsed": true,
    "deletable": true,
    "editable": true
   },
   "outputs": [],
   "source": []
  }
 ],
 "metadata": {
  "kernelspec": {
   "display_name": "Python 3",
   "language": "python",
   "name": "python3"
  },
  "language_info": {
   "codemirror_mode": {
    "name": "ipython",
    "version": 3
   },
   "file_extension": ".py",
   "mimetype": "text/x-python",
   "name": "python",
   "nbconvert_exporter": "python",
   "pygments_lexer": "ipython3",
   "version": "3.6.1"
  }
 },
 "nbformat": 4,
 "nbformat_minor": 2
}
