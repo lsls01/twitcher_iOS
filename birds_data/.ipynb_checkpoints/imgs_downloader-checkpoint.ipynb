{
 "cells": [
  {
   "cell_type": "code",
   "execution_count": 1,
   "metadata": {
    "collapsed": true,
    "deletable": true,
    "editable": true
   },
   "outputs": [],
   "source": [
    "import pandas as pd\n",
    "import urllib.request\n",
    "import os\n",
    "from multiprocessing import Pool"
   ]
  },
  {
   "cell_type": "code",
   "execution_count": 2,
   "metadata": {
    "collapsed": true,
    "deletable": true,
    "editable": true
   },
   "outputs": [],
   "source": [
    "imgs_df = pd.read_csv(\"imgs.csv\")\n",
    "\n",
    "del imgs_df['Unnamed: 0']\n",
    "\n",
    "imgs_T_df = imgs_df.T\n",
    "\n",
    "columns_name = imgs_T_df.columns"
   ]
  },
  {
   "cell_type": "code",
   "execution_count": 3,
   "metadata": {
    "collapsed": false,
    "deletable": true,
    "editable": true,
    "scrolled": true
   },
   "outputs": [],
   "source": [
    "columns_name = imgs_T_df.columns\n",
    "file_missed = set()\n",
    "file_missed1 = set()\n",
    "file_missed2 = set()\n",
    "file_missed3 = set()\n",
    "file_missed4 = set()\n",
    "imgs_list = list(imgs_T_df.index)"
   ]
  },
  {
   "cell_type": "code",
   "execution_count": 4,
   "metadata": {
    "collapsed": true
   },
   "outputs": [],
   "source": [
    "for idx in imgs_list[0:50]:\n",
    "    directory = str(idx)\n",
    "    if not os.path.exists(directory):\n",
    "        os.makedirs(directory)\n",
    "    for column in columns_name:\n",
    "        img_url = imgs_T_df.ix[idx][column]\n",
    "        if type(img_url) is not float:\n",
    "            filename = directory + \"/\" + str(column) + \".jpg\"\n",
    "            if os.path.isfile(filename):\n",
    "                continue\n",
    "            try:\n",
    "                request = urllib.request.urlopen(img_url, timeout=5)\n",
    "                with open(filename, 'wb') as f:\n",
    "                    f.write(request.read())\n",
    "            except:\n",
    "                file_missed.add(filename)\n",
    "        else:\n",
    "            break"
   ]
  },
  {
   "cell_type": "code",
   "execution_count": 5,
   "metadata": {
    "collapsed": true
   },
   "outputs": [],
   "source": [
    "for idx in imgs_list[50:100]:\n",
    "    directory = str(idx)\n",
    "    if not os.path.exists(directory):\n",
    "        os.makedirs(directory)\n",
    "    for column in columns_name:\n",
    "        img_url = imgs_T_df.ix[idx][column]\n",
    "        if type(img_url) is not float:\n",
    "            filename = directory + \"/\" + str(column) + \".jpg\"\n",
    "            if os.path.isfile(filename):\n",
    "                continue\n",
    "            try:\n",
    "                request = urllib.request.urlopen(img_url, timeout=5)\n",
    "                with open(filename, 'wb') as f:\n",
    "                    f.write(request.read())\n",
    "            except:\n",
    "                file_missed1.add(filename)\n",
    "        else:\n",
    "            break"
   ]
  },
  {
   "cell_type": "code",
   "execution_count": 6,
   "metadata": {
    "collapsed": true
   },
   "outputs": [],
   "source": [
    "for idx in imgs_list[100:150]:\n",
    "    directory = str(idx)\n",
    "    if not os.path.exists(directory):\n",
    "        os.makedirs(directory)\n",
    "    for column in columns_name:\n",
    "        img_url = imgs_T_df.ix[idx][column]\n",
    "        if type(img_url) is not float:\n",
    "            filename = directory + \"/\" + str(column) + \".jpg\"\n",
    "            if os.path.isfile(filename):\n",
    "                continue\n",
    "            try:\n",
    "                request = urllib.request.urlopen(img_url, timeout=5)\n",
    "                with open(filename, 'wb') as f:\n",
    "                    f.write(request.read())\n",
    "            except:\n",
    "                file_missed2.add(filename)\n",
    "        else:\n",
    "            break"
   ]
  },
  {
   "cell_type": "code",
   "execution_count": 10,
   "metadata": {
    "collapsed": true
   },
   "outputs": [],
   "source": [
    "for idx in imgs_list[150:200]:\n",
    "    directory = str(idx)\n",
    "    if not os.path.exists(directory):\n",
    "        os.makedirs(directory)\n",
    "    for column in columns_name:\n",
    "        img_url = imgs_T_df.ix[idx][column]\n",
    "        if type(img_url) is not float:\n",
    "            filename = directory + \"/\" + str(column) + \".jpg\"\n",
    "            if os.path.isfile(filename):\n",
    "                continue\n",
    "            try:\n",
    "                request = urllib.request.urlopen(img_url, timeout=5)\n",
    "                with open(filename, 'wb') as f:\n",
    "                    f.write(request.read())\n",
    "            except:\n",
    "                file_missed3.add(filename)\n",
    "        else:\n",
    "            break"
   ]
  },
  {
   "cell_type": "code",
   "execution_count": 11,
   "metadata": {
    "collapsed": true
   },
   "outputs": [],
   "source": [
    "for idx in imgs_list[200:]:\n",
    "    directory = str(idx)\n",
    "    if not os.path.exists(directory):\n",
    "        os.makedirs(directory)\n",
    "    for column in columns_name:\n",
    "        img_url = imgs_T_df.ix[idx][column]\n",
    "        if type(img_url) is not float:\n",
    "            filename = directory + \"/\" + str(column) + \".jpg\"\n",
    "            if os.path.isfile(filename):\n",
    "                continue\n",
    "            try:\n",
    "                request = urllib.request.urlopen(img_url, timeout=5)\n",
    "                with open(filename, 'wb') as f:\n",
    "                    f.write(request.read())\n",
    "            except:\n",
    "                file_missed4.add(filename)\n",
    "        else:\n",
    "            break"
   ]
  },
  {
   "cell_type": "code",
   "execution_count": 12,
   "metadata": {
    "collapsed": false
   },
   "outputs": [
    {
     "name": "stdout",
     "output_type": "stream",
     "text": [
      "115\n",
      "41\n",
      "49\n",
      "8\n",
      "22\n"
     ]
    }
   ],
   "source": [
    "print(len(file_missed))\n",
    "print(len(file_missed1))\n",
    "print(len(file_missed2))\n",
    "print(len(file_missed3))\n",
    "print(len(file_missed4))"
   ]
  },
  {
   "cell_type": "code",
   "execution_count": 13,
   "metadata": {
    "collapsed": true
   },
   "outputs": [],
   "source": [
    "file_missed_t = file_missed | file_missed1 | file_missed2 | file_missed3 | file_missed4"
   ]
  },
  {
   "cell_type": "code",
   "execution_count": 15,
   "metadata": {
    "collapsed": false
   },
   "outputs": [],
   "source": [
    "file_missed_t = set([folder.split('/')[0] for folder in file_missed_t])"
   ]
  },
  {
   "cell_type": "code",
   "execution_count": 19,
   "metadata": {
    "collapsed": false
   },
   "outputs": [],
   "source": [
    "pd.DataFrame(list(file_missed_t)).to_csv(\"missing_folders\")"
   ]
  },
  {
   "cell_type": "code",
   "execution_count": null,
   "metadata": {
    "collapsed": true
   },
   "outputs": [],
   "source": []
  }
 ],
 "metadata": {
  "kernelspec": {
   "display_name": "Python 3",
   "language": "python",
   "name": "python3"
  },
  "language_info": {
   "codemirror_mode": {
    "name": "ipython",
    "version": 3
   },
   "file_extension": ".py",
   "mimetype": "text/x-python",
   "name": "python",
   "nbconvert_exporter": "python",
   "pygments_lexer": "ipython3",
   "version": "3.6.1"
  }
 },
 "nbformat": 4,
 "nbformat_minor": 2
}
