{
 "cells": [
  {
   "cell_type": "code",
   "execution_count": 1,
   "metadata": {
    "collapsed": true
   },
   "outputs": [],
   "source": [
    "import pandas as pd\n",
    "import re\n",
    "import string"
   ]
  },
  {
   "cell_type": "code",
   "execution_count": 2,
   "metadata": {},
   "outputs": [],
   "source": [
    "df = pd.read_csv('birds_April_23_with_one_fake_index_column.csv')"
   ]
  },
  {
   "cell_type": "code",
   "execution_count": 3,
   "metadata": {
    "collapsed": true
   },
   "outputs": [],
   "source": [
    "del df['Unnamed: 0']"
   ]
  },
  {
   "cell_type": "code",
   "execution_count": 4,
   "metadata": {
    "collapsed": true
   },
   "outputs": [],
   "source": [
    "def remove_redundance_str(descriptions):\n",
    "    descriptions = str(descriptions).strip()\n",
    "    find_biometrics = re.search('Biometrics((?!to).|\\n)*\\d *(k?gr? *(\\(.*\\))?|cm *(\\(.*\\))?)\\.?', descriptions)\n",
    "    if find_biometrics:\n",
    "        descriptions = descriptions[:find_biometrics.span()[0]] + descriptions[find_biometrics.span()[1]:]\n",
    "        descriptions = descriptions.strip()\n",
    "    if len(descriptions) > 0 and descriptions[0] not in string.ascii_letters:\n",
    "        descriptions = descriptions[1:]\n",
    "    if descriptions == 'nan':\n",
    "        descriptions = ''\n",
    "    return descriptions.strip()"
   ]
  },
  {
   "cell_type": "code",
   "execution_count": 5,
   "metadata": {},
   "outputs": [],
   "source": [
    "df['descriptions'] = df['descriptions'].map(lambda x:remove_redundance_str(x))"
   ]
  },
  {
   "cell_type": "code",
   "execution_count": 6,
   "metadata": {
    "collapsed": true
   },
   "outputs": [],
   "source": [
    "df.to_csv('birds_25_April.csv')"
   ]
  },
  {
   "cell_type": "code",
   "execution_count": null,
   "metadata": {
    "collapsed": true
   },
   "outputs": [],
   "source": []
  }
 ],
 "metadata": {
  "kernelspec": {
   "display_name": "Python 3",
   "language": "python",
   "name": "python3"
  },
  "language_info": {
   "codemirror_mode": {
    "name": "ipython",
    "version": 3
   },
   "file_extension": ".py",
   "mimetype": "text/x-python",
   "name": "python",
   "nbconvert_exporter": "python",
   "pygments_lexer": "ipython3",
   "version": "3.6.1"
  }
 },
 "nbformat": 4,
 "nbformat_minor": 2
}
