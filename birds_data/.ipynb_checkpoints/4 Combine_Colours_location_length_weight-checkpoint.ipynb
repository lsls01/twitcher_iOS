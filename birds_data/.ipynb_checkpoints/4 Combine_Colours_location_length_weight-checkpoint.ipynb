{
 "cells": [
  {
   "cell_type": "code",
   "execution_count": 1,
   "metadata": {
    "collapsed": true
   },
   "outputs": [],
   "source": [
    "# import pandas and regular expression library\n",
    "import pandas as pd\n",
    "import re"
   ]
  },
  {
   "cell_type": "code",
   "execution_count": 2,
   "metadata": {},
   "outputs": [],
   "source": [
    "# load data into dataframe\n",
    "new_df = pd.read_csv(\"birds_with_manual_info.csv\")\n",
    "ori_df = pd.read_csv(\"birds.csv\")\n",
    "\n",
    "# set index for two DataFrame\n",
    "new_df.set_index('id', inplace=True)\n",
    "ori_df.set_index('id', inplace=True)"
   ]
  },
  {
   "cell_type": "code",
   "execution_count": 3,
   "metadata": {},
   "outputs": [],
   "source": [
    "del ori_df['height']\n",
    "del ori_df['length']\n",
    "del ori_df['weight']"
   ]
  },
  {
   "cell_type": "code",
   "execution_count": 4,
   "metadata": {
    "collapsed": true
   },
   "outputs": [],
   "source": [
    "ori_df['colour1'] = new_df['colour1']\n",
    "ori_df['colour2'] = new_df['colour2']\n",
    "ori_df['colour3'] = new_df['colour3']\n",
    "\n",
    "ori_df['min_length'] = new_df['min_length']\n",
    "ori_df['max_length'] = new_df['max_length']\n",
    "ori_df['min_weight'] = new_df['min_weight']\n",
    "ori_df['max_weight'] = new_df['max_weight']\n",
    "\n",
    "ori_df['vic'] = new_df['vic']\n",
    "ori_df['nsw'] = new_df['nsw']\n",
    "ori_df['qld'] = new_df['qld']\n",
    "ori_df['act'] = new_df['act']\n",
    "ori_df['nt'] = new_df['nt']\n",
    "ori_df['sa'] = new_df['sa']\n",
    "ori_df['tas'] = new_df['tas']\n",
    "ori_df['wa'] = new_df['wa']"
   ]
  },
  {
   "cell_type": "code",
   "execution_count": 5,
   "metadata": {},
   "outputs": [
    {
     "data": {
      "text/plain": [
       "Index(['common_name', 'binomial', 'category', 'order', 'family', 'voice',\n",
       "       'habitat', 'description', 'movements', 'reproduction', 'diet',\n",
       "       'protection', 'sources', 'colour1', 'colour2', 'colour3', 'min_length',\n",
       "       'max_length', 'min_weight', 'max_weight', 'vic', 'nsw', 'qld', 'act',\n",
       "       'nt', 'sa', 'tas', 'wa'],\n",
       "      dtype='object')"
      ]
     },
     "execution_count": 5,
     "metadata": {},
     "output_type": "execute_result"
    }
   ],
   "source": [
    "ori_df.columns"
   ]
  },
  {
   "cell_type": "code",
   "execution_count": 6,
   "metadata": {},
   "outputs": [
    {
     "data": {
      "text/plain": [
       "Index(['common_name', 'binomial', 'category', 'order', 'family', 'colour1',\n",
       "       'colour2', 'colour3', 'min_length', 'max_length', 'min_weight',\n",
       "       'max_weight', 'voice', 'descriptions', 'diet', 'sources', 'vic', 'nsw',\n",
       "       'qld', 'act', 'nt', 'sa', 'tas', 'wa'],\n",
       "      dtype='object')"
      ]
     },
     "execution_count": 6,
     "metadata": {},
     "output_type": "execute_result"
    }
   ],
   "source": [
    "new_df.columns"
   ]
  },
  {
   "cell_type": "code",
   "execution_count": 7,
   "metadata": {
    "collapsed": true
   },
   "outputs": [],
   "source": [
    "# save dataframe to csv file\n",
    "new_df.to_csv(\"birds.csv\")"
   ]
  }
 ],
 "metadata": {
  "kernelspec": {
   "display_name": "Python 3",
   "language": "python",
   "name": "python3"
  },
  "language_info": {
   "codemirror_mode": {
    "name": "ipython",
    "version": 3
   },
   "file_extension": ".py",
   "mimetype": "text/x-python",
   "name": "python",
   "nbconvert_exporter": "python",
   "pygments_lexer": "ipython3",
   "version": "3.6.1"
  }
 },
 "nbformat": 4,
 "nbformat_minor": 2
}
