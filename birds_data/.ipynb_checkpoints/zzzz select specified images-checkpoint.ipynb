{
 "cells": [
  {
   "cell_type": "code",
   "execution_count": 26,
   "metadata": {},
   "outputs": [],
   "source": [
    "# import pandas to deal with DataFrame\n",
    "import pandas as pd\n",
    "# import os lib to check if a file is exist\n",
    "import os\n",
    "# import pillows to check the meta of images\n",
    "from PIL import Image\n",
    "# import library to copy the selected images files to another directory\n",
    "from shutil import copyfile"
   ]
  },
  {
   "cell_type": "code",
   "execution_count": 6,
   "metadata": {
    "collapsed": true
   },
   "outputs": [],
   "source": [
    "# load dataframe file\n",
    "birds_df = pd.read_csv(\"birds_April_6.csv\")\n",
    "# delete useless column\n",
    "del birds_df['Unnamed: 0']\n",
    "# reset index\n",
    "birds_df.set_index('Idx', inplace=True)"
   ]
  },
  {
   "cell_type": "code",
   "execution_count": 28,
   "metadata": {},
   "outputs": [],
   "source": [
    "# assign directory\n",
    "directory = 'imgs_aio/'\n",
    "new_directory = 'selected_imgs/'\n",
    "# assign index list\n",
    "index_set = set(birds_df.index)"
   ]
  },
  {
   "cell_type": "code",
   "execution_count": 8,
   "metadata": {
    "collapsed": true
   },
   "outputs": [],
   "source": [
    "# save all filenames into file_list\n",
    "file_list = os.listdir(directory)\n",
    "# remove .DS_Store in file_list\n",
    "file_list = file_list[1:]"
   ]
  },
  {
   "cell_type": "code",
   "execution_count": 44,
   "metadata": {},
   "outputs": [],
   "source": [
    "# initialize a new set to store the idx of birds which already have images\n",
    "img_exist_idx_dict = dict()\n",
    "\n",
    "for file in file_list:\n",
    "    filename = directory + file\n",
    "    destname = new_directory + file\n",
    "    \n",
    "    try:\n",
    "        img = Image.open(filename)\n",
    "    except:\n",
    "        continue\n",
    "    \n",
    "    idx = file.split('.')[0].split('_')[0]\n",
    "    \n",
    "    ratio = img.size[0] / img.size[1]\n",
    "    \n",
    "    if img_exist_idx_dict.get(idx, 0) < 5 and ratio > 1 and ratio < (16 / 9 + 0.1):\n",
    "        copyfile(filename, destname)\n",
    "        img_exist_idx_dict[idx] = img_exist_idx_dict.get(idx, 0) + 1"
   ]
  },
  {
   "cell_type": "code",
   "execution_count": 45,
   "metadata": {
    "collapsed": true
   },
   "outputs": [],
   "source": [
    "# save all filenames into file_list to rename all files\n",
    "file_list = os.listdir(new_directory)\n",
    "# remove .DS_Store in file_list\n",
    "file_list = file_list[1:]"
   ]
  },
  {
   "cell_type": "code",
   "execution_count": 49,
   "metadata": {},
   "outputs": [],
   "source": [
    "# initialize a new set to store the idx of birds which already have images\n",
    "img_exist_idx_dict = dict()\n",
    "\n",
    "for file in file_list:\n",
    "    idx = file.split('.')[0].split('_')[0]\n",
    "    \n",
    "    new_filename = str(idx) + '_' + str(img_exist_idx_dict.get(idx, 0)) + '.jpg'\n",
    "    img_exist_idx_dict[idx] = img_exist_idx_dict.get(idx, 0) + 1\n",
    "    \n",
    "    filename = new_directory + file\n",
    "    destname = new_directory + new_filename\n",
    "    \n",
    "    os.rename(filename, destname)"
   ]
  },
  {
   "cell_type": "code",
   "execution_count": null,
   "metadata": {
    "collapsed": true
   },
   "outputs": [],
   "source": []
  }
 ],
 "metadata": {
  "kernelspec": {
   "display_name": "Python 3",
   "language": "python",
   "name": "python3"
  },
  "language_info": {
   "codemirror_mode": {
    "name": "ipython",
    "version": 3
   },
   "file_extension": ".py",
   "mimetype": "text/x-python",
   "name": "python",
   "nbconvert_exporter": "python",
   "pygments_lexer": "ipython3",
   "version": "3.6.1"
  }
 },
 "nbformat": 4,
 "nbformat_minor": 2
}
