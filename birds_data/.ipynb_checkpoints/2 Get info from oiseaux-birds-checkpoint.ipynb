{
 "cells": [
  {
   "cell_type": "code",
   "execution_count": 1,
   "metadata": {
    "collapsed": true,
    "deletable": true,
    "editable": true
   },
   "outputs": [],
   "source": [
    "# import pandas\n",
    "import pandas as pd\n",
    "# import urllib to deal with url connection\n",
    "from urllib.request import Request, urlopen\n",
    "# import beautiful soup to extract information from a webpage\n",
    "from bs4 import BeautifulSoup as bs\n",
    "# import regular expression lib\n",
    "import re\n",
    "# import multiprocessing lib to accelerate fetching data, windows does not support this lib\n",
    "from multiprocessing import Pool"
   ]
  },
  {
   "cell_type": "code",
   "execution_count": 2,
   "metadata": {
    "collapsed": true,
    "deletable": true,
    "editable": true
   },
   "outputs": [],
   "source": [
    "# read birds list into a dataframe\n",
    "birds_list = pd.read_csv(\"birds_list.csv\")"
   ]
  },
  {
   "cell_type": "code",
   "execution_count": 3,
   "metadata": {
    "collapsed": false,
    "deletable": true,
    "editable": true,
    "scrolled": true
   },
   "outputs": [
    {
     "data": {
      "text/html": [
       "<div>\n",
       "<table border=\"1\" class=\"dataframe\">\n",
       "  <thead>\n",
       "    <tr style=\"text-align: right;\">\n",
       "      <th></th>\n",
       "      <th>Unnamed: 0</th>\n",
       "      <th>Common name</th>\n",
       "      <th>Binomial</th>\n",
       "      <th>Notes</th>\n",
       "      <th>Category</th>\n",
       "      <th>Order</th>\n",
       "      <th>Family</th>\n",
       "      <th>colour</th>\n",
       "      <th>size</th>\n",
       "    </tr>\n",
       "  </thead>\n",
       "  <tbody>\n",
       "    <tr>\n",
       "      <th>0</th>\n",
       "      <td>0</td>\n",
       "      <td>Southern cassowary</td>\n",
       "      <td>Casuarius casuarius</td>\n",
       "      <td>NaN</td>\n",
       "      <td>Cassowaries</td>\n",
       "      <td>Casuariformes</td>\n",
       "      <td>Casuariidae</td>\n",
       "      <td>NaN</td>\n",
       "      <td>NaN</td>\n",
       "    </tr>\n",
       "    <tr>\n",
       "      <th>1</th>\n",
       "      <td>1</td>\n",
       "      <td>Emu</td>\n",
       "      <td>Dromaius novaehollandiae</td>\n",
       "      <td>NaN</td>\n",
       "      <td>Emus</td>\n",
       "      <td>Casuariformes</td>\n",
       "      <td>Dromaiidae</td>\n",
       "      <td>NaN</td>\n",
       "      <td>NaN</td>\n",
       "    </tr>\n",
       "    <tr>\n",
       "      <th>2</th>\n",
       "      <td>2</td>\n",
       "      <td>King Island emu</td>\n",
       "      <td>Dromaius ater</td>\n",
       "      <td>extinct</td>\n",
       "      <td>Emus</td>\n",
       "      <td>Casuariformes</td>\n",
       "      <td>Dromaiidae</td>\n",
       "      <td>NaN</td>\n",
       "      <td>NaN</td>\n",
       "    </tr>\n",
       "    <tr>\n",
       "      <th>3</th>\n",
       "      <td>3</td>\n",
       "      <td>Kangaroo Island emu</td>\n",
       "      <td>Dromaius baudinianus</td>\n",
       "      <td>extinct</td>\n",
       "      <td>Emus</td>\n",
       "      <td>Casuariformes</td>\n",
       "      <td>Dromaiidae</td>\n",
       "      <td>NaN</td>\n",
       "      <td>NaN</td>\n",
       "    </tr>\n",
       "    <tr>\n",
       "      <th>4</th>\n",
       "      <td>4</td>\n",
       "      <td>Australian brushturkey</td>\n",
       "      <td>Alectura lathami</td>\n",
       "      <td>NaN</td>\n",
       "      <td>Mound-builders</td>\n",
       "      <td>Galliformes</td>\n",
       "      <td>Megapodidae</td>\n",
       "      <td>NaN</td>\n",
       "      <td>NaN</td>\n",
       "    </tr>\n",
       "  </tbody>\n",
       "</table>\n",
       "</div>"
      ],
      "text/plain": [
       "   Unnamed: 0             Common name                  Binomial    Notes  \\\n",
       "0           0      Southern cassowary       Casuarius casuarius      NaN   \n",
       "1           1                     Emu  Dromaius novaehollandiae      NaN   \n",
       "2           2         King Island emu             Dromaius ater  extinct   \n",
       "3           3     Kangaroo Island emu      Dromaius baudinianus  extinct   \n",
       "4           4  Australian brushturkey          Alectura lathami      NaN   \n",
       "\n",
       "         Category          Order       Family  colour  size  \n",
       "0     Cassowaries  Casuariformes  Casuariidae     NaN   NaN  \n",
       "1            Emus  Casuariformes   Dromaiidae     NaN   NaN  \n",
       "2            Emus  Casuariformes   Dromaiidae     NaN   NaN  \n",
       "3            Emus  Casuariformes   Dromaiidae     NaN   NaN  \n",
       "4  Mound-builders    Galliformes  Megapodidae     NaN   NaN  "
      ]
     },
     "execution_count": 3,
     "metadata": {},
     "output_type": "execute_result"
    }
   ],
   "source": [
    "# check the head of the birds list\n",
    "birds_list.head()"
   ]
  },
  {
   "cell_type": "code",
   "execution_count": 4,
   "metadata": {
    "collapsed": false,
    "deletable": true,
    "editable": true
   },
   "outputs": [],
   "source": [
    "# convert the format of common name into lowercase with underscore, like 'australian_brushturkey'\n",
    "birds_list['Common_name_lowercase'] = birds_list['Common name'].str.lower()\n",
    "birds_list['Common_name_lowercase'] = birds_list['Common_name_lowercase'].str.replace(' ', '-')"
   ]
  },
  {
   "cell_type": "code",
   "execution_count": 5,
   "metadata": {
    "collapsed": false,
    "deletable": true,
    "editable": true
   },
   "outputs": [],
   "source": [
    "# gerenate all the links to http://www.oiseaux-birds.com/ for every bird\n",
    "link_prefix = 'http://www.oiseaux-birds.com/'\n",
    "birds_list['link'] = link_prefix + 'card-' + birds_list['Common_name_lowercase'] + '.html'"
   ]
  },
  {
   "cell_type": "code",
   "execution_count": 6,
   "metadata": {
    "collapsed": true,
    "deletable": true,
    "editable": true
   },
   "outputs": [],
   "source": [
    "# if one bird cannot found in http://www.oiseaux-birds.com/, then there will be a error page which length is 2282.\n",
    "ERROR_PAGE_LEN = 2282"
   ]
  },
  {
   "cell_type": "code",
   "execution_count": 7,
   "metadata": {
    "collapsed": true,
    "deletable": true,
    "editable": true
   },
   "outputs": [],
   "source": [
    "# try to get information for one specific bird\n",
    "\n",
    "url = \"http://www.oiseaux-birds.com/card-southern-cassowary.html\"\n",
    "# use Firefox as an user-agent, otherwise the connection will be rejected.\n",
    "req = Request(url, headers={'User-Agent': 'Mozilla/5.0'})\n",
    "# get the content of a webpage\n",
    "webpage = urlopen(req).read()\n",
    "# convert to string\n",
    "webpage_str = str(webpage)\n",
    "# initialize a beautiful soup with lxml engine\n",
    "soup = bs(webpage, \"lxml\")"
   ]
  },
  {
   "cell_type": "code",
   "execution_count": 8,
   "metadata": {
    "collapsed": true,
    "deletable": true,
    "editable": true
   },
   "outputs": [],
   "source": [
    "# use regular expression to get height, it it doesn't exist, leave it blank.\n",
    "height = re.search('Height:(.*?)<br />', webpage_str)\n",
    "if height:\n",
    "    height = height.group(1).strip()\n",
    "else:\n",
    "    height = pd.np.nan"
   ]
  },
  {
   "cell_type": "code",
   "execution_count": 9,
   "metadata": {
    "collapsed": false,
    "deletable": true,
    "editable": true
   },
   "outputs": [],
   "source": [
    "# use regular expression to get length, it it doesn't exist, leave it blank.\n",
    "length = re.search('Length:(.*?)<br />', webpage_str)\n",
    "if length:\n",
    "    length = length.group(1).strip()\n",
    "else:\n",
    "    length = pd.np.nan"
   ]
  },
  {
   "cell_type": "code",
   "execution_count": 10,
   "metadata": {
    "collapsed": true,
    "deletable": true,
    "editable": true
   },
   "outputs": [],
   "source": [
    "# use regular expression to get weight, it it doesn't exist, leave it blank.\n",
    "weight = re.search('Weight:(.*?)</p>', webpage_str)\n",
    "if weight:\n",
    "    weight = weight.group(1).strip()\n",
    "else:\n",
    "    weight = pd.np.nan"
   ]
  },
  {
   "cell_type": "code",
   "execution_count": 11,
   "metadata": {
    "collapsed": true,
    "deletable": true,
    "editable": true
   },
   "outputs": [],
   "source": [
    "# find all img tags in html file\n",
    "imgs = soup.find_all(\"img\")\n",
    "if imgs:\n",
    "    # list comprehension to have a list of complete link of img files\n",
    "    imgs = [link_prefix + img['src'] for img in imgs]\n",
    "else:\n",
    "    imgs = pd.np.nan"
   ]
  },
  {
   "cell_type": "code",
   "execution_count": 12,
   "metadata": {
    "collapsed": true,
    "deletable": true,
    "editable": true
   },
   "outputs": [],
   "source": [
    "# find the position of voice link by regular expression\n",
    "voice = re.search('VOICE(.*?)</a>', webpage_str)\n",
    "if voice:\n",
    "    voice = voice.group(1).strip()\n",
    "    voice = re.search('<a href=\"(.*?)\"', voice)\n",
    "    if voice:\n",
    "        voice = voice.group(1).strip()\n",
    "        \n",
    "        # The parent of parent of parent of a tag contains 'VOICE' is where the voice link is\n",
    "        for elem in soup(text=re.compile(r'VOICE')):\n",
    "            voice_text = elem.parent.parent.parent.get_text()\n",
    "            voice_text = voice_text[6:].strip()\n",
    "            #print(voice_text)\n",
    "            #print(voice)\n",
    "else:\n",
    "    voice = pd.np.nan\n",
    "    voice_text = pd.np.nan"
   ]
  },
  {
   "cell_type": "code",
   "execution_count": 13,
   "metadata": {
    "collapsed": false,
    "deletable": true,
    "editable": true
   },
   "outputs": [
    {
     "name": "stdout",
     "output_type": "stream",
     "text": [
      "Southern Cassowary frequents mainly the rainforest.  This species prefers virgin forests where it can live free from disturbances. \n",
      "    It is often found at medium elevation, in dense  tropical rainforest, but also in galleries and swamp forests.\n"
     ]
    }
   ],
   "source": [
    "# extract habitat by beautiful soup, if can not found, leave it blank\n",
    "habitat = re.search('HABITAT', webpage_str)\n",
    "if habitat:\n",
    "    for elem in soup(text=re.compile(r'HABITAT')):\n",
    "        habitat = elem.parent.parent.parent.get_text()\n",
    "        habitat = habitat[8:].strip()\n",
    "        print(habitat)\n",
    "else:\n",
    "    habitat = pd.np.nan"
   ]
  },
  {
   "cell_type": "code",
   "execution_count": 14,
   "metadata": {
    "collapsed": false,
    "deletable": true,
    "editable": true
   },
   "outputs": [
    {
     "name": "stdout",
     "output_type": "stream",
     "text": [
      "Southern Cassowary is the second largest and tallest  bird after the Ostrich. This species differs in general facts by the female.  She has the criterions of most of the other species’ males, such as brighter  colours, really much larger size, and she does not share the nesting duties  with the male.\n"
     ]
    }
   ],
   "source": [
    "# extract description by beautiful soup, if can not found, leave it blank\n",
    "description = re.search('DESCRIPTION OF THE BIRD', webpage_str)\n",
    "if description:\n",
    "    for elem in soup(text=re.compile(r'DESCRIPTION OF THE BIRD')):\n",
    "        description = elem.parent.parent.parent.parent.get_text()\n",
    "        description = description[25:].strip()\n",
    "        print(description)\n",
    "else:\n",
    "    description = re.search('DESCRIPTION', webpage_str)\n",
    "    if description:\n",
    "        for elem in soup(text=re.compile(r'DESCRIPTION')):\n",
    "            description = elem.parent.parent.parent.get_text()\n",
    "            description = description[12:].strip()\n",
    "            print(description)\n",
    "    else:\n",
    "        description = pd.np.nan"
   ]
  },
  {
   "cell_type": "code",
   "execution_count": 15,
   "metadata": {
    "collapsed": false,
    "deletable": true,
    "editable": true
   },
   "outputs": [
    {
     "name": "stdout",
     "output_type": "stream",
     "text": [
      "Southern Cassowary lives in Aru and Seram Islands  of Indonesia, in New Guinea and NE Australia.\n"
     ]
    }
   ],
   "source": [
    "# extract location by beautiful soup, if can not found, leave it blank\n",
    "# sadly only few birds have location information in Australia, most time are in other countries\n",
    "\n",
    "location = re.search('RANGE', webpage_str)\n",
    "if location:\n",
    "    for elem in soup(text=re.compile(r'RANGE')):\n",
    "        location = elem.parent.parent.parent.get_text()\n",
    "        location = location[6:].strip()\n",
    "        print(location)\n",
    "else:\n",
    "    location = pd.np.nan"
   ]
  },
  {
   "cell_type": "code",
   "execution_count": 16,
   "metadata": {
    "collapsed": false,
    "deletable": true,
    "editable": true
   },
   "outputs": [
    {
     "name": "stdout",
     "output_type": "stream",
     "text": [
      "Southern Cassowary does not fly. Its powerful legs and  feet allow it to run at speeds of up to 50 km per hour. It is able to jump up to 5 metres. It also can  swim, and cross lakes and wide rivers without any difficulty.\n"
     ]
    }
   ],
   "source": [
    "# extract movements by beautiful soup, if can not found, leave it blank\n",
    "movements = re.search('MOVEMENTS', webpage_str)\n",
    "if movements:\n",
    "    for elem in soup(text=re.compile(r'MOVEMENTS')):\n",
    "        movements = elem.parent.parent.parent.get_text()\n",
    "        movements = movements[10:].strip()\n",
    "        print(movements)\n",
    "else:\n",
    "    movements = pd.np.nan"
   ]
  },
  {
   "cell_type": "code",
   "execution_count": 17,
   "metadata": {
    "collapsed": false,
    "deletable": true,
    "editable": true
   },
   "outputs": [
    {
     "name": "stdout",
     "output_type": "stream",
     "text": [
      "Breeding season starts at the end of the dry season in  New Guinea, and from June to  October in Queensland. \n",
      "    The female copulates with several males, and  disappears as soon as the eggs are laid. \n",
      "    The nest is a shallow depression scraped in the  ground, with a lining of leaves and grasses. It is very well camouflaged in the  vegetation. \n",
      "    She lays 3 to 5 greenish eggs. Incubation by the male  lasts about 50 days. The male rears the chicks during about 9 months.\n"
     ]
    }
   ],
   "source": [
    "# extract reproduction by beautiful soup, if can not found, leave it blank\n",
    "reproduction = re.search('REPRODUCTION', webpage_str)\n",
    "if reproduction:\n",
    "    for elem in soup(text=re.compile(r'REPRODUCTION')):\n",
    "        reproduction = elem.parent.parent.parent.get_text()\n",
    "        reproduction = reproduction[13:].strip()\n",
    "        print(reproduction)\n",
    "else:\n",
    "    reproduction = pd.np.nan"
   ]
  },
  {
   "cell_type": "code",
   "execution_count": 18,
   "metadata": {
    "collapsed": false,
    "deletable": true,
    "editable": true
   },
   "outputs": [
    {
     "name": "stdout",
     "output_type": "stream",
     "text": [
      "Southern Cassowary feeds mainly on fallen fruits of  different plant’s species. It also consumes invertebrates, small vertebrates  and sometimes carrion.\n"
     ]
    }
   ],
   "source": [
    "# extract diet by beautiful soup, if can not found, leave it blank\n",
    "diet = re.search('DIET', webpage_str)\n",
    "if diet:\n",
    "    for elem in soup(text=re.compile(r'DIET')):\n",
    "        diet = elem.parent.parent.parent.get_text()\n",
    "        diet = diet[5:].strip()\n",
    "        print(diet)\n",
    "else:\n",
    "    diet = pd.np.nan"
   ]
  },
  {
   "cell_type": "code",
   "execution_count": 19,
   "metadata": {
    "collapsed": false,
    "deletable": true,
    "editable": true
   },
   "outputs": [
    {
     "name": "stdout",
     "output_type": "stream",
     "text": [
      "Southern Cassowary is fairly widespread in New Guinea, but  declines due to habitat loss and hunting occurred. Disturbances are also an  important fact in local declines.\n"
     ]
    }
   ],
   "source": [
    "# extract protection by beautiful soup, if can not found, leave it blank\n",
    "protection = re.search('PROTECTION', webpage_str)\n",
    "if protection:\n",
    "    for elem in soup(text=re.compile(r'PROTECTION')):\n",
    "        protection = elem.parent.parent.parent.get_text()\n",
    "        protection = protection[31:].strip()\n",
    "        print(protection)\n",
    "else:\n",
    "    protection = pd.np.nan"
   ]
  },
  {
   "cell_type": "code",
   "execution_count": 20,
   "metadata": {
    "collapsed": false,
    "deletable": true,
    "editable": true
   },
   "outputs": [
    {
     "name": "stdout",
     "output_type": "stream",
     "text": [
      "HANDBOOK  OF THE BIRDS OF THE WORLD vol 1 by Josep  del  Hoyo-Andrew Elliot-Jordi Sargatal - Lynx  Edicions - ISBN: 8487334105\n",
      "L’ENCYCLOPEDIE MONDIALE DES  OISEAUX - Dr  Christopher M. Perrins -  BORDAS -  ISBN: 2040185607\n",
      "Avibase (Lepage Denis)\n",
      "\n",
      "Birds in backyards (Birds Australia and Australian Museum) \n",
      "ARKive (Christopher Parsons) \n",
      "El Zoológico Electrónico (Damisela)\n"
     ]
    }
   ],
   "source": [
    "# extract sources by beautiful soup, if can not found, leave it blank\n",
    "sources = re.search('Sources', webpage_str)\n",
    "if sources:\n",
    "    for elem in soup(text=re.compile(r'Sources')):\n",
    "        sources = elem.parent.parent.parent.parent.get_text()\n",
    "        sources = sources[sources.find(\"Sources\") + 9:sources.find(\"Home page\")].strip()\n",
    "        print(sources)\n",
    "else:\n",
    "    sources = pd.np.nan"
   ]
  },
  {
   "cell_type": "code",
   "execution_count": 21,
   "metadata": {
    "collapsed": true,
    "deletable": true,
    "editable": true
   },
   "outputs": [],
   "source": [
    "# initialize some new columns\n",
    "birds_list['Height'] = ''\n",
    "birds_list['Length'] = ''\n",
    "birds_list['Weight'] = ''\n",
    "birds_list['Image'] = ''\n",
    "birds_list['Voice'] = ''\n",
    "birds_list['Habitat'] = ''\n",
    "birds_list['Description'] = ''\n",
    "birds_list['Range'] = ''\n",
    "birds_list['Movements'] = ''\n",
    "birds_list['Reproduction'] = ''\n",
    "birds_list['Diet'] = ''\n",
    "birds_list['Protection'] = ''\n",
    "birds_list['Sources'] = ''"
   ]
  },
  {
   "cell_type": "code",
   "execution_count": 22,
   "metadata": {
    "collapsed": false,
    "deletable": true,
    "editable": true
   },
   "outputs": [],
   "source": [
    "# define a error_list, if one bird can not find in this website, then add it into this list\n",
    "error_list = []\n",
    "\n",
    "# define a fetch function to get all the information for a multiprocessing pool\n",
    "def fetch(idx):\n",
    "    url = birds_list.ix[idx, 'link']\n",
    "    req = Request(url, headers={'User-Agent': 'Mozilla/5.0'})\n",
    "    webpage = urlopen(req).read()\n",
    "    webpage_str = str(webpage)\n",
    "    soup = bs(webpage, \"lxml\")\n",
    "    imgs_dict = dict()\n",
    "    \n",
    "    if len(webpage) == ERROR_PAGE_LEN:\n",
    "        error_list.append(idx)\n",
    "        return pd.np.nan\n",
    "    \n",
    "    height = re.search('Height:(.*?)<br />', webpage_str)\n",
    "    if height:\n",
    "        height = height.group(1).strip()\n",
    "    else:\n",
    "        height = pd.np.nan\n",
    "    \n",
    "    length = re.search('Length:(.*?)<br />', webpage_str)\n",
    "    if length:\n",
    "        length = length.group(1).strip()\n",
    "    else:\n",
    "        length = pd.np.nan\n",
    "\n",
    "    weight = re.search('Weight:(.*?)</p>', webpage_str)\n",
    "    if weight:\n",
    "        weight = weight.group(1).strip()\n",
    "    else:\n",
    "        weight = pd.np.nan\n",
    "    \n",
    "    imgs = soup.find_all(\"img\")\n",
    "    if imgs:\n",
    "        imgs = [link_prefix + img['src'] for img in imgs]\n",
    "    else:\n",
    "        imgs = pd.np.nan\n",
    "    \n",
    "    voice = re.search('VOICE(.*?)</a>', webpage_str)\n",
    "    if voice:\n",
    "        voice = voice.group(1).strip()\n",
    "        voice = re.search('<a href=\"(.*?)\"', voice)\n",
    "        if voice:\n",
    "            voice = voice.group(1).strip()\n",
    "\n",
    "            for elem in soup(text=re.compile(r'VOICE')):\n",
    "                voice_text = elem.parent.parent.parent.get_text()\n",
    "                voice_text = voice_text[6:].strip()\n",
    "                #print(voice_text)\n",
    "                #print(voice)\n",
    "    else:\n",
    "        voice = pd.np.nan\n",
    "        voice_text = pd.np.nan\n",
    "    \n",
    "    habitat = re.search('HABITAT', webpage_str)\n",
    "    if habitat:\n",
    "        for elem in soup(text=re.compile(r'HABITAT')):\n",
    "            habitat = elem.parent.parent.parent.get_text()\n",
    "            habitat = habitat[8:].strip()\n",
    "            #print(habitat)\n",
    "    else:\n",
    "        habitat = pd.np.nan\n",
    "    \n",
    "    description = re.search('DESCRIPTION OF THE BIRD', webpage_str)\n",
    "    if description:\n",
    "        for elem in soup(text=re.compile(r'DESCRIPTION OF THE BIRD')):\n",
    "            description = elem.parent.parent.parent.parent.get_text()\n",
    "            description = description[25:].strip()\n",
    "            # print(description)\n",
    "    else:\n",
    "        description = re.search('DESCRIPTION', webpage_str)\n",
    "        if description:\n",
    "            for elem in soup(text=re.compile(r'DESCRIPTION')):\n",
    "                description = elem.parent.parent.parent.get_text()\n",
    "                description = description[12:].strip()\n",
    "                # print(description)\n",
    "        else:\n",
    "            description = pd.np.nan\n",
    "    \n",
    "    location = re.search('RANGE', webpage_str)\n",
    "    if location:\n",
    "        for elem in soup(text=re.compile(r'RANGE')):\n",
    "            location = elem.parent.parent.parent.get_text()\n",
    "            location = location[6:].strip()\n",
    "            #print(location)\n",
    "    else:\n",
    "        location = pd.np.nan\n",
    "    \n",
    "    movements = re.search('MOVEMENTS', webpage_str)\n",
    "    if movements:\n",
    "        for elem in soup(text=re.compile(r'MOVEMENTS')):\n",
    "            movements = elem.parent.parent.parent.get_text()\n",
    "            movements = movements[10:].strip()\n",
    "            #print(movements)\n",
    "    else:\n",
    "        movements = pd.np.nan\n",
    "    \n",
    "    reproduction = re.search('REPRODUCTION', webpage_str)\n",
    "    if reproduction:\n",
    "        for elem in soup(text=re.compile(r'REPRODUCTION')):\n",
    "            reproduction = elem.parent.parent.parent.get_text()\n",
    "            reproduction = reproduction[13:].strip()\n",
    "            #print(reproduction)\n",
    "    else:\n",
    "        reproduction = pd.np.nan\n",
    "    \n",
    "    diet = re.search('DIET', webpage_str)\n",
    "    if diet:\n",
    "        for elem in soup(text=re.compile(r'DIET')):\n",
    "            diet = elem.parent.parent.parent.get_text()\n",
    "            diet = diet[5:].strip()\n",
    "            #print(diet)\n",
    "    else:\n",
    "        diet = pd.np.nan\n",
    "    \n",
    "    protection = re.search('PROTECTION', webpage_str)\n",
    "    if protection:\n",
    "        for elem in soup(text=re.compile(r'PROTECTION')):\n",
    "            protection = elem.parent.parent.parent.get_text()\n",
    "            protection = protection[31:].strip()\n",
    "            #print(protection)\n",
    "    else:\n",
    "        protection = pd.np.nan\n",
    "    \n",
    "    sources = re.search('Sources', webpage_str)\n",
    "    if sources:\n",
    "        for elem in soup(text=re.compile(r'Sources')):\n",
    "            sources = elem.parent.parent.parent.parent.get_text()\n",
    "            sources = sources[sources.find(\"Sources\") + 9:sources.find(\"Home page\")].strip()\n",
    "            #print(sources)\n",
    "    else:\n",
    "        sources = pd.np.nan\n",
    "    \n",
    "    birds_list.ix[idx, 'Height'] = height\n",
    "    birds_list.ix[idx, 'Length'] = length\n",
    "    birds_list.ix[idx, 'Weight'] = weight\n",
    "    if type(imgs) is float:\n",
    "        birds_list.ix[idx, 'Image'] = imgs\n",
    "    else:\n",
    "        birds_list.ix[idx, 'Image'] = imgs[0]\n",
    "        imgs_dict[idx] = imgs\n",
    "    birds_list.ix[idx, 'Voice'] = voice\n",
    "    birds_list.ix[idx, 'Habitat'] = habitat\n",
    "    birds_list.ix[idx, 'Description'] = description\n",
    "    birds_list.ix[idx, 'Range'] = location\n",
    "    birds_list.ix[idx, 'Movements'] = movements\n",
    "    birds_list.ix[idx, 'Reproduction'] = reproduction\n",
    "    birds_list.ix[idx, 'Diet'] = diet\n",
    "    birds_list.ix[idx, 'Protection'] = protection\n",
    "    birds_list.ix[idx, 'Sources'] = sources\n",
    "\n",
    "    imgs_dict[idx] = imgs\n",
    "    \n",
    "    return (birds_list.ix[idx], imgs_dict)"
   ]
  },
  {
   "cell_type": "markdown",
   "metadata": {},
   "source": [
    "#### Even with 20 process at one time, checking about 900 birds still takes very long time, seperate them into 5 parts, otherwise it may crash or get timeout when executing these tasks."
   ]
  },
  {
   "cell_type": "code",
   "execution_count": 24,
   "metadata": {
    "collapsed": false,
    "deletable": true,
    "editable": true
   },
   "outputs": [],
   "source": [
    "# Create a new Pool object\n",
    "multi_pool = Pool(processes=20)\n",
    "# Extract all info\n",
    "new_bird_list = multi_pool.map(fetch, range(200))\n",
    "# Close Multiprocessing Pool\n",
    "multi_pool.close()"
   ]
  },
  {
   "cell_type": "code",
   "execution_count": 25,
   "metadata": {
    "collapsed": false,
    "deletable": true,
    "editable": true
   },
   "outputs": [],
   "source": [
    "# Create a new Pool object\n",
    "multi_pool = Pool(processes=20)\n",
    "# Extract all info\n",
    "new_bird_list1 = multi_pool.map(fetch, range(200, 400))\n",
    "# Close Multiprocessing Pool\n",
    "multi_pool.close()"
   ]
  },
  {
   "cell_type": "code",
   "execution_count": 26,
   "metadata": {
    "collapsed": true,
    "deletable": true,
    "editable": true
   },
   "outputs": [],
   "source": [
    "# Create a new Pool object\n",
    "multi_pool = Pool(processes=20)\n",
    "# Extract all info\n",
    "new_bird_list2 = multi_pool.map(fetch, range(400, 600))\n",
    "# Close Multiprocessing Pool\n",
    "multi_pool.close()"
   ]
  },
  {
   "cell_type": "code",
   "execution_count": 27,
   "metadata": {
    "collapsed": true,
    "deletable": true,
    "editable": true
   },
   "outputs": [],
   "source": [
    "# Create a new Pool object\n",
    "multi_pool = Pool(processes=20)\n",
    "# Extract all info\n",
    "new_bird_list3 = multi_pool.map(fetch, range(600, 800))\n",
    "# Close Multiprocessing Pool\n",
    "multi_pool.close()"
   ]
  },
  {
   "cell_type": "code",
   "execution_count": 28,
   "metadata": {
    "collapsed": true,
    "deletable": true,
    "editable": true
   },
   "outputs": [],
   "source": [
    "# Create a new Pool object\n",
    "multi_pool = Pool(processes=20)\n",
    "# Extract all info\n",
    "new_bird_list4 = multi_pool.map(fetch, range(800, len(birds_list)))\n",
    "# Close Multiprocessing Pool\n",
    "multi_pool.close()"
   ]
  },
  {
   "cell_type": "code",
   "execution_count": 30,
   "metadata": {
    "collapsed": true,
    "deletable": true,
    "editable": true
   },
   "outputs": [],
   "source": [
    "# combine all 5 parts data into one list\n",
    "birds_list_cleaned = new_bird_list + new_bird_list1 + new_bird_list2 + new_bird_list3 + new_bird_list4\n",
    "birds_list_cleaned = [bird for bird in birds_list_cleaned if type(bird) is not float]"
   ]
  },
  {
   "cell_type": "code",
   "execution_count": 31,
   "metadata": {
    "collapsed": false,
    "deletable": true,
    "editable": true
   },
   "outputs": [
    {
     "data": {
      "text/plain": [
       "235"
      ]
     },
     "execution_count": 31,
     "metadata": {},
     "output_type": "execute_result"
    }
   ],
   "source": [
    "# check how many birds have got in oiseaux-birds\n",
    "len(birds_list_cleaned)"
   ]
  },
  {
   "cell_type": "code",
   "execution_count": 32,
   "metadata": {
    "collapsed": false,
    "deletable": true,
    "editable": true
   },
   "outputs": [],
   "source": [
    "imgs_list = [bird[1] for bird in birds_list_cleaned]\n",
    "birds_list_cleaned = [bird[0] for bird in birds_list_cleaned]"
   ]
  },
  {
   "cell_type": "code",
   "execution_count": 33,
   "metadata": {
    "collapsed": false,
    "deletable": true,
    "editable": true
   },
   "outputs": [
    {
     "data": {
      "text/plain": [
       "Index(['Idx', 'Common name', 'Binomial', 'Notes', 'Category', 'Order',\n",
       "       'Family', 'colour', 'size', 'Common_name_lowercase', 'link', 'Height',\n",
       "       'Length', 'Weight', 'Image', 'Voice', 'Habitat', 'Description', 'Range',\n",
       "       'Movements', 'Reproduction', 'Diet', 'Protection', 'Sources'],\n",
       "      dtype='object')"
      ]
     },
     "execution_count": 33,
     "metadata": {},
     "output_type": "execute_result"
    }
   ],
   "source": [
    "# create a new dataframe with data from oiseaux-birds\n",
    "birds_new_df = pd.DataFrame(birds_list_cleaned)\n",
    "birds_new_df = birds_new_df.rename(columns={'Unnamed: 0': 'Idx'})\n",
    "birds_new_df.columns"
   ]
  },
  {
   "cell_type": "code",
   "execution_count": 34,
   "metadata": {
    "collapsed": true,
    "deletable": true,
    "editable": true
   },
   "outputs": [],
   "source": [
    "# create a img dataframe to store all img links for each birds\n",
    "imgs_dict = dict()\n",
    "for imgs in imgs_list:\n",
    "    imgs_dict.update(imgs)\n",
    "\n",
    "imgs_df = pd.DataFrame(dict([(k, pd.Series(v)) for k,v in imgs_dict.items()]))"
   ]
  },
  {
   "cell_type": "code",
   "execution_count": 35,
   "metadata": {
    "collapsed": false,
    "deletable": true,
    "editable": true
   },
   "outputs": [],
   "source": [
    "# save new dataframe to csv file\n",
    "birds_new_df.to_csv(\"birds.csv\")\n",
    "imgs_df.to_csv(\"imgs.csv\")"
   ]
  },
  {
   "cell_type": "code",
   "execution_count": 36,
   "metadata": {
    "collapsed": false,
    "deletable": true,
    "editable": true
   },
   "outputs": [],
   "source": [
    "# create new dataframe to store the birds cannot find in oiseaux and save it to a csv file\n",
    "incomplete_df = birds_list[~birds_list.index.isin(birds_new_df.index)]\n",
    "incomplete_df.to_csv(\"can_not_find_in_oiseaux.csv\")"
   ]
  }
 ],
 "metadata": {
  "kernelspec": {
   "display_name": "Python 3",
   "language": "python",
   "name": "python3"
  },
  "language_info": {
   "codemirror_mode": {
    "name": "ipython",
    "version": 3
   },
   "file_extension": ".py",
   "mimetype": "text/x-python",
   "name": "python",
   "nbconvert_exporter": "python",
   "pygments_lexer": "ipython3",
   "version": "3.6.1"
  }
 },
 "nbformat": 4,
 "nbformat_minor": 2
}
