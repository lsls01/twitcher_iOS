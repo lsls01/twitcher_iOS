{
 "cells": [
  {
   "cell_type": "code",
   "execution_count": 1,
   "metadata": {
    "collapsed": true
   },
   "outputs": [],
   "source": [
    "# import pandas, urllib, os library\n",
    "import pandas as pd\n",
    "import urllib.request\n",
    "import os\n",
    "from PIL import Image\n",
    "import io"
   ]
  },
  {
   "cell_type": "code",
   "execution_count": 2,
   "metadata": {
    "collapsed": true
   },
   "outputs": [],
   "source": [
    "# read the imgs link csv\n",
    "imgs_df = pd.read_csv(\"imgs.csv\")\n",
    "\n",
    "# remove unused column\n",
    "del imgs_df['Unnamed: 0']\n",
    "\n",
    "# get the transpose of the dataframe\n",
    "imgs_T_df = imgs_df.T\n",
    "\n",
    "# get the column names into a list\n",
    "columns_name = imgs_T_df.columns"
   ]
  },
  {
   "cell_type": "code",
   "execution_count": 3,
   "metadata": {
    "collapsed": true,
    "scrolled": true
   },
   "outputs": [],
   "source": [
    "# initialize 5 set data structure, split downloading process to 5 part for the downloading processing is really slow\n",
    "# and there will encounter timeout error or file cannot find\n",
    "imgs_list = list(imgs_T_df.index)"
   ]
  },
  {
   "cell_type": "code",
   "execution_count": 4,
   "metadata": {
    "collapsed": true
   },
   "outputs": [],
   "source": [
    "directory = 'images'"
   ]
  },
  {
   "cell_type": "code",
   "execution_count": 5,
   "metadata": {
    "collapsed": true
   },
   "outputs": [],
   "source": [
    "def convert_imgs(img, filename):\n",
    "    image = Image.open(img)\n",
    "    ram = io.BytesIO()\n",
    "    image.save(ram, format='png', optimize=True)\n",
    "    ram.seek(0)\n",
    "    im = Image.open(ram)\n",
    "    im2 = im.convert('RGB').convert('P', palette=Image.ADAPTIVE)\n",
    "    im2.save(directory + '/' + filename, format='png', optimize=True)"
   ]
  },
  {
   "cell_type": "code",
   "execution_count": 6,
   "metadata": {},
   "outputs": [],
   "source": [
    "# download files\n",
    "def download_imgs(imgs_list):\n",
    "    for idx in imgs_list:\n",
    "        if not os.path.exists(directory):\n",
    "            os.makedirs(directory)\n",
    "        for column in columns_name:\n",
    "            img_url = imgs_T_df.ix[idx][column]\n",
    "            if type(img_url) is not float:\n",
    "                filename = str(idx) + \"_\" + str(column) + \".png\"\n",
    "                name_with_path = directory + '/' + filename\n",
    "                if os.path.isfile(name_with_path):\n",
    "                    continue\n",
    "                try:\n",
    "                    request = urllib.request.urlopen(img_url, timeout=5)\n",
    "                    with open(name_with_path, 'wb') as f:\n",
    "                        f.write(request.read())\n",
    "                    convert_imgs(name_with_path, filename)\n",
    "                except:\n",
    "                    pass\n",
    "            else:\n",
    "                break"
   ]
  },
  {
   "cell_type": "code",
   "execution_count": 7,
   "metadata": {
    "collapsed": true
   },
   "outputs": [],
   "source": [
    "download_imgs(imgs_list[0:50])"
   ]
  },
  {
   "cell_type": "code",
   "execution_count": 8,
   "metadata": {
    "collapsed": true
   },
   "outputs": [],
   "source": [
    "download_imgs(imgs_list[50:100])"
   ]
  },
  {
   "cell_type": "code",
   "execution_count": 9,
   "metadata": {
    "collapsed": true
   },
   "outputs": [],
   "source": [
    "download_imgs(imgs_list[100:150])"
   ]
  },
  {
   "cell_type": "code",
   "execution_count": 10,
   "metadata": {
    "collapsed": true
   },
   "outputs": [],
   "source": [
    "download_imgs(imgs_list[150:200])"
   ]
  },
  {
   "cell_type": "code",
   "execution_count": 11,
   "metadata": {
    "collapsed": true
   },
   "outputs": [],
   "source": [
    "download_imgs(imgs_list[200:])"
   ]
  },
  {
   "cell_type": "code",
   "execution_count": null,
   "metadata": {
    "collapsed": true
   },
   "outputs": [],
   "source": []
  }
 ],
 "metadata": {
  "kernelspec": {
   "display_name": "Python 3",
   "language": "python",
   "name": "python3"
  },
  "language_info": {
   "codemirror_mode": {
    "name": "ipython",
    "version": 3
   },
   "file_extension": ".py",
   "mimetype": "text/x-python",
   "name": "python",
   "nbconvert_exporter": "python",
   "pygments_lexer": "ipython3",
   "version": "3.6.1"
  }
 },
 "nbformat": 4,
 "nbformat_minor": 2
}
