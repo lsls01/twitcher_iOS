{
 "cells": [
  {
   "cell_type": "code",
   "execution_count": 1,
   "metadata": {
    "collapsed": true,
    "deletable": true,
    "editable": true
   },
   "outputs": [],
   "source": [
    "import pandas as pd\n",
    "import os"
   ]
  },
  {
   "cell_type": "code",
   "execution_count": 2,
   "metadata": {
    "collapsed": true,
    "deletable": true,
    "editable": true
   },
   "outputs": [],
   "source": [
    "imgs_df = pd.read_csv(\"imgs.csv\")\n",
    "\n",
    "del imgs_df['Unnamed: 0']\n",
    "\n",
    "imgs_T_df = imgs_df.T\n",
    "\n",
    "columns_name = imgs_T_df.columns"
   ]
  },
  {
   "cell_type": "code",
   "execution_count": 3,
   "metadata": {
    "collapsed": false,
    "deletable": true,
    "editable": true,
    "scrolled": true
   },
   "outputs": [],
   "source": [
    "columns_name = imgs_T_df.columns\n",
    "imgs_list = list(imgs_T_df.index)"
   ]
  },
  {
   "cell_type": "code",
   "execution_count": 6,
   "metadata": {
    "collapsed": false,
    "deletable": true,
    "editable": true
   },
   "outputs": [],
   "source": [
    "for idx in imgs_list:\n",
    "    directory = 'imgs_jpeg/' + str(idx)\n",
    "    directory_1 = str(idx)\n",
    "    for column in columns_name:\n",
    "        img_url = imgs_T_df.ix[idx][column]\n",
    "        if type(img_url) is not float:\n",
    "            filename = directory + \"/\" + str(column) + \".jpg\"\n",
    "            des_name = \"imgs_aio/\" + directory_1 + \"_\" + str(column) + \".jpg\"\n",
    "            if os.path.isfile(filename):\n",
    "                os.rename(filename, des_name)\n",
    "        else:\n",
    "            break"
   ]
  },
  {
   "cell_type": "code",
   "execution_count": null,
   "metadata": {
    "collapsed": true
   },
   "outputs": [],
   "source": []
  }
 ],
 "metadata": {
  "kernelspec": {
   "display_name": "Python 3",
   "language": "python",
   "name": "python3"
  },
  "language_info": {
   "codemirror_mode": {
    "name": "ipython",
    "version": 3
   },
   "file_extension": ".py",
   "mimetype": "text/x-python",
   "name": "python",
   "nbconvert_exporter": "python",
   "pygments_lexer": "ipython3",
   "version": "3.6.1"
  }
 },
 "nbformat": 4,
 "nbformat_minor": 2
}
