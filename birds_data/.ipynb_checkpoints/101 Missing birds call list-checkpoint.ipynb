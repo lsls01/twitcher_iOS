{
 "cells": [
  {
   "cell_type": "code",
   "execution_count": 1,
   "metadata": {
    "collapsed": true
   },
   "outputs": [],
   "source": [
    "# import pandas to deal with DataFrame\n",
    "import pandas as pd\n",
    "# import os lib to check if a file is exist\n",
    "import os"
   ]
  },
  {
   "cell_type": "code",
   "execution_count": 2,
   "metadata": {
    "collapsed": true
   },
   "outputs": [],
   "source": [
    "# load dataframe file\n",
    "birds_df = pd.read_csv(\"birds_April_6.csv\")\n",
    "# delete useless column\n",
    "del birds_df['Unnamed: 0']\n",
    "# reset index\n",
    "birds_df.set_index('Idx', inplace=True)"
   ]
  },
  {
   "cell_type": "code",
   "execution_count": 3,
   "metadata": {},
   "outputs": [],
   "source": [
    "# assign directory\n",
    "directory = 'voice/'\n",
    "# assign index list\n",
    "index_list = birds_df.index"
   ]
  },
  {
   "cell_type": "code",
   "execution_count": 4,
   "metadata": {},
   "outputs": [],
   "source": [
    "missing_index_list = []\n",
    "for idx in index_list:\n",
    "    filename = directory + str(idx) + '.mp3'\n",
    "    if not os.path.isfile(filename):\n",
    "        missing_index_list.append(idx)"
   ]
  },
  {
   "cell_type": "code",
   "execution_count": 5,
   "metadata": {
    "scrolled": true
   },
   "outputs": [
    {
     "data": {
      "text/plain": [
       "157"
      ]
     },
     "execution_count": 5,
     "metadata": {},
     "output_type": "execute_result"
    }
   ],
   "source": [
    "# check how many birds still need birds call\n",
    "len(missing_index_list)"
   ]
  },
  {
   "cell_type": "code",
   "execution_count": 6,
   "metadata": {},
   "outputs": [],
   "source": [
    "# create a new dataframe to store the birds missing bird calls\n",
    "missing_birds_df = birds_df.ix[missing_index_list, ['Common name', 'Binomial']]\n",
    "# initilize a new column to store voice url\n",
    "missing_birds_df['voice_url'] = pd.np.nan"
   ]
  },
  {
   "cell_type": "code",
   "execution_count": 7,
   "metadata": {
    "collapsed": true
   },
   "outputs": [],
   "source": [
    "missing_birds_df.to_csv(\"101 missing birds call list.csv\")"
   ]
  }
 ],
 "metadata": {
  "kernelspec": {
   "display_name": "Python 3",
   "language": "python",
   "name": "python3"
  },
  "language_info": {
   "codemirror_mode": {
    "name": "ipython",
    "version": 3
   },
   "file_extension": ".py",
   "mimetype": "text/x-python",
   "name": "python",
   "nbconvert_exporter": "python",
   "pygments_lexer": "ipython3",
   "version": "3.6.1"
  }
 },
 "nbformat": 4,
 "nbformat_minor": 2
}
