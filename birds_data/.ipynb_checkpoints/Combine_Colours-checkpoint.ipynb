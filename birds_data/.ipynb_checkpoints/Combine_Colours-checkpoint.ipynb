{
 "cells": [
  {
   "cell_type": "code",
   "execution_count": 1,
   "metadata": {
    "collapsed": true,
    "deletable": true,
    "editable": true
   },
   "outputs": [],
   "source": [
    "import pandas as pd\n",
    "import re"
   ]
  },
  {
   "cell_type": "code",
   "execution_count": 2,
   "metadata": {
    "collapsed": true,
    "deletable": true,
    "editable": true
   },
   "outputs": [],
   "source": [
    "colour_df = pd.read_csv(\"birds_LR_added.csv\")\n",
    "ori_df = pd.read_csv(\"birds.csv\")"
   ]
  },
  {
   "cell_type": "code",
   "execution_count": 3,
   "metadata": {
    "collapsed": true,
    "deletable": true,
    "editable": true
   },
   "outputs": [],
   "source": [
    "del ori_df['Unnamed: 0']\n",
    "ori_df.set_index(ori_df['Idx'], inplace=True)\n",
    "del colour_df['Unnamed: 0.1']\n",
    "colour_df.rename(columns={\"Unnamed: 0\": \"Idx\"}, inplace=True)\n",
    "colour_df.set_index(colour_df['Idx'], inplace=True)\n",
    "ori_df['colour'] = colour_df['colour']"
   ]
  },
  {
   "cell_type": "code",
   "execution_count": 4,
   "metadata": {
    "collapsed": true,
    "deletable": true,
    "editable": true
   },
   "outputs": [],
   "source": [
    "def clean_length(length):\n",
    "    if type(length) is float:\n",
    "        return length\n",
    "    # length = re.search('(.*?)cm', length)\n",
    "    length = re.search('(\\d*-\\d*).*cm', length)\n",
    "    if length:\n",
    "        length = length.group(1).strip()\n",
    "    else:\n",
    "        length = pd.np.nan\n",
    "    return length"
   ]
  },
  {
   "cell_type": "code",
   "execution_count": 5,
   "metadata": {
    "collapsed": false,
    "deletable": true,
    "editable": true
   },
   "outputs": [],
   "source": [
    "ori_df['Length'] = ori_df['Length'].map(clean_length)"
   ]
  },
  {
   "cell_type": "code",
   "execution_count": 6,
   "metadata": {
    "collapsed": true,
    "deletable": true,
    "editable": true
   },
   "outputs": [],
   "source": [
    "def clean_weight(weight):\n",
    "    if type(weight) is float:\n",
    "        return weight\n",
    "    # length = re.search('(.*?)cm', length)\n",
    "    weight_kg = re.search('(\\d*-\\d*).*kg', weight)\n",
    "    weight_g = re.search('(\\d*-\\d*).*[^k]g', weight)\n",
    "    if weight_kg:\n",
    "        weight = weight_kg.group(1).strip()\n",
    "        weight = str(int(weight.split('-')[0]) * 1000) + '-' + str(int(weight.split('-')[1]) * 1000)\n",
    "    elif weight_g:\n",
    "        weight = weight_g.group(1).strip()\n",
    "    else:\n",
    "        weight = pd.np.nan\n",
    "    return weight"
   ]
  },
  {
   "cell_type": "code",
   "execution_count": 7,
   "metadata": {
    "collapsed": true,
    "deletable": true,
    "editable": true
   },
   "outputs": [],
   "source": [
    "ori_df['Weight'] = ori_df['Weight'].map(clean_weight)"
   ]
  },
  {
   "cell_type": "code",
   "execution_count": 8,
   "metadata": {
    "collapsed": false,
    "deletable": true,
    "editable": true
   },
   "outputs": [],
   "source": [
    "ori_df['min_length'] = ori_df['Length'].map(lambda x: x.split('-')[0] if type(x) is str else x)\n",
    "ori_df['max_length'] = ori_df['Length'].map(lambda x: x.split('-')[1] if type(x) is str else x)\n",
    "\n",
    "ori_df['min_weight'] = ori_df['Weight'].map(lambda x: x.split('-')[0] if type(x) is str else x)\n",
    "ori_df['max_weight'] = ori_df['Weight'].map(lambda x: x.split('-')[1] if type(x) is str else x)"
   ]
  },
  {
   "cell_type": "code",
   "execution_count": 9,
   "metadata": {
    "collapsed": true,
    "deletable": true,
    "editable": true
   },
   "outputs": [],
   "source": [
    "def clean_description(description):\n",
    "    if type(description) is float:\n",
    "        return description\n",
    "    if description.startswith('OF THE BIRD:'):\n",
    "        description = description[13:]\n",
    "    if description.startswith('OF THIS SPECIES:'):\n",
    "        description = description[17:]\n",
    "    return description.strip()"
   ]
  },
  {
   "cell_type": "code",
   "execution_count": 10,
   "metadata": {
    "collapsed": false,
    "deletable": true,
    "editable": true
   },
   "outputs": [],
   "source": [
    "ori_df['Description'] = ori_df['Description'].map(clean_description)"
   ]
  },
  {
   "cell_type": "code",
   "execution_count": 11,
   "metadata": {
    "collapsed": false,
    "deletable": true,
    "editable": true
   },
   "outputs": [],
   "source": [
    "ori_df['colour'] = ori_df['colour'].map(lambda x: x.replace('and', ':') if type(x) is str and 'and' in x else x)\n",
    "ori_df['colour'] = ori_df['colour'].map(lambda x: x.replace('&', ':') if type(x) is str and '&' in x else x)\n",
    "\n",
    "ori_df['colour1'] = ori_df['colour'].map(lambda x: x.split(':')[0].strip() if type(x) is str and ':' in x else x)\n",
    "ori_df['colour2'] = ori_df['colour'].map(lambda x: x.split(':')[1].strip() if type(x) is str and ':' in x \n",
    "                                         else pd.np.nan)\n",
    "ori_df['colour3'] = ori_df['colour'].map(lambda x: x.split(':')[2].strip() if type(x) is str and ':' in x and \n",
    "                                         len(x.split(':')) == 3 else pd.np.nan)"
   ]
  },
  {
   "cell_type": "code",
   "execution_count": 12,
   "metadata": {
    "collapsed": false,
    "deletable": true,
    "editable": true
   },
   "outputs": [],
   "source": [
    "new_df = ori_df[['Common name', 'Binomial', 'Category', 'Order', 'Family', 'colour1', 'colour2', 'colour3', \n",
    "                 'min_length', 'max_length', 'min_weight', 'max_weight', 'Voice', 'Description', 'Diet', 'Sources']]"
   ]
  },
  {
   "cell_type": "code",
   "execution_count": 13,
   "metadata": {
    "collapsed": true,
    "deletable": true,
    "editable": true
   },
   "outputs": [],
   "source": [
    "new_df.to_csv(\"birds_with_all_colour_added_Apri_5_2017.csv\")"
   ]
  },
  {
   "cell_type": "code",
   "execution_count": 21,
   "metadata": {
    "collapsed": false,
    "deletable": true,
    "editable": true
   },
   "outputs": [
    {
     "data": {
      "text/plain": [
       "Index(['Idx', 'Common name', 'Binomial', 'Notes', 'Category', 'Order',\n",
       "       'Family', 'colour', 'size', 'Common_name_lowercase', 'link', 'Height',\n",
       "       'Length', 'Weight', 'Image', 'Voice', 'Habitat', 'Description', 'Range',\n",
       "       'Movements', 'Reproduction', 'Diet', 'Protection', 'Sources'],\n",
       "      dtype='object')"
      ]
     },
     "execution_count": 21,
     "metadata": {},
     "output_type": "execute_result"
    }
   ],
   "source": [
    "ori_df.columns"
   ]
  },
  {
   "cell_type": "markdown",
   "metadata": {
    "deletable": true,
    "editable": true
   },
   "source": [
    "Pivotal"
   ]
  }
 ],
 "metadata": {
  "kernelspec": {
   "display_name": "Python 3",
   "language": "python",
   "name": "python3"
  },
  "language_info": {
   "codemirror_mode": {
    "name": "ipython",
    "version": 3
   },
   "file_extension": ".py",
   "mimetype": "text/x-python",
   "name": "python",
   "nbconvert_exporter": "python",
   "pygments_lexer": "ipython3",
   "version": "3.6.1"
  }
 },
 "nbformat": 4,
 "nbformat_minor": 2
}
