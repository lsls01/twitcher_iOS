{
 "cells": [
  {
   "cell_type": "code",
   "execution_count": 1,
   "metadata": {
    "collapsed": true
   },
   "outputs": [],
   "source": [
    "import pandas as pd"
   ]
  },
  {
   "cell_type": "code",
   "execution_count": 2,
   "metadata": {
    "collapsed": true
   },
   "outputs": [],
   "source": [
    "df = pd.read_csv(\"birds_April_13.csv\")"
   ]
  },
  {
   "cell_type": "code",
   "execution_count": 3,
   "metadata": {
    "collapsed": true
   },
   "outputs": [],
   "source": [
    "df.rename(columns={'Idx': 'id'}, inplace=True)"
   ]
  },
  {
   "cell_type": "code",
   "execution_count": 4,
   "metadata": {
    "collapsed": true
   },
   "outputs": [],
   "source": [
    "df.rename(columns={'Common_name': 'common_name', 'Binomial': 'binomial', 'Category': 'category', 'Order': 'order',\n",
    "                   'Family': 'family', 'Diet': 'diet', 'Sources': 'sources', 'Description': 'description', 'Voice': 'voice'},\n",
    "          inplace=True)"
   ]
  },
  {
   "cell_type": "code",
   "execution_count": 9,
   "metadata": {
    "collapsed": true
   },
   "outputs": [],
   "source": [
    "df.rename(columns={'description': 'descriptions'}, inplace=True)"
   ]
  },
  {
   "cell_type": "code",
   "execution_count": 5,
   "metadata": {
    "collapsed": true
   },
   "outputs": [],
   "source": [
    "df.set_index('id', inplace=True)"
   ]
  },
  {
   "cell_type": "code",
   "execution_count": 6,
   "metadata": {},
   "outputs": [
    {
     "data": {
      "text/html": [
       "<div>\n",
       "<table border=\"1\" class=\"dataframe\">\n",
       "  <thead>\n",
       "    <tr style=\"text-align: right;\">\n",
       "      <th></th>\n",
       "      <th>common_name</th>\n",
       "      <th>binomial</th>\n",
       "      <th>category</th>\n",
       "      <th>order</th>\n",
       "      <th>family</th>\n",
       "      <th>colour1</th>\n",
       "      <th>colour2</th>\n",
       "      <th>colour3</th>\n",
       "      <th>min_length</th>\n",
       "      <th>max_length</th>\n",
       "      <th>...</th>\n",
       "      <th>diet</th>\n",
       "      <th>sources</th>\n",
       "      <th>vic</th>\n",
       "      <th>nsw</th>\n",
       "      <th>qld</th>\n",
       "      <th>act</th>\n",
       "      <th>nt</th>\n",
       "      <th>sa</th>\n",
       "      <th>tas</th>\n",
       "      <th>wa</th>\n",
       "    </tr>\n",
       "    <tr>\n",
       "      <th>id</th>\n",
       "      <th></th>\n",
       "      <th></th>\n",
       "      <th></th>\n",
       "      <th></th>\n",
       "      <th></th>\n",
       "      <th></th>\n",
       "      <th></th>\n",
       "      <th></th>\n",
       "      <th></th>\n",
       "      <th></th>\n",
       "      <th></th>\n",
       "      <th></th>\n",
       "      <th></th>\n",
       "      <th></th>\n",
       "      <th></th>\n",
       "      <th></th>\n",
       "      <th></th>\n",
       "      <th></th>\n",
       "      <th></th>\n",
       "      <th></th>\n",
       "      <th></th>\n",
       "    </tr>\n",
       "  </thead>\n",
       "  <tbody>\n",
       "    <tr>\n",
       "      <th>0</th>\n",
       "      <td>Southern cassowary</td>\n",
       "      <td>Casuarius casuarius</td>\n",
       "      <td>Cassowaries</td>\n",
       "      <td>Casuariformes</td>\n",
       "      <td>Casuariidae</td>\n",
       "      <td>black</td>\n",
       "      <td>blue</td>\n",
       "      <td>red</td>\n",
       "      <td>150.0</td>\n",
       "      <td>200.0</td>\n",
       "      <td>...</td>\n",
       "      <td>Southern Cassowary feeds mainly on fallen frui...</td>\n",
       "      <td>HANDBOOK  OF THE BIRDS OF THE WORLD vol 1 by J...</td>\n",
       "      <td>NaN</td>\n",
       "      <td>NaN</td>\n",
       "      <td>1.0</td>\n",
       "      <td>NaN</td>\n",
       "      <td>NaN</td>\n",
       "      <td>NaN</td>\n",
       "      <td>NaN</td>\n",
       "      <td>NaN</td>\n",
       "    </tr>\n",
       "    <tr>\n",
       "      <th>1</th>\n",
       "      <td>Emu</td>\n",
       "      <td>Dromaius novaehollandiae</td>\n",
       "      <td>Emus</td>\n",
       "      <td>Casuariformes</td>\n",
       "      <td>Dromaiidae</td>\n",
       "      <td>brown</td>\n",
       "      <td>NaN</td>\n",
       "      <td>NaN</td>\n",
       "      <td>150.0</td>\n",
       "      <td>190.0</td>\n",
       "      <td>...</td>\n",
       "      <td>The Emu  is omnivorous, but it feeds regularly...</td>\n",
       "      <td>HANDBOOK OF THE BIRDS OF THE WORLD vol 1 by Jo...</td>\n",
       "      <td>1.0</td>\n",
       "      <td>1.0</td>\n",
       "      <td>1.0</td>\n",
       "      <td>1.0</td>\n",
       "      <td>NaN</td>\n",
       "      <td>1.0</td>\n",
       "      <td>1.0</td>\n",
       "      <td>1.0</td>\n",
       "    </tr>\n",
       "    <tr>\n",
       "      <th>6</th>\n",
       "      <td>Orange-footed scrubfowl</td>\n",
       "      <td>Megapodius reinwardt</td>\n",
       "      <td>Mound-builders</td>\n",
       "      <td>Galliformes</td>\n",
       "      <td>Megapodidae</td>\n",
       "      <td>brown</td>\n",
       "      <td>blue</td>\n",
       "      <td>NaN</td>\n",
       "      <td>35.0</td>\n",
       "      <td>47.0</td>\n",
       "      <td>...</td>\n",
       "      <td>Orange-footed Scrubfowl feeds mainly on seeds,...</td>\n",
       "      <td>HANDBOOK  OF THE BIRDS OF THE WORLD Vol 2 by J...</td>\n",
       "      <td>NaN</td>\n",
       "      <td>NaN</td>\n",
       "      <td>1.0</td>\n",
       "      <td>NaN</td>\n",
       "      <td>1.0</td>\n",
       "      <td>NaN</td>\n",
       "      <td>NaN</td>\n",
       "      <td>1.0</td>\n",
       "    </tr>\n",
       "    <tr>\n",
       "      <th>10</th>\n",
       "      <td>Indian peafowl</td>\n",
       "      <td>Pavo cristatus</td>\n",
       "      <td>Pheasants</td>\n",
       "      <td>Galliformes</td>\n",
       "      <td>Phasianidae</td>\n",
       "      <td>Blue</td>\n",
       "      <td>green</td>\n",
       "      <td>NaN</td>\n",
       "      <td>180.0</td>\n",
       "      <td>230.0</td>\n",
       "      <td>...</td>\n",
       "      <td>The Indian Peafowl is omnivorous, feeding on p...</td>\n",
       "      <td>HANDBOOK OF THE BIRDS OF THE WORLD Vol 2 by Jo...</td>\n",
       "      <td>NaN</td>\n",
       "      <td>1.0</td>\n",
       "      <td>1.0</td>\n",
       "      <td>1.0</td>\n",
       "      <td>NaN</td>\n",
       "      <td>1.0</td>\n",
       "      <td>1.0</td>\n",
       "      <td>1.0</td>\n",
       "    </tr>\n",
       "    <tr>\n",
       "      <th>13</th>\n",
       "      <td>Common pheasant</td>\n",
       "      <td>Phasianus colchicus</td>\n",
       "      <td>Pheasants</td>\n",
       "      <td>Galliformes</td>\n",
       "      <td>Phasianidae</td>\n",
       "      <td>brown</td>\n",
       "      <td>tan</td>\n",
       "      <td>NaN</td>\n",
       "      <td>75.0</td>\n",
       "      <td>89.0</td>\n",
       "      <td>...</td>\n",
       "      <td>Common Pheasant feeds on cereal grains, seeds,...</td>\n",
       "      <td>HANDBOOK  OF THE BIRDS OF THE WORLD Vol 2 by J...</td>\n",
       "      <td>NaN</td>\n",
       "      <td>NaN</td>\n",
       "      <td>NaN</td>\n",
       "      <td>NaN</td>\n",
       "      <td>1.0</td>\n",
       "      <td>NaN</td>\n",
       "      <td>1.0</td>\n",
       "      <td>1.0</td>\n",
       "    </tr>\n",
       "  </tbody>\n",
       "</table>\n",
       "<p>5 rows × 24 columns</p>\n",
       "</div>"
      ],
      "text/plain": [
       "                common_name                  binomial        category  \\\n",
       "id                                                                      \n",
       "0        Southern cassowary       Casuarius casuarius     Cassowaries   \n",
       "1                       Emu  Dromaius novaehollandiae            Emus   \n",
       "6   Orange-footed scrubfowl      Megapodius reinwardt  Mound-builders   \n",
       "10           Indian peafowl            Pavo cristatus       Pheasants   \n",
       "13          Common pheasant       Phasianus colchicus       Pheasants   \n",
       "\n",
       "            order       family colour1 colour2 colour3  min_length  \\\n",
       "id                                                                   \n",
       "0   Casuariformes  Casuariidae   black    blue     red       150.0   \n",
       "1   Casuariformes   Dromaiidae   brown     NaN     NaN       150.0   \n",
       "6     Galliformes  Megapodidae   brown    blue     NaN        35.0   \n",
       "10    Galliformes  Phasianidae    Blue   green     NaN       180.0   \n",
       "13    Galliformes  Phasianidae   brown     tan     NaN        75.0   \n",
       "\n",
       "    max_length ...                                                diet  \\\n",
       "id             ...                                                       \n",
       "0        200.0 ...   Southern Cassowary feeds mainly on fallen frui...   \n",
       "1        190.0 ...   The Emu  is omnivorous, but it feeds regularly...   \n",
       "6         47.0 ...   Orange-footed Scrubfowl feeds mainly on seeds,...   \n",
       "10       230.0 ...   The Indian Peafowl is omnivorous, feeding on p...   \n",
       "13        89.0 ...   Common Pheasant feeds on cereal grains, seeds,...   \n",
       "\n",
       "                                              sources  vic  nsw  qld  act  \\\n",
       "id                                                                          \n",
       "0   HANDBOOK  OF THE BIRDS OF THE WORLD vol 1 by J...  NaN  NaN  1.0  NaN   \n",
       "1   HANDBOOK OF THE BIRDS OF THE WORLD vol 1 by Jo...  1.0  1.0  1.0  1.0   \n",
       "6   HANDBOOK  OF THE BIRDS OF THE WORLD Vol 2 by J...  NaN  NaN  1.0  NaN   \n",
       "10  HANDBOOK OF THE BIRDS OF THE WORLD Vol 2 by Jo...  NaN  1.0  1.0  1.0   \n",
       "13  HANDBOOK  OF THE BIRDS OF THE WORLD Vol 2 by J...  NaN  NaN  NaN  NaN   \n",
       "\n",
       "     nt   sa  tas   wa  \n",
       "id                      \n",
       "0   NaN  NaN  NaN  NaN  \n",
       "1   NaN  1.0  1.0  1.0  \n",
       "6   1.0  NaN  NaN  1.0  \n",
       "10  NaN  1.0  1.0  1.0  \n",
       "13  1.0  NaN  1.0  1.0  \n",
       "\n",
       "[5 rows x 24 columns]"
      ]
     },
     "execution_count": 6,
     "metadata": {},
     "output_type": "execute_result"
    }
   ],
   "source": [
    "df.head()"
   ]
  },
  {
   "cell_type": "code",
   "execution_count": 7,
   "metadata": {},
   "outputs": [
    {
     "data": {
      "text/plain": [
       "Index(['common_name', 'binomial', 'category', 'order', 'family', 'colour1',\n",
       "       'colour2', 'colour3', 'min_length', 'max_length', 'min_weight',\n",
       "       'max_weight', 'voice', 'description', 'diet', 'sources', 'vic', 'nsw',\n",
       "       'qld', 'act', 'nt', 'sa', 'tas', 'wa'],\n",
       "      dtype='object')"
      ]
     },
     "execution_count": 7,
     "metadata": {},
     "output_type": "execute_result"
    }
   ],
   "source": [
    "df.columns"
   ]
  },
  {
   "cell_type": "code",
   "execution_count": 10,
   "metadata": {
    "collapsed": true
   },
   "outputs": [],
   "source": [
    "df.to_csv(\"birds_April_13.csv\")"
   ]
  },
  {
   "cell_type": "code",
   "execution_count": null,
   "metadata": {
    "collapsed": true
   },
   "outputs": [],
   "source": []
  }
 ],
 "metadata": {
  "kernelspec": {
   "display_name": "Python 3",
   "language": "python",
   "name": "python3"
  },
  "language_info": {
   "codemirror_mode": {
    "name": "ipython",
    "version": 3
   },
   "file_extension": ".py",
   "mimetype": "text/x-python",
   "name": "python",
   "nbconvert_exporter": "python",
   "pygments_lexer": "ipython3",
   "version": "3.6.1"
  }
 },
 "nbformat": 4,
 "nbformat_minor": 2
}
