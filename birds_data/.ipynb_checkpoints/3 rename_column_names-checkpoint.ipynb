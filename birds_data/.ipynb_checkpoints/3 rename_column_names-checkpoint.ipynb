{
 "cells": [
  {
   "cell_type": "code",
   "execution_count": 32,
   "metadata": {
    "collapsed": true
   },
   "outputs": [],
   "source": [
    "import pandas as pd"
   ]
  },
  {
   "cell_type": "code",
   "execution_count": 33,
   "metadata": {
    "collapsed": true
   },
   "outputs": [],
   "source": [
    "df = pd.read_csv(\"birds.csv\")"
   ]
  },
  {
   "cell_type": "code",
   "execution_count": 34,
   "metadata": {
    "collapsed": true
   },
   "outputs": [],
   "source": [
    "del df['Common_name_lowercase']\n",
    "del df['link']"
   ]
  },
  {
   "cell_type": "code",
   "execution_count": 38,
   "metadata": {
    "collapsed": true
   },
   "outputs": [],
   "source": [
    "df.rename(columns={'Common name': 'common_name', 'Binomial': 'binomial', 'Category': 'category', 'Order': 'order',\n",
    "                   'Family': 'family'}, inplace=True)"
   ]
  },
  {
   "cell_type": "code",
   "execution_count": 39,
   "metadata": {},
   "outputs": [
    {
     "data": {
      "text/plain": [
       "Index(['id', 'common_name', 'binomial', 'category', 'order', 'family',\n",
       "       'height', 'length', 'weight', 'voice', 'habitat', 'description',\n",
       "       'movements', 'reproduction', 'diet', 'protection', 'sources'],\n",
       "      dtype='object')"
      ]
     },
     "execution_count": 39,
     "metadata": {},
     "output_type": "execute_result"
    }
   ],
   "source": [
    "df.columns"
   ]
  },
  {
   "cell_type": "code",
   "execution_count": 40,
   "metadata": {},
   "outputs": [],
   "source": [
    "df.set_index('id', inplace=True)"
   ]
  },
  {
   "cell_type": "code",
   "execution_count": 41,
   "metadata": {},
   "outputs": [
    {
     "data": {
      "text/html": [
       "<div>\n",
       "<table border=\"1\" class=\"dataframe\">\n",
       "  <thead>\n",
       "    <tr style=\"text-align: right;\">\n",
       "      <th></th>\n",
       "      <th>common_name</th>\n",
       "      <th>binomial</th>\n",
       "      <th>category</th>\n",
       "      <th>order</th>\n",
       "      <th>family</th>\n",
       "      <th>height</th>\n",
       "      <th>length</th>\n",
       "      <th>weight</th>\n",
       "      <th>voice</th>\n",
       "      <th>habitat</th>\n",
       "      <th>description</th>\n",
       "      <th>movements</th>\n",
       "      <th>reproduction</th>\n",
       "      <th>diet</th>\n",
       "      <th>protection</th>\n",
       "      <th>sources</th>\n",
       "    </tr>\n",
       "    <tr>\n",
       "      <th>id</th>\n",
       "      <th></th>\n",
       "      <th></th>\n",
       "      <th></th>\n",
       "      <th></th>\n",
       "      <th></th>\n",
       "      <th></th>\n",
       "      <th></th>\n",
       "      <th></th>\n",
       "      <th></th>\n",
       "      <th></th>\n",
       "      <th></th>\n",
       "      <th></th>\n",
       "      <th></th>\n",
       "      <th></th>\n",
       "      <th></th>\n",
       "      <th></th>\n",
       "    </tr>\n",
       "  </thead>\n",
       "  <tbody>\n",
       "    <tr>\n",
       "      <th>0</th>\n",
       "      <td>Southern cassowary</td>\n",
       "      <td>Casuarius casuarius</td>\n",
       "      <td>Cassowaries</td>\n",
       "      <td>Casuariformes</td>\n",
       "      <td>Casuariidae</td>\n",
       "      <td>130-170 cm</td>\n",
       "      <td>NaN</td>\n",
       "      <td>male: 29-34 kg &amp;ndash; F: 58 kg</td>\n",
       "      <td>http://www.xeno-canto.org/species/Casuarius-ca...</td>\n",
       "      <td>Southern Cassowary frequents mainly the rainfo...</td>\n",
       "      <td>Southern Cassowary is the second largest and t...</td>\n",
       "      <td>Southern Cassowary does not fly. Its powerful ...</td>\n",
       "      <td>Breeding season starts at the end of the dry s...</td>\n",
       "      <td>Southern Cassowary feeds mainly on fallen frui...</td>\n",
       "      <td>Southern Cassowary is fairly widespread in New...</td>\n",
       "      <td>HANDBOOK  OF THE BIRDS OF THE WORLD vol 1 by J...</td>\n",
       "    </tr>\n",
       "    <tr>\n",
       "      <th>1</th>\n",
       "      <td>Emu</td>\n",
       "      <td>Dromaius novaehollandiae</td>\n",
       "      <td>Emus</td>\n",
       "      <td>Casuariformes</td>\n",
       "      <td>Dromaiidae</td>\n",
       "      <td>NaN</td>\n",
       "      <td>150-190 cm</td>\n",
       "      <td>30-55 kg</td>\n",
       "      <td>http://www.xeno-canto.org/species/Dromaius-nov...</td>\n",
       "      <td>The Emu  frequents several types of habitats s...</td>\n",
       "      <td>The Emu is  a flightless bird, but the long, p...</td>\n",
       "      <td>The Emu  is flightless, but it walks easily an...</td>\n",
       "      <td>The  breeding season starts in December-Januar...</td>\n",
       "      <td>The Emu  is omnivorous, but it feeds regularly...</td>\n",
       "      <td>The Emu  has stable populations. This species ...</td>\n",
       "      <td>HANDBOOK OF THE BIRDS OF THE WORLD vol 1 by Jo...</td>\n",
       "    </tr>\n",
       "    <tr>\n",
       "      <th>6</th>\n",
       "      <td>Orange-footed scrubfowl</td>\n",
       "      <td>Megapodius reinwardt</td>\n",
       "      <td>Mound-builders</td>\n",
       "      <td>Galliformes</td>\n",
       "      <td>Megapodidae</td>\n",
       "      <td>NaN</td>\n",
       "      <td>35-47 cm; Weight: M&amp;nbsp;: 850-1200 g &amp;ndash; ...</td>\n",
       "      <td>M&amp;nbsp;: 850-1200 g &amp;ndash; F&amp;nbsp;: 560-1200 ...</td>\n",
       "      <td>NaN</td>\n",
       "      <td>Orange-footed Scrubfowl lives mainly in forest...</td>\n",
       "      <td>Orange-footed Scrubfowl is one of the three Au...</td>\n",
       "      <td>NaN</td>\n",
       "      <td>Orange-footed Scrubfowl, as some other megapod...</td>\n",
       "      <td>Orange-footed Scrubfowl feeds mainly on seeds,...</td>\n",
       "      <td>Orange-footed Scrub fowl’s populations are not...</td>\n",
       "      <td>HANDBOOK  OF THE BIRDS OF THE WORLD Vol 2 by J...</td>\n",
       "    </tr>\n",
       "    <tr>\n",
       "      <th>10</th>\n",
       "      <td>Indian peafowl</td>\n",
       "      <td>Pavo cristatus</td>\n",
       "      <td>Pheasants</td>\n",
       "      <td>Galliformes</td>\n",
       "      <td>Phasianidae</td>\n",
       "      <td>NaN</td>\n",
       "      <td>180-230 cm (tail: 40-45 cm &amp;ndash; train: 140-...</td>\n",
       "      <td>4000-6000 g</td>\n",
       "      <td>http://www.xeno-canto.org/species/Pavo-cristatus</td>\n",
       "      <td>The Indian Peafowl favours open forest with ri...</td>\n",
       "      <td>The Indian Peafowl is the National Bird of Ind...</td>\n",
       "      <td>NaN</td>\n",
       "      <td>The breeding season varies according to the ra...</td>\n",
       "      <td>The Indian Peafowl is omnivorous, feeding on p...</td>\n",
       "      <td>The Indian Peafowl takes advantage of its asso...</td>\n",
       "      <td>HANDBOOK OF THE BIRDS OF THE WORLD Vol 2 by Jo...</td>\n",
       "    </tr>\n",
       "    <tr>\n",
       "      <th>13</th>\n",
       "      <td>Common pheasant</td>\n",
       "      <td>Phasianus colchicus</td>\n",
       "      <td>Pheasants</td>\n",
       "      <td>Galliformes</td>\n",
       "      <td>Phasianidae</td>\n",
       "      <td>NaN</td>\n",
       "      <td>M&amp;nbsp;: 75-89 cm &amp;ndash; F&amp;nbsp;: 53-62 cm</td>\n",
       "      <td>M: 770-1990 g &amp;ndash; F: 545-1450 g</td>\n",
       "      <td>http://www.xeno-canto.org/species/Phasianus-co...</td>\n",
       "      <td>Common Pheasant frequents farmlands, open land...</td>\n",
       "      <td>Common Pheasant adult male (or cock) has rich ...</td>\n",
       "      <td>NaN</td>\n",
       "      <td>The nesting period occurs from March to August...</td>\n",
       "      <td>Common Pheasant feeds on cereal grains, seeds,...</td>\n",
       "      <td>Common Pheasant is the most widespread and com...</td>\n",
       "      <td>HANDBOOK  OF THE BIRDS OF THE WORLD Vol 2 by J...</td>\n",
       "    </tr>\n",
       "  </tbody>\n",
       "</table>\n",
       "</div>"
      ],
      "text/plain": [
       "                common_name                  binomial        category  \\\n",
       "id                                                                      \n",
       "0        Southern cassowary       Casuarius casuarius     Cassowaries   \n",
       "1                       Emu  Dromaius novaehollandiae            Emus   \n",
       "6   Orange-footed scrubfowl      Megapodius reinwardt  Mound-builders   \n",
       "10           Indian peafowl            Pavo cristatus       Pheasants   \n",
       "13          Common pheasant       Phasianus colchicus       Pheasants   \n",
       "\n",
       "            order       family      height  \\\n",
       "id                                           \n",
       "0   Casuariformes  Casuariidae  130-170 cm   \n",
       "1   Casuariformes   Dromaiidae         NaN   \n",
       "6     Galliformes  Megapodidae         NaN   \n",
       "10    Galliformes  Phasianidae         NaN   \n",
       "13    Galliformes  Phasianidae         NaN   \n",
       "\n",
       "                                               length  \\\n",
       "id                                                      \n",
       "0                                                 NaN   \n",
       "1                                          150-190 cm   \n",
       "6   35-47 cm; Weight: M&nbsp;: 850-1200 g &ndash; ...   \n",
       "10  180-230 cm (tail: 40-45 cm &ndash; train: 140-...   \n",
       "13        M&nbsp;: 75-89 cm &ndash; F&nbsp;: 53-62 cm   \n",
       "\n",
       "                                               weight  \\\n",
       "id                                                      \n",
       "0                     male: 29-34 kg &ndash; F: 58 kg   \n",
       "1                                            30-55 kg   \n",
       "6   M&nbsp;: 850-1200 g &ndash; F&nbsp;: 560-1200 ...   \n",
       "10                                        4000-6000 g   \n",
       "13                M: 770-1990 g &ndash; F: 545-1450 g   \n",
       "\n",
       "                                                voice  \\\n",
       "id                                                      \n",
       "0   http://www.xeno-canto.org/species/Casuarius-ca...   \n",
       "1   http://www.xeno-canto.org/species/Dromaius-nov...   \n",
       "6                                                 NaN   \n",
       "10   http://www.xeno-canto.org/species/Pavo-cristatus   \n",
       "13  http://www.xeno-canto.org/species/Phasianus-co...   \n",
       "\n",
       "                                              habitat  \\\n",
       "id                                                      \n",
       "0   Southern Cassowary frequents mainly the rainfo...   \n",
       "1   The Emu  frequents several types of habitats s...   \n",
       "6   Orange-footed Scrubfowl lives mainly in forest...   \n",
       "10  The Indian Peafowl favours open forest with ri...   \n",
       "13  Common Pheasant frequents farmlands, open land...   \n",
       "\n",
       "                                          description  \\\n",
       "id                                                      \n",
       "0   Southern Cassowary is the second largest and t...   \n",
       "1   The Emu is  a flightless bird, but the long, p...   \n",
       "6   Orange-footed Scrubfowl is one of the three Au...   \n",
       "10  The Indian Peafowl is the National Bird of Ind...   \n",
       "13  Common Pheasant adult male (or cock) has rich ...   \n",
       "\n",
       "                                            movements  \\\n",
       "id                                                      \n",
       "0   Southern Cassowary does not fly. Its powerful ...   \n",
       "1   The Emu  is flightless, but it walks easily an...   \n",
       "6                                                 NaN   \n",
       "10                                                NaN   \n",
       "13                                                NaN   \n",
       "\n",
       "                                         reproduction  \\\n",
       "id                                                      \n",
       "0   Breeding season starts at the end of the dry s...   \n",
       "1   The  breeding season starts in December-Januar...   \n",
       "6   Orange-footed Scrubfowl, as some other megapod...   \n",
       "10  The breeding season varies according to the ra...   \n",
       "13  The nesting period occurs from March to August...   \n",
       "\n",
       "                                                 diet  \\\n",
       "id                                                      \n",
       "0   Southern Cassowary feeds mainly on fallen frui...   \n",
       "1   The Emu  is omnivorous, but it feeds regularly...   \n",
       "6   Orange-footed Scrubfowl feeds mainly on seeds,...   \n",
       "10  The Indian Peafowl is omnivorous, feeding on p...   \n",
       "13  Common Pheasant feeds on cereal grains, seeds,...   \n",
       "\n",
       "                                           protection  \\\n",
       "id                                                      \n",
       "0   Southern Cassowary is fairly widespread in New...   \n",
       "1   The Emu  has stable populations. This species ...   \n",
       "6   Orange-footed Scrub fowl’s populations are not...   \n",
       "10  The Indian Peafowl takes advantage of its asso...   \n",
       "13  Common Pheasant is the most widespread and com...   \n",
       "\n",
       "                                              sources  \n",
       "id                                                     \n",
       "0   HANDBOOK  OF THE BIRDS OF THE WORLD vol 1 by J...  \n",
       "1   HANDBOOK OF THE BIRDS OF THE WORLD vol 1 by Jo...  \n",
       "6   HANDBOOK  OF THE BIRDS OF THE WORLD Vol 2 by J...  \n",
       "10  HANDBOOK OF THE BIRDS OF THE WORLD Vol 2 by Jo...  \n",
       "13  HANDBOOK  OF THE BIRDS OF THE WORLD Vol 2 by J...  "
      ]
     },
     "execution_count": 41,
     "metadata": {},
     "output_type": "execute_result"
    }
   ],
   "source": [
    "df.head()"
   ]
  },
  {
   "cell_type": "code",
   "execution_count": 10,
   "metadata": {
    "collapsed": true
   },
   "outputs": [],
   "source": [
    "df.to_csv(\"birds.csv\")"
   ]
  },
  {
   "cell_type": "code",
   "execution_count": null,
   "metadata": {
    "collapsed": true
   },
   "outputs": [],
   "source": []
  }
 ],
 "metadata": {
  "kernelspec": {
   "display_name": "Python 3",
   "language": "python",
   "name": "python3"
  },
  "language_info": {
   "codemirror_mode": {
    "name": "ipython",
    "version": 3
   },
   "file_extension": ".py",
   "mimetype": "text/x-python",
   "name": "python",
   "nbconvert_exporter": "python",
   "pygments_lexer": "ipython3",
   "version": "3.6.1"
  }
 },
 "nbformat": 4,
 "nbformat_minor": 2
}
