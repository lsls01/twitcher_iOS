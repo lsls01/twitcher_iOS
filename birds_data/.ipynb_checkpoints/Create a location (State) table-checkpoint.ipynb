{
 "cells": [
  {
   "cell_type": "code",
   "execution_count": 1,
   "metadata": {
    "collapsed": true
   },
   "outputs": [],
   "source": [
    "import pandas as pd"
   ]
  },
  {
   "cell_type": "code",
   "execution_count": 2,
   "metadata": {
    "collapsed": true
   },
   "outputs": [],
   "source": [
    "from urllib.request import Request, urlopen\n",
    "from bs4 import BeautifulSoup as bs\n",
    "import re"
   ]
  },
  {
   "cell_type": "code",
   "execution_count": 52,
   "metadata": {
    "collapsed": true
   },
   "outputs": [],
   "source": [
    "birds_df = pd.read_csv(\"birds_cleaned_Apri_4_2017.csv\")"
   ]
  },
  {
   "cell_type": "code",
   "execution_count": 53,
   "metadata": {
    "collapsed": false
   },
   "outputs": [
    {
     "data": {
      "text/plain": [
       "Index(['Idx', 'Common name', 'Binomial', 'Category', 'Order', 'Family',\n",
       "       'colour1', 'colour2', 'colour3', 'min_length', 'max_length',\n",
       "       'min_weight', 'max_weight', 'Voice', 'Description', 'Diet', 'Sources'],\n",
       "      dtype='object')"
      ]
     },
     "execution_count": 53,
     "metadata": {},
     "output_type": "execute_result"
    }
   ],
   "source": [
    "birds_df.columns"
   ]
  },
  {
   "cell_type": "code",
   "execution_count": 3,
   "metadata": {
    "collapsed": true
   },
   "outputs": [],
   "source": [
    "# Victoria\n",
    "\n",
    "url = \"https://en.wikipedia.org/wiki/List_of_birds_of_Victoria,_Australia\"\n",
    "req = Request(url, headers={'User-Agent': 'Mozilla/5.0'})\n",
    "webpage = urlopen(req).read()\n",
    "webpage_str = str(webpage)\n",
    "soup = bs(webpage, \"lxml\")"
   ]
  },
  {
   "cell_type": "code",
   "execution_count": 5,
   "metadata": {
    "collapsed": true,
    "deletable": true,
    "editable": true
   },
   "outputs": [],
   "source": [
    "# Victoria\n",
    "\n",
    "url = \"http://avibase.bsc-eoc.org/checklist.jsp?region=AUvi&list=howardmoore\"\n",
    "req = Request(url, headers={'User-Agent': 'Mozilla/5.0'})\n",
    "webpage = urlopen(req).read()\n",
    "webpage_str = str(webpage)\n",
    "soup = bs(webpage, \"lxml\")"
   ]
  },
  {
   "cell_type": "code",
   "execution_count": 35,
   "metadata": {
    "collapsed": true
   },
   "outputs": [],
   "source": [
    "vic_df = pd.read_html(\n",
    "    \"http://avibase.bsc-eoc.org/checklist.jsp?lang=EN&p2=1&list=avibase&synlang=&region=AUvi&version=text&lifelist=&highlight=0\")\n",
    "vic_df = vic_df[1].copy()\n",
    "vic_df = vic_df[15:-1]\n",
    "vic_df = vic_df[[0,1,3]]\n",
    "vic_df.columns = ['common_name', 'binomial', 'status']\n",
    "vic_df = vic_df[vic_df['binomial'].notnull()]"
   ]
  },
  {
   "cell_type": "code",
   "execution_count": 45,
   "metadata": {
    "collapsed": true
   },
   "outputs": [],
   "source": [
    "nsw_df = pd.read_html(\n",
    "    \"http://avibase.bsc-eoc.org/checklist.jsp?lang=EN&p2=1&list=avibase&synlang=&region=AUns&version=text&lifelist=&highlight=0\")\n",
    "nsw_df = nsw_df[1].copy()\n",
    "nsw_df = nsw_df[15:-1]\n",
    "nsw_df = nsw_df[[0,1,3]]\n",
    "nsw_df.columns = ['common_name', 'binomial', 'status']\n",
    "nsw_df = nsw_df[nsw_df['binomial'].notnull()]"
   ]
  },
  {
   "cell_type": "code",
   "execution_count": 69,
   "metadata": {
    "collapsed": true,
    "deletable": true,
    "editable": true
   },
   "outputs": [],
   "source": [
    "qld_df = pd.read_html(\n",
    "    \"http://avibase.bsc-eoc.org/checklist.jsp?lang=EN&p2=1&list=avibase&synlang=&region=AUql&version=text&lifelist=&highlight=0\")\n",
    "qld_df = qld_df[1].copy()\n",
    "qld_df = qld_df[15:-1]\n",
    "qld_df = qld_df[[0,1,3]]\n",
    "qld_df.columns = ['common_name', 'binomial', 'status']\n",
    "qld_df = qld_df[qld_df['binomial'].notnull()]"
   ]
  },
  {
   "cell_type": "code",
   "execution_count": 70,
   "metadata": {
    "collapsed": true,
    "deletable": true,
    "editable": true
   },
   "outputs": [],
   "source": [
    "act_df = pd.read_html(\n",
    "    \"http://avibase.bsc-eoc.org/checklist.jsp?lang=EN&p2=1&list=avibase&synlang=&region=AUca&version=text&lifelist=&highlight=0\")\n",
    "act_df = act_df[1].copy()\n",
    "act_df = act_df[15:-1]\n",
    "act_df = act_df[[0,1,3]]\n",
    "act_df.columns = ['common_name', 'binomial', 'status']\n",
    "act_df = act_df[act_df['binomial'].notnull()]"
   ]
  },
  {
   "cell_type": "code",
   "execution_count": 71,
   "metadata": {
    "collapsed": true,
    "deletable": true,
    "editable": true
   },
   "outputs": [],
   "source": [
    "nt_df = pd.read_html(\n",
    "    \"http://avibase.bsc-eoc.org/checklist.jsp?lang=EN&p2=1&list=avibase&synlang=&region=AUno&version=text&lifelist=&highlight=0\")\n",
    "nt_df = nt_df[1].copy()\n",
    "nt_df = nt_df[15:-1]\n",
    "nt_df = nt_df[[0,1,3]]\n",
    "nt_df.columns = ['common_name', 'binomial', 'status']\n",
    "nt_df = nt_df[nt_df['binomial'].notnull()]"
   ]
  },
  {
   "cell_type": "code",
   "execution_count": 72,
   "metadata": {
    "collapsed": true,
    "deletable": true,
    "editable": true
   },
   "outputs": [],
   "source": [
    "sa_df = pd.read_html(\n",
    "    \"http://avibase.bsc-eoc.org/checklist.jsp?lang=EN&p2=1&list=avibase&synlang=&region=AUsa&version=text&lifelist=&highlight=0\")\n",
    "sa_df = sa_df[1].copy()\n",
    "sa_df = sa_df[15:-1]\n",
    "sa_df = sa_df[[0,1,3]]\n",
    "sa_df.columns = ['common_name', 'binomial', 'status']\n",
    "sa_df = sa_df[sa_df['binomial'].notnull()]"
   ]
  },
  {
   "cell_type": "code",
   "execution_count": 45,
   "metadata": {
    "collapsed": true,
    "deletable": true,
    "editable": true
   },
   "outputs": [],
   "source": [
    "tas_df = pd.read_html(\n",
    "    \"http://avibase.bsc-eoc.org/checklist.jsp?lang=EN&p2=1&list=avibase&synlang=&region=AUta&version=text&lifelist=&highlight=0\")\n",
    "nsw_df = nsw_df[1].copy()\n",
    "nsw_df = nsw_df[15:-1]\n",
    "nsw_df = nsw_df[[0,1,3]]\n",
    "nsw_df.columns = ['common_name', 'binomial', 'status']\n",
    "nsw_df = nsw_df[nsw_df['binomial'].notnull()]"
   ]
  },
  {
   "cell_type": "code",
   "execution_count": 45,
   "metadata": {
    "collapsed": true,
    "deletable": true,
    "editable": true
   },
   "outputs": [],
   "source": [
    "nsw_df = pd.read_html(\n",
    "    \"http://avibase.bsc-eoc.org/checklist.jsp?lang=EN&p2=1&list=avibase&synlang=&region=AUns&version=text&lifelist=&highlight=0\")\n",
    "nsw_df = nsw_df[1].copy()\n",
    "nsw_df = nsw_df[15:-1]\n",
    "nsw_df = nsw_df[[0,1,3]]\n",
    "nsw_df.columns = ['common_name', 'binomial', 'status']\n",
    "nsw_df = nsw_df[nsw_df['binomial'].notnull()]"
   ]
  },
  {
   "cell_type": "code",
   "execution_count": 67,
   "metadata": {
    "collapsed": true
   },
   "outputs": [],
   "source": [
    "birds_df['nsw'] = pd.np.nan"
   ]
  },
  {
   "cell_type": "code",
   "execution_count": 68,
   "metadata": {
    "collapsed": true
   },
   "outputs": [],
   "source": [
    "for idx in birds_df.index:\n",
    "    if birds_df.ix[idx, 'Binomial'] in nsw_df.binomial.values:\n",
    "        birds_df.ix[idx, 'nsw'] = 1"
   ]
  },
  {
   "cell_type": "code",
   "execution_count": 64,
   "metadata": {
    "collapsed": false
   },
   "outputs": [
    {
     "data": {
      "text/plain": [
       "array(['Struthio [camelus or molybdophanes]', 'Struthio camelus',\n",
       "       'Struthio camelus massaicus', ...,\n",
       "       'Turdus merula [incl. intermedius]', 'Turdus philomelos',\n",
       "       'Turdus philomelos clarkei'], dtype=object)"
      ]
     },
     "execution_count": 64,
     "metadata": {},
     "output_type": "execute_result"
    }
   ],
   "source": [
    "nsw_df.binomial.values"
   ]
  },
  {
   "cell_type": "code",
   "execution_count": 51,
   "metadata": {
    "collapsed": false
   },
   "outputs": [
    {
     "data": {
      "text/html": [
       "<div>\n",
       "<table border=\"1\" class=\"dataframe\">\n",
       "  <thead>\n",
       "    <tr style=\"text-align: right;\">\n",
       "      <th></th>\n",
       "      <th>common_name</th>\n",
       "      <th>binomial</th>\n",
       "      <th>status</th>\n",
       "    </tr>\n",
       "  </thead>\n",
       "  <tbody>\n",
       "    <tr>\n",
       "      <th>15</th>\n",
       "      <td>Ostrich or Somali Ostrich</td>\n",
       "      <td>Struthio [camelus or molybdophanes]</td>\n",
       "      <td>Introduced species</td>\n",
       "    </tr>\n",
       "    <tr>\n",
       "      <th>16</th>\n",
       "      <td>African Ostrich</td>\n",
       "      <td>Struthio camelus</td>\n",
       "      <td>Introduced species</td>\n",
       "    </tr>\n",
       "    <tr>\n",
       "      <th>17</th>\n",
       "      <td>African Ostrich (North African)</td>\n",
       "      <td>Struthio camelus massaicus</td>\n",
       "      <td>Introduced species</td>\n",
       "    </tr>\n",
       "    <tr>\n",
       "      <th>19</th>\n",
       "      <td>Emu, King Island or Kangaroo Island Emu</td>\n",
       "      <td>Dromaius [novaehollandiae, minor or baudinianus]</td>\n",
       "      <td>Endemic (country/region)</td>\n",
       "    </tr>\n",
       "    <tr>\n",
       "      <th>20</th>\n",
       "      <td>Emu, or Kangaroo Island Emu</td>\n",
       "      <td>Dromaius [novaehollandiae or baudinianus]</td>\n",
       "      <td>NaN</td>\n",
       "    </tr>\n",
       "    <tr>\n",
       "      <th>21</th>\n",
       "      <td>Emu</td>\n",
       "      <td>Dromaius novaehollandiae</td>\n",
       "      <td>Endemic (country/region)</td>\n",
       "    </tr>\n",
       "    <tr>\n",
       "      <th>22</th>\n",
       "      <td>Emu (South Eastern)</td>\n",
       "      <td>Dromaius novaehollandiae [novaehollandiae or r...</td>\n",
       "      <td>NaN</td>\n",
       "    </tr>\n",
       "    <tr>\n",
       "      <th>23</th>\n",
       "      <td>Emu (South Eastern)</td>\n",
       "      <td>Dromaius novaehollandiae novaehollandiae</td>\n",
       "      <td>NaN</td>\n",
       "    </tr>\n",
       "    <tr>\n",
       "      <th>24</th>\n",
       "      <td>Emu, or King Island Emu</td>\n",
       "      <td>Dromaius [novaehollandiae or minor]</td>\n",
       "      <td>NaN</td>\n",
       "    </tr>\n",
       "    <tr>\n",
       "      <th>26</th>\n",
       "      <td>Magpie Goose</td>\n",
       "      <td>Anseranas semipalmata</td>\n",
       "      <td>NaN</td>\n",
       "    </tr>\n",
       "    <tr>\n",
       "      <th>28</th>\n",
       "      <td>Teal sp.</td>\n",
       "      <td>Anas sp.</td>\n",
       "      <td>NaN</td>\n",
       "    </tr>\n",
       "    <tr>\n",
       "      <th>29</th>\n",
       "      <td>Unidentified Duck</td>\n",
       "      <td>Anatidae sp.</td>\n",
       "      <td>NaN</td>\n",
       "    </tr>\n",
       "    <tr>\n",
       "      <th>30</th>\n",
       "      <td>Plumed Whistling-Duck</td>\n",
       "      <td>Dendrocygna eytoni</td>\n",
       "      <td>Endemic (country/region)</td>\n",
       "    </tr>\n",
       "    <tr>\n",
       "      <th>31</th>\n",
       "      <td>Wandering Whistling-Duck</td>\n",
       "      <td>Dendrocygna arcuata</td>\n",
       "      <td>NaN</td>\n",
       "    </tr>\n",
       "    <tr>\n",
       "      <th>32</th>\n",
       "      <td>Wandering Whistling-Duck (Australian)</td>\n",
       "      <td>Dendrocygna arcuata australis</td>\n",
       "      <td>NaN</td>\n",
       "    </tr>\n",
       "    <tr>\n",
       "      <th>33</th>\n",
       "      <td>Blue-billed Duck</td>\n",
       "      <td>Oxyura australis</td>\n",
       "      <td>Endemic (country/region) Near-threatened</td>\n",
       "    </tr>\n",
       "    <tr>\n",
       "      <th>34</th>\n",
       "      <td>Pink-eared Duck</td>\n",
       "      <td>Malacorhynchus membranaceus</td>\n",
       "      <td>Endemic (country/region)</td>\n",
       "    </tr>\n",
       "    <tr>\n",
       "      <th>35</th>\n",
       "      <td>Cape Barren Goose</td>\n",
       "      <td>Cereopsis novaehollandiae</td>\n",
       "      <td>Rare/Accidental</td>\n",
       "    </tr>\n",
       "    <tr>\n",
       "      <th>36</th>\n",
       "      <td>Mute Swan</td>\n",
       "      <td>Cygnus olor</td>\n",
       "      <td>Introduced species</td>\n",
       "    </tr>\n",
       "    <tr>\n",
       "      <th>37</th>\n",
       "      <td>Black Swan</td>\n",
       "      <td>Cygnus atratus</td>\n",
       "      <td>Endemic (country/region)</td>\n",
       "    </tr>\n",
       "  </tbody>\n",
       "</table>\n",
       "</div>"
      ],
      "text/plain": [
       "                                common_name  \\\n",
       "15                Ostrich or Somali Ostrich   \n",
       "16                          African Ostrich   \n",
       "17          African Ostrich (North African)   \n",
       "19  Emu, King Island or Kangaroo Island Emu   \n",
       "20              Emu, or Kangaroo Island Emu   \n",
       "21                                      Emu   \n",
       "22                      Emu (South Eastern)   \n",
       "23                      Emu (South Eastern)   \n",
       "24                  Emu, or King Island Emu   \n",
       "26                             Magpie Goose   \n",
       "28                                 Teal sp.   \n",
       "29                        Unidentified Duck   \n",
       "30                    Plumed Whistling-Duck   \n",
       "31                 Wandering Whistling-Duck   \n",
       "32    Wandering Whistling-Duck (Australian)   \n",
       "33                         Blue-billed Duck   \n",
       "34                          Pink-eared Duck   \n",
       "35                        Cape Barren Goose   \n",
       "36                                Mute Swan   \n",
       "37                               Black Swan   \n",
       "\n",
       "                                             binomial  \\\n",
       "15                Struthio [camelus or molybdophanes]   \n",
       "16                                   Struthio camelus   \n",
       "17                         Struthio camelus massaicus   \n",
       "19   Dromaius [novaehollandiae, minor or baudinianus]   \n",
       "20          Dromaius [novaehollandiae or baudinianus]   \n",
       "21                           Dromaius novaehollandiae   \n",
       "22  Dromaius novaehollandiae [novaehollandiae or r...   \n",
       "23           Dromaius novaehollandiae novaehollandiae   \n",
       "24                Dromaius [novaehollandiae or minor]   \n",
       "26                              Anseranas semipalmata   \n",
       "28                                           Anas sp.   \n",
       "29                                       Anatidae sp.   \n",
       "30                                 Dendrocygna eytoni   \n",
       "31                                Dendrocygna arcuata   \n",
       "32                      Dendrocygna arcuata australis   \n",
       "33                                   Oxyura australis   \n",
       "34                        Malacorhynchus membranaceus   \n",
       "35                          Cereopsis novaehollandiae   \n",
       "36                                        Cygnus olor   \n",
       "37                                     Cygnus atratus   \n",
       "\n",
       "                                      status  \n",
       "15                        Introduced species  \n",
       "16                        Introduced species  \n",
       "17                        Introduced species  \n",
       "19                  Endemic (country/region)  \n",
       "20                                       NaN  \n",
       "21                  Endemic (country/region)  \n",
       "22                                       NaN  \n",
       "23                                       NaN  \n",
       "24                                       NaN  \n",
       "26                                       NaN  \n",
       "28                                       NaN  \n",
       "29                                       NaN  \n",
       "30                  Endemic (country/region)  \n",
       "31                                       NaN  \n",
       "32                                       NaN  \n",
       "33  Endemic (country/region) Near-threatened  \n",
       "34                  Endemic (country/region)  \n",
       "35                           Rare/Accidental  \n",
       "36                        Introduced species  \n",
       "37                  Endemic (country/region)  "
      ]
     },
     "execution_count": 51,
     "metadata": {},
     "output_type": "execute_result"
    }
   ],
   "source": [
    "nsw_df.head(20)"
   ]
  },
  {
   "cell_type": "code",
   "execution_count": 50,
   "metadata": {
    "collapsed": false
   },
   "outputs": [],
   "source": []
  },
  {
   "cell_type": "code",
   "execution_count": null,
   "metadata": {
    "collapsed": true
   },
   "outputs": [],
   "source": []
  }
 ],
 "metadata": {
  "kernelspec": {
   "display_name": "Python 3",
   "language": "python",
   "name": "python3"
  },
  "language_info": {
   "codemirror_mode": {
    "name": "ipython",
    "version": 3
   },
   "file_extension": ".py",
   "mimetype": "text/x-python",
   "name": "python",
   "nbconvert_exporter": "python",
   "pygments_lexer": "ipython3",
   "version": "3.6.1"
  }
 },
 "nbformat": 4,
 "nbformat_minor": 2
}
