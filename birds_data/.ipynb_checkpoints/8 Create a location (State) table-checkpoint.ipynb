{
 "cells": [
  {
   "cell_type": "code",
   "execution_count": 1,
   "metadata": {
    "collapsed": true
   },
   "outputs": [],
   "source": [
    "# import pandas to deal with csv dataframe\n",
    "import pandas as pd\n",
    "# import urllib to make connection to websites and get source code\n",
    "from urllib.request import Request, urlopen\n",
    "# import beautiful soup to extract information from source code\n",
    "from bs4 import BeautifulSoup as bs\n",
    "# import regular expression\n",
    "import re"
   ]
  },
  {
   "cell_type": "code",
   "execution_count": 2,
   "metadata": {
    "collapsed": true
   },
   "outputs": [],
   "source": [
    "# read the latest csv file\n",
    "birds_df = pd.read_csv(\"birds_with_all_colour_added_Apri_5_2017.csv\")"
   ]
  },
  {
   "cell_type": "code",
   "execution_count": 3,
   "metadata": {
    "scrolled": true
   },
   "outputs": [
    {
     "data": {
      "text/plain": [
       "Index(['Idx', 'Common name', 'Binomial', 'Category', 'Order', 'Family',\n",
       "       'colour1', 'colour2', 'colour3', 'min_length', 'max_length',\n",
       "       'min_weight', 'max_weight', 'Voice', 'Description', 'Diet', 'Sources'],\n",
       "      dtype='object')"
      ]
     },
     "execution_count": 3,
     "metadata": {},
     "output_type": "execute_result"
    }
   ],
   "source": [
    "# check the column names\n",
    "birds_df.columns"
   ]
  },
  {
   "cell_type": "code",
   "execution_count": 4,
   "metadata": {},
   "outputs": [],
   "source": [
    "# url of list of birds of each state\n",
    "url_list = [\"http://avibase.bsc-eoc.org/checklist.jsp?lang=EN&p2=1&list=avibase&synlang=&region=AUvi&version=text&lifelist=&highlight=0\",\n",
    "           \"http://avibase.bsc-eoc.org/checklist.jsp?lang=EN&p2=1&list=avibase&synlang=&region=AUns&version=text&lifelist=&highlight=0\",\n",
    "           \"http://avibase.bsc-eoc.org/checklist.jsp?lang=EN&p2=1&list=avibase&synlang=&region=AUql&version=text&lifelist=&highlight=0\",\n",
    "           \"http://avibase.bsc-eoc.org/checklist.jsp?lang=EN&p2=1&list=avibase&synlang=&region=AUca&version=text&lifelist=&highlight=0\",\n",
    "           \"http://avibase.bsc-eoc.org/checklist.jsp?lang=EN&p2=1&list=avibase&synlang=&region=AUno&version=text&lifelist=&highlight=0\",\n",
    "           \"http://avibase.bsc-eoc.org/checklist.jsp?lang=EN&p2=1&list=avibase&synlang=&region=AUsa&version=text&lifelist=&highlight=0\",\n",
    "           \"http://avibase.bsc-eoc.org/checklist.jsp?lang=EN&p2=1&list=avibase&synlang=&region=AUta&version=text&lifelist=&highlight=0\",\n",
    "           \"http://avibase.bsc-eoc.org/checklist.jsp?lang=EN&p2=1&list=avibase&synlang=&region=AUwa&version=text&lifelist=&highlight=0\"\n",
    "           ]"
   ]
  },
  {
   "cell_type": "code",
   "execution_count": 5,
   "metadata": {
    "collapsed": true
   },
   "outputs": [],
   "source": [
    "# create a string list of 8 states\n",
    "location_str = ['vic', 'nsw', 'qld', 'act', 'nt', 'sa', 'tas', 'wa']"
   ]
  },
  {
   "cell_type": "code",
   "execution_count": 6,
   "metadata": {
    "collapsed": true
   },
   "outputs": [],
   "source": [
    "# initialize 8 DataFrame for each state\n",
    "location_df = [pd.DataFrame() for dummy in range(8)]"
   ]
  },
  {
   "cell_type": "code",
   "execution_count": 7,
   "metadata": {
    "collapsed": true
   },
   "outputs": [],
   "source": [
    "# make 8 dataframe with columns ['common_name', 'binomial', 'status'] getting from url\n",
    "for idx in range(8):\n",
    "    url = url_list[idx]\n",
    "    location_df[idx] = pd.read_html(url)\n",
    "    location_df[idx] = location_df[idx][1].copy()\n",
    "    # only keep rows from 15 to the second last.\n",
    "    location_df[idx] = location_df[idx][15:-1]\n",
    "    # remove all other columns\n",
    "    location_df[idx] = location_df[idx][[0,1,3]]\n",
    "    location_df[idx].columns = ['common_name', 'binomial', 'status']\n",
    "    location_df[idx] = location_df[idx][location_df[idx]['binomial'].notnull()]"
   ]
  },
  {
   "cell_type": "code",
   "execution_count": 8,
   "metadata": {
    "collapsed": true
   },
   "outputs": [],
   "source": [
    "# initialize state columns in original dataframe\n",
    "for state in location_str:\n",
    "    birds_df[state] = pd.np.nan"
   ]
  },
  {
   "cell_type": "code",
   "execution_count": 9,
   "metadata": {
    "collapsed": true
   },
   "outputs": [],
   "source": [
    "# check if a bird exist in one state, if it exists change the value to 1.0, otherwise leave it null\n",
    "for state_idx in range(len(location_str)):\n",
    "    state_df = location_df[state_idx]\n",
    "    state_str = location_str[state_idx]\n",
    "    for idx in birds_df.index:\n",
    "        if birds_df.ix[idx, 'Binomial'] in state_df.binomial.values:\n",
    "            birds_df.ix[idx, state_str] = 1"
   ]
  },
  {
   "cell_type": "code",
   "execution_count": 10,
   "metadata": {},
   "outputs": [
    {
     "data": {
      "text/html": [
       "<div>\n",
       "<table border=\"1\" class=\"dataframe\">\n",
       "  <thead>\n",
       "    <tr style=\"text-align: right;\">\n",
       "      <th></th>\n",
       "      <th>Idx</th>\n",
       "      <th>Common name</th>\n",
       "      <th>Binomial</th>\n",
       "      <th>Category</th>\n",
       "      <th>Order</th>\n",
       "      <th>Family</th>\n",
       "      <th>colour1</th>\n",
       "      <th>colour2</th>\n",
       "      <th>colour3</th>\n",
       "      <th>min_length</th>\n",
       "      <th>...</th>\n",
       "      <th>Diet</th>\n",
       "      <th>Sources</th>\n",
       "      <th>vic</th>\n",
       "      <th>nsw</th>\n",
       "      <th>qld</th>\n",
       "      <th>act</th>\n",
       "      <th>nt</th>\n",
       "      <th>sa</th>\n",
       "      <th>tas</th>\n",
       "      <th>wa</th>\n",
       "    </tr>\n",
       "  </thead>\n",
       "  <tbody>\n",
       "    <tr>\n",
       "      <th>0</th>\n",
       "      <td>0</td>\n",
       "      <td>Southern cassowary</td>\n",
       "      <td>Casuarius casuarius</td>\n",
       "      <td>Cassowaries</td>\n",
       "      <td>Casuariformes</td>\n",
       "      <td>Casuariidae</td>\n",
       "      <td>black</td>\n",
       "      <td>blue</td>\n",
       "      <td>red</td>\n",
       "      <td>NaN</td>\n",
       "      <td>...</td>\n",
       "      <td>Southern Cassowary feeds mainly on fallen frui...</td>\n",
       "      <td>HANDBOOK  OF THE BIRDS OF THE WORLD vol 1 by J...</td>\n",
       "      <td>NaN</td>\n",
       "      <td>NaN</td>\n",
       "      <td>1.0</td>\n",
       "      <td>NaN</td>\n",
       "      <td>NaN</td>\n",
       "      <td>NaN</td>\n",
       "      <td>NaN</td>\n",
       "      <td>NaN</td>\n",
       "    </tr>\n",
       "    <tr>\n",
       "      <th>1</th>\n",
       "      <td>1</td>\n",
       "      <td>Emu</td>\n",
       "      <td>Dromaius novaehollandiae</td>\n",
       "      <td>Emus</td>\n",
       "      <td>Casuariformes</td>\n",
       "      <td>Dromaiidae</td>\n",
       "      <td>brown</td>\n",
       "      <td>NaN</td>\n",
       "      <td>NaN</td>\n",
       "      <td>150.0</td>\n",
       "      <td>...</td>\n",
       "      <td>The Emu  is omnivorous, but it feeds regularly...</td>\n",
       "      <td>HANDBOOK OF THE BIRDS OF THE WORLD vol 1 by Jo...</td>\n",
       "      <td>1.0</td>\n",
       "      <td>1.0</td>\n",
       "      <td>1.0</td>\n",
       "      <td>1.0</td>\n",
       "      <td>NaN</td>\n",
       "      <td>1.0</td>\n",
       "      <td>1.0</td>\n",
       "      <td>1.0</td>\n",
       "    </tr>\n",
       "    <tr>\n",
       "      <th>2</th>\n",
       "      <td>6</td>\n",
       "      <td>Orange-footed scrubfowl</td>\n",
       "      <td>Megapodius reinwardt</td>\n",
       "      <td>Mound-builders</td>\n",
       "      <td>Galliformes</td>\n",
       "      <td>Megapodidae</td>\n",
       "      <td>brown</td>\n",
       "      <td>blue</td>\n",
       "      <td>NaN</td>\n",
       "      <td>35.0</td>\n",
       "      <td>...</td>\n",
       "      <td>Orange-footed Scrubfowl feeds mainly on seeds,...</td>\n",
       "      <td>HANDBOOK  OF THE BIRDS OF THE WORLD Vol 2 by J...</td>\n",
       "      <td>NaN</td>\n",
       "      <td>NaN</td>\n",
       "      <td>1.0</td>\n",
       "      <td>NaN</td>\n",
       "      <td>1.0</td>\n",
       "      <td>NaN</td>\n",
       "      <td>NaN</td>\n",
       "      <td>1.0</td>\n",
       "    </tr>\n",
       "    <tr>\n",
       "      <th>3</th>\n",
       "      <td>10</td>\n",
       "      <td>Indian peafowl</td>\n",
       "      <td>Pavo cristatus</td>\n",
       "      <td>Pheasants</td>\n",
       "      <td>Galliformes</td>\n",
       "      <td>Phasianidae</td>\n",
       "      <td>Blue</td>\n",
       "      <td>green</td>\n",
       "      <td>NaN</td>\n",
       "      <td>180.0</td>\n",
       "      <td>...</td>\n",
       "      <td>The Indian Peafowl is omnivorous, feeding on p...</td>\n",
       "      <td>HANDBOOK OF THE BIRDS OF THE WORLD Vol 2 by Jo...</td>\n",
       "      <td>NaN</td>\n",
       "      <td>1.0</td>\n",
       "      <td>1.0</td>\n",
       "      <td>1.0</td>\n",
       "      <td>NaN</td>\n",
       "      <td>1.0</td>\n",
       "      <td>1.0</td>\n",
       "      <td>1.0</td>\n",
       "    </tr>\n",
       "    <tr>\n",
       "      <th>4</th>\n",
       "      <td>13</td>\n",
       "      <td>Common pheasant</td>\n",
       "      <td>Phasianus colchicus</td>\n",
       "      <td>Pheasants</td>\n",
       "      <td>Galliformes</td>\n",
       "      <td>Phasianidae</td>\n",
       "      <td>brown</td>\n",
       "      <td>tan</td>\n",
       "      <td>NaN</td>\n",
       "      <td>75.0</td>\n",
       "      <td>...</td>\n",
       "      <td>Common Pheasant feeds on cereal grains, seeds,...</td>\n",
       "      <td>HANDBOOK  OF THE BIRDS OF THE WORLD Vol 2 by J...</td>\n",
       "      <td>NaN</td>\n",
       "      <td>NaN</td>\n",
       "      <td>NaN</td>\n",
       "      <td>NaN</td>\n",
       "      <td>1.0</td>\n",
       "      <td>NaN</td>\n",
       "      <td>1.0</td>\n",
       "      <td>1.0</td>\n",
       "    </tr>\n",
       "  </tbody>\n",
       "</table>\n",
       "<p>5 rows × 25 columns</p>\n",
       "</div>"
      ],
      "text/plain": [
       "   Idx              Common name                  Binomial        Category  \\\n",
       "0    0       Southern cassowary       Casuarius casuarius     Cassowaries   \n",
       "1    1                      Emu  Dromaius novaehollandiae            Emus   \n",
       "2    6  Orange-footed scrubfowl      Megapodius reinwardt  Mound-builders   \n",
       "3   10           Indian peafowl            Pavo cristatus       Pheasants   \n",
       "4   13          Common pheasant       Phasianus colchicus       Pheasants   \n",
       "\n",
       "           Order       Family colour1 colour2 colour3  min_length ...   \\\n",
       "0  Casuariformes  Casuariidae   black    blue     red         NaN ...    \n",
       "1  Casuariformes   Dromaiidae   brown     NaN     NaN       150.0 ...    \n",
       "2    Galliformes  Megapodidae   brown    blue     NaN        35.0 ...    \n",
       "3    Galliformes  Phasianidae    Blue   green     NaN       180.0 ...    \n",
       "4    Galliformes  Phasianidae   brown     tan     NaN        75.0 ...    \n",
       "\n",
       "                                                Diet  \\\n",
       "0  Southern Cassowary feeds mainly on fallen frui...   \n",
       "1  The Emu  is omnivorous, but it feeds regularly...   \n",
       "2  Orange-footed Scrubfowl feeds mainly on seeds,...   \n",
       "3  The Indian Peafowl is omnivorous, feeding on p...   \n",
       "4  Common Pheasant feeds on cereal grains, seeds,...   \n",
       "\n",
       "                                             Sources  vic  nsw  qld  act   nt  \\\n",
       "0  HANDBOOK  OF THE BIRDS OF THE WORLD vol 1 by J...  NaN  NaN  1.0  NaN  NaN   \n",
       "1  HANDBOOK OF THE BIRDS OF THE WORLD vol 1 by Jo...  1.0  1.0  1.0  1.0  NaN   \n",
       "2  HANDBOOK  OF THE BIRDS OF THE WORLD Vol 2 by J...  NaN  NaN  1.0  NaN  1.0   \n",
       "3  HANDBOOK OF THE BIRDS OF THE WORLD Vol 2 by Jo...  NaN  1.0  1.0  1.0  NaN   \n",
       "4  HANDBOOK  OF THE BIRDS OF THE WORLD Vol 2 by J...  NaN  NaN  NaN  NaN  1.0   \n",
       "\n",
       "    sa  tas   wa  \n",
       "0  NaN  NaN  NaN  \n",
       "1  1.0  1.0  1.0  \n",
       "2  NaN  NaN  1.0  \n",
       "3  1.0  1.0  1.0  \n",
       "4  NaN  1.0  1.0  \n",
       "\n",
       "[5 rows x 25 columns]"
      ]
     },
     "execution_count": 10,
     "metadata": {},
     "output_type": "execute_result"
    }
   ],
   "source": [
    "# check the combined dataframe\n",
    "birds_df.head()"
   ]
  },
  {
   "cell_type": "code",
   "execution_count": 11,
   "metadata": {
    "collapsed": true
   },
   "outputs": [],
   "source": [
    "# save the combined the dataframe into a new csv file\n",
    "birds_df.to_csv(\"birds_April_6.csv\")"
   ]
  }
 ],
 "metadata": {
  "kernelspec": {
   "display_name": "Python 3",
   "language": "python",
   "name": "python3"
  },
  "language_info": {
   "codemirror_mode": {
    "name": "ipython",
    "version": 3
   },
   "file_extension": ".py",
   "mimetype": "text/x-python",
   "name": "python",
   "nbconvert_exporter": "python",
   "pygments_lexer": "ipython3",
   "version": "3.6.1"
  }
 },
 "nbformat": 4,
 "nbformat_minor": 2
}
