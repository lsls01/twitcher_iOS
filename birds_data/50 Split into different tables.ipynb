{
 "cells": [
  {
   "cell_type": "code",
   "execution_count": 1,
   "metadata": {
    "collapsed": true
   },
   "outputs": [],
   "source": [
    "import pandas as pd\n",
    "import os"
   ]
  },
  {
   "cell_type": "code",
   "execution_count": 2,
   "metadata": {
    "collapsed": true
   },
   "outputs": [],
   "source": [
    "csv_file = \"birds_April_13.csv\"\n",
    "birds_df = pd.read_csv(csv_file)"
   ]
  },
  {
   "cell_type": "code",
   "execution_count": 3,
   "metadata": {},
   "outputs": [
    {
     "data": {
      "text/plain": [
       "Index(['id', 'common_name', 'binomial', 'category', 'order', 'family',\n",
       "       'colour1', 'colour2', 'colour3', 'min_length', 'max_length',\n",
       "       'min_weight', 'max_weight', 'voice', 'descriptions', 'diet', 'sources',\n",
       "       'vic', 'nsw', 'qld', 'act', 'nt', 'sa', 'tas', 'wa'],\n",
       "      dtype='object')"
      ]
     },
     "execution_count": 3,
     "metadata": {},
     "output_type": "execute_result"
    }
   ],
   "source": [
    "birds_df.columns"
   ]
  },
  {
   "cell_type": "code",
   "execution_count": 4,
   "metadata": {
    "collapsed": true
   },
   "outputs": [],
   "source": [
    "birds_loc_df = birds_df[['id', 'vic', 'nsw', 'qld', 'act', 'nt', 'sa', 'tas', 'wa']].copy()"
   ]
  },
  {
   "cell_type": "code",
   "execution_count": 5,
   "metadata": {
    "collapsed": true
   },
   "outputs": [],
   "source": [
    "# birds_loc_df.to_json('final_set/location.json')\n",
    "birds_loc_df.set_index('id', inplace=True)\n",
    "birds_loc_df.to_csv('final_set/location.csv')"
   ]
  },
  {
   "cell_type": "code",
   "execution_count": 6,
   "metadata": {
    "collapsed": true
   },
   "outputs": [],
   "source": [
    "birds_color_df = birds_df[['id', 'colour1', 'colour2', 'colour3']].copy()"
   ]
  },
  {
   "cell_type": "code",
   "execution_count": 7,
   "metadata": {
    "collapsed": true
   },
   "outputs": [],
   "source": [
    "# birds_color_df.to_json('final_set/colour.json')\n",
    "birds_color_df.set_index('id', inplace=True)\n",
    "birds_color_df.to_csv('final_set/colour.csv')"
   ]
  },
  {
   "cell_type": "code",
   "execution_count": 8,
   "metadata": {},
   "outputs": [],
   "source": [
    "name_list = os.listdir('voice/')[1:]\n",
    "voice_id_list = [int(name.split('.')[0]) for name in name_list]"
   ]
  },
  {
   "cell_type": "code",
   "execution_count": 9,
   "metadata": {
    "collapsed": true
   },
   "outputs": [],
   "source": [
    "birds_voice_df = birds_df[['id', 'voice']].copy()"
   ]
  },
  {
   "cell_type": "code",
   "execution_count": 10,
   "metadata": {},
   "outputs": [],
   "source": [
    "birds_voice_df['local'] = pd.np.nan\n",
    "birds_voice_df['voice'] = pd.np.nan\n",
    "birds_voice_df.set_index('id', inplace=True)"
   ]
  },
  {
   "cell_type": "code",
   "execution_count": 11,
   "metadata": {
    "collapsed": true
   },
   "outputs": [],
   "source": [
    "for idx, name in zip(voice_id_list, name_list):\n",
    "    birds_voice_df.ix[idx, 'voice'] = name\n",
    "    birds_voice_df.ix[idx, 'local'] = 1"
   ]
  },
  {
   "cell_type": "code",
   "execution_count": 12,
   "metadata": {
    "collapsed": true
   },
   "outputs": [],
   "source": [
    "# birds_voice_df.to_json('final_set/voice.json')\n",
    "birds_voice_df.to_csv('final_set/voice.csv')"
   ]
  },
  {
   "cell_type": "code",
   "execution_count": 13,
   "metadata": {
    "collapsed": true
   },
   "outputs": [],
   "source": [
    "birds_description_df = birds_df[['id', 'common_name', 'binomial', 'category', 'order', 'family', \n",
    "                                 'min_length', 'max_length', 'min_weight', 'max_weight', 'descriptions', 'diet', \n",
    "                                 'sources']].copy()"
   ]
  },
  {
   "cell_type": "code",
   "execution_count": 14,
   "metadata": {
    "collapsed": true
   },
   "outputs": [],
   "source": [
    "# birds_description_df.to_json('final_set/birds.json')\n",
    "birds_description_df.set_index('id', inplace=True)\n",
    "birds_description_df.to_csv('final_set/birds.csv')"
   ]
  },
  {
   "cell_type": "code",
   "execution_count": null,
   "metadata": {
    "collapsed": true
   },
   "outputs": [],
   "source": []
  }
 ],
 "metadata": {
  "kernelspec": {
   "display_name": "Python 3",
   "language": "python",
   "name": "python3"
  },
  "language_info": {
   "codemirror_mode": {
    "name": "ipython",
    "version": 3
   },
   "file_extension": ".py",
   "mimetype": "text/x-python",
   "name": "python",
   "nbconvert_exporter": "python",
   "pygments_lexer": "ipython3",
   "version": "3.6.1"
  }
 },
 "nbformat": 4,
 "nbformat_minor": 2
}
