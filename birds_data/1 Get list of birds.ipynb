{
 "cells": [
  {
   "cell_type": "code",
   "execution_count": 1,
   "metadata": {
    "collapsed": true
   },
   "outputs": [],
   "source": [
    "# import pandas\n",
    "import pandas as pd"
   ]
  },
  {
   "cell_type": "code",
   "execution_count": 2,
   "metadata": {},
   "outputs": [],
   "source": [
    "# use pandas to get tables on wikipedia into a list of pandas dataframe\n",
    "tables = pd.read_html(\"https://en.wikipedia.org/wiki/List_of_birds_of_Australia\")"
   ]
  },
  {
   "cell_type": "code",
   "execution_count": 3,
   "metadata": {
    "collapsed": true
   },
   "outputs": [],
   "source": [
    "# remove the first 2 tables in the list, as they are non relevant\n",
    "tables = tables[2:]"
   ]
  },
  {
   "cell_type": "code",
   "execution_count": 4,
   "metadata": {},
   "outputs": [],
   "source": [
    "# set the first row as column names and reindex all those tables\n",
    "tables_new = []\n",
    "for table in tables:\n",
    "    table.columns = table.iloc[0]\n",
    "    table = table.reindex(table.index.drop(0))\n",
    "    tables_new.append(table)"
   ]
  },
  {
   "cell_type": "code",
   "execution_count": 5,
   "metadata": {
    "collapsed": true
   },
   "outputs": [],
   "source": [
    "# import beautiful soup and urllib to extract order, family, category of each bird species\n",
    "from bs4 import BeautifulSoup as bs\n",
    "from urllib import request"
   ]
  },
  {
   "cell_type": "code",
   "execution_count": 6,
   "metadata": {},
   "outputs": [],
   "source": [
    "# initialize a beautiful soup\n",
    "url_request = request.urlopen(\"https://en.wikipedia.org/wiki/List_of_birds_of_Australia\")\n",
    "\n",
    "html_text = url_request.read()\n",
    "\n",
    "soup = bs(html_text, \"lxml\")"
   ]
  },
  {
   "cell_type": "code",
   "execution_count": 7,
   "metadata": {},
   "outputs": [],
   "source": [
    "# get a category list\n",
    "cat_list = []\n",
    "for h3 in soup.findAll(\"h3\"):\n",
    "    cat_list.append(h3.text[:-6])\n",
    "\n",
    "cat_list = cat_list[:-11]"
   ]
  },
  {
   "cell_type": "code",
   "execution_count": 8,
   "metadata": {
    "collapsed": true
   },
   "outputs": [],
   "source": [
    "# make a list with all p tag in html\n",
    "p_list = []\n",
    "for p in soup.findAll(\"p\"):\n",
    "    p_list.append(p.text)\n",
    "\n",
    "p_list = [p[7:].split('Order:')[0] for p in p_list if p.startswith('Order:')]"
   ]
  },
  {
   "cell_type": "code",
   "execution_count": 9,
   "metadata": {},
   "outputs": [],
   "source": [
    "# extract family and order\n",
    "order_list = []\n",
    "family_list = []\n",
    "for p in p_list:\n",
    "    p_split = p.split('Family: ')\n",
    "    if len(p_split) == 1:\n",
    "        p_split = p.split('Families: ')\n",
    "    order_list.append(p_split[0].strip())\n",
    "    family_list.append(p_split[1].strip())"
   ]
  },
  {
   "cell_type": "code",
   "execution_count": 10,
   "metadata": {
    "collapsed": true
   },
   "outputs": [],
   "source": [
    "# add category and order for each bird\n",
    "tables = []\n",
    "for idx, table in enumerate(tables_new):\n",
    "    table['Category'] = cat_list[idx]\n",
    "    table['Order'] = order_list[idx]\n",
    "    table['Family'] = family_list[idx]\n",
    "    tables.append(table)"
   ]
  },
  {
   "cell_type": "code",
   "execution_count": 11,
   "metadata": {
    "collapsed": true
   },
   "outputs": [],
   "source": [
    "# combine all tables into one table\n",
    "table = pd.concat(tables, axis=0)\n",
    "\n",
    "table.reset_index(inplace=True)\n",
    "\n",
    "# delete column named \"index\"\n",
    "del table['index']\n",
    "del table['Notes']"
   ]
  },
  {
   "cell_type": "code",
   "execution_count": 12,
   "metadata": {},
   "outputs": [
    {
     "data": {
      "text/html": [
       "<div>\n",
       "<table border=\"1\" class=\"dataframe\">\n",
       "  <thead>\n",
       "    <tr style=\"text-align: right;\">\n",
       "      <th></th>\n",
       "      <th>Common name</th>\n",
       "      <th>Binomial</th>\n",
       "      <th>Category</th>\n",
       "      <th>Order</th>\n",
       "      <th>Family</th>\n",
       "    </tr>\n",
       "  </thead>\n",
       "  <tbody>\n",
       "    <tr>\n",
       "      <th>0</th>\n",
       "      <td>Southern cassowary</td>\n",
       "      <td>Casuarius casuarius</td>\n",
       "      <td>Cassowaries</td>\n",
       "      <td>Casuariformes</td>\n",
       "      <td>Casuariidae</td>\n",
       "    </tr>\n",
       "    <tr>\n",
       "      <th>1</th>\n",
       "      <td>Emu</td>\n",
       "      <td>Dromaius novaehollandiae</td>\n",
       "      <td>Emus</td>\n",
       "      <td>Casuariformes</td>\n",
       "      <td>Dromaiidae</td>\n",
       "    </tr>\n",
       "    <tr>\n",
       "      <th>2</th>\n",
       "      <td>King Island emu</td>\n",
       "      <td>Dromaius ater</td>\n",
       "      <td>Emus</td>\n",
       "      <td>Casuariformes</td>\n",
       "      <td>Dromaiidae</td>\n",
       "    </tr>\n",
       "    <tr>\n",
       "      <th>3</th>\n",
       "      <td>Kangaroo Island emu</td>\n",
       "      <td>Dromaius baudinianus</td>\n",
       "      <td>Emus</td>\n",
       "      <td>Casuariformes</td>\n",
       "      <td>Dromaiidae</td>\n",
       "    </tr>\n",
       "    <tr>\n",
       "      <th>4</th>\n",
       "      <td>Australian brushturkey</td>\n",
       "      <td>Alectura lathami</td>\n",
       "      <td>Mound-builders</td>\n",
       "      <td>Galliformes</td>\n",
       "      <td>Megapodidae</td>\n",
       "    </tr>\n",
       "    <tr>\n",
       "      <th>5</th>\n",
       "      <td>Malleefowl</td>\n",
       "      <td>Leipoa ocellata</td>\n",
       "      <td>Mound-builders</td>\n",
       "      <td>Galliformes</td>\n",
       "      <td>Megapodidae</td>\n",
       "    </tr>\n",
       "    <tr>\n",
       "      <th>6</th>\n",
       "      <td>Orange-footed scrubfowl</td>\n",
       "      <td>Megapodius reinwardt</td>\n",
       "      <td>Mound-builders</td>\n",
       "      <td>Galliformes</td>\n",
       "      <td>Megapodidae</td>\n",
       "    </tr>\n",
       "    <tr>\n",
       "      <th>7</th>\n",
       "      <td>Stubble quail</td>\n",
       "      <td>Coturnix pectoralis</td>\n",
       "      <td>Pheasants</td>\n",
       "      <td>Galliformes</td>\n",
       "      <td>Phasianidae</td>\n",
       "    </tr>\n",
       "    <tr>\n",
       "      <th>8</th>\n",
       "      <td>Brown quail</td>\n",
       "      <td>Coturnix ypsilophora</td>\n",
       "      <td>Pheasants</td>\n",
       "      <td>Galliformes</td>\n",
       "      <td>Phasianidae</td>\n",
       "    </tr>\n",
       "    <tr>\n",
       "      <th>9</th>\n",
       "      <td>King quail</td>\n",
       "      <td>Excalfactoria chinensis</td>\n",
       "      <td>Pheasants</td>\n",
       "      <td>Galliformes</td>\n",
       "      <td>Phasianidae</td>\n",
       "    </tr>\n",
       "  </tbody>\n",
       "</table>\n",
       "</div>"
      ],
      "text/plain": [
       "0              Common name                  Binomial        Category  \\\n",
       "0       Southern cassowary       Casuarius casuarius     Cassowaries   \n",
       "1                      Emu  Dromaius novaehollandiae            Emus   \n",
       "2          King Island emu             Dromaius ater            Emus   \n",
       "3      Kangaroo Island emu      Dromaius baudinianus            Emus   \n",
       "4   Australian brushturkey          Alectura lathami  Mound-builders   \n",
       "5               Malleefowl           Leipoa ocellata  Mound-builders   \n",
       "6  Orange-footed scrubfowl      Megapodius reinwardt  Mound-builders   \n",
       "7            Stubble quail       Coturnix pectoralis       Pheasants   \n",
       "8              Brown quail      Coturnix ypsilophora       Pheasants   \n",
       "9               King quail   Excalfactoria chinensis       Pheasants   \n",
       "\n",
       "0          Order       Family  \n",
       "0  Casuariformes  Casuariidae  \n",
       "1  Casuariformes   Dromaiidae  \n",
       "2  Casuariformes   Dromaiidae  \n",
       "3  Casuariformes   Dromaiidae  \n",
       "4    Galliformes  Megapodidae  \n",
       "5    Galliformes  Megapodidae  \n",
       "6    Galliformes  Megapodidae  \n",
       "7    Galliformes  Phasianidae  \n",
       "8    Galliformes  Phasianidae  \n",
       "9    Galliformes  Phasianidae  "
      ]
     },
     "execution_count": 12,
     "metadata": {},
     "output_type": "execute_result"
    }
   ],
   "source": [
    "table.head(10)"
   ]
  },
  {
   "cell_type": "code",
   "execution_count": 13,
   "metadata": {
    "collapsed": true
   },
   "outputs": [],
   "source": [
    "# save into a csv file\n",
    "table.to_csv('birds_list.csv')"
   ]
  }
 ],
 "metadata": {
  "kernelspec": {
   "display_name": "Python 3",
   "language": "python",
   "name": "python3"
  },
  "language_info": {
   "codemirror_mode": {
    "name": "ipython",
    "version": 3
   },
   "file_extension": ".py",
   "mimetype": "text/x-python",
   "name": "python",
   "nbconvert_exporter": "python",
   "pygments_lexer": "ipython3",
   "version": "3.6.1"
  }
 },
 "nbformat": 4,
 "nbformat_minor": 2
}
