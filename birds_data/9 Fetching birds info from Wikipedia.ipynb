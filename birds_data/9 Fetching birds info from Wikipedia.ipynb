{
 "cells": [
  {
   "cell_type": "code",
   "execution_count": 1,
   "metadata": {
    "collapsed": true
   },
   "outputs": [],
   "source": [
    "# import pandas\n",
    "import pandas as pd"
   ]
  },
  {
   "cell_type": "code",
   "execution_count": 2,
   "metadata": {
    "collapsed": true
   },
   "outputs": [],
   "source": [
    "# import urllib to get data from webpage\n",
    "from urllib.request import Request, urlopen\n",
    "# import beautifulsoup, regular expression to extract data\n",
    "from bs4 import BeautifulSoup as bs\n",
    "import re"
   ]
  },
  {
   "cell_type": "code",
   "execution_count": 3,
   "metadata": {
    "collapsed": true
   },
   "outputs": [],
   "source": [
    "# Read birds list\n",
    "birds_list = pd.read_csv(\"birds_list.csv\")\n",
    "birds_list = birds_list.rename(columns={'Unnamed: 0': 'Idx'})\n",
    "birds_list.set_index('Idx', inplace=True)\n",
    "\n",
    "# Read the current cleaned birds data to get the idx\n",
    "birds_df = pd.read_csv(\"birds_April_6.csv\")\n",
    "birds_df.set_index('Idx', inplace=True)"
   ]
  },
  {
   "cell_type": "code",
   "execution_count": 4,
   "metadata": {},
   "outputs": [],
   "source": [
    "# Get the missing data list\n",
    "index_diff = birds_list.index.difference(birds_df.index)\n",
    "birds_list = birds_list.ix[index_diff]"
   ]
  },
  {
   "cell_type": "code",
   "execution_count": 5,
   "metadata": {
    "collapsed": true
   },
   "outputs": [],
   "source": [
    "birds_list['common_name_in_url'] = birds_list['Common name'].map(lambda x:\"_\".join(x.split()))"
   ]
  },
  {
   "cell_type": "code",
   "execution_count": 6,
   "metadata": {
    "collapsed": true
   },
   "outputs": [],
   "source": [
    "url_prefix = \"https://en.wikipedia.org/wiki/\""
   ]
  },
  {
   "cell_type": "code",
   "execution_count": 7,
   "metadata": {
    "collapsed": true
   },
   "outputs": [],
   "source": [
    "birds_list['url'] = url_prefix + birds_list['common_name_in_url']"
   ]
  },
  {
   "cell_type": "code",
   "execution_count": 8,
   "metadata": {
    "collapsed": true
   },
   "outputs": [],
   "source": [
    "index_list = list(birds_list.index)\n",
    "\n",
    "index_list1 = index_list[:100]\n",
    "index_list2 = index_list[100:200]\n",
    "index_list3 = index_list[200:300]\n",
    "index_list4 = index_list[300:400]\n",
    "index_list5 = index_list[400:500]\n",
    "index_list6 = index_list[500:600]\n",
    "index_list7 = index_list[600:]"
   ]
  },
  {
   "cell_type": "code",
   "execution_count": 9,
   "metadata": {},
   "outputs": [],
   "source": [
    "def test_url(index_sub_list):\n",
    "    for idx in index_sub_list:\n",
    "        url = birds_list.ix[idx, 'url']\n",
    "        req = Request(url, headers={'User-Agent': 'Mozilla/5.0'})\n",
    "        try:\n",
    "            webpage = urlopen(req).read()\n",
    "        except:\n",
    "            birds_list.ix[idx, 'url'] = pd.np.nan"
   ]
  },
  {
   "cell_type": "code",
   "execution_count": 10,
   "metadata": {
    "collapsed": true
   },
   "outputs": [],
   "source": [
    "test_url(index_list1)"
   ]
  },
  {
   "cell_type": "code",
   "execution_count": 11,
   "metadata": {
    "collapsed": true
   },
   "outputs": [],
   "source": [
    "test_url(index_list2)"
   ]
  },
  {
   "cell_type": "code",
   "execution_count": 12,
   "metadata": {
    "collapsed": true
   },
   "outputs": [],
   "source": [
    "test_url(index_list3)"
   ]
  },
  {
   "cell_type": "code",
   "execution_count": 13,
   "metadata": {
    "collapsed": true
   },
   "outputs": [],
   "source": [
    "test_url(index_list4)"
   ]
  },
  {
   "cell_type": "code",
   "execution_count": 14,
   "metadata": {
    "collapsed": true
   },
   "outputs": [],
   "source": [
    "test_url(index_list5)"
   ]
  },
  {
   "cell_type": "code",
   "execution_count": 15,
   "metadata": {
    "collapsed": true
   },
   "outputs": [],
   "source": [
    "test_url(index_list6)"
   ]
  },
  {
   "cell_type": "code",
   "execution_count": 16,
   "metadata": {
    "collapsed": true
   },
   "outputs": [],
   "source": [
    "test_url(index_list7)"
   ]
  },
  {
   "cell_type": "code",
   "execution_count": 17,
   "metadata": {
    "collapsed": true
   },
   "outputs": [],
   "source": [
    "birds_list.to_csv(\"birds_info_wiki.csv\")"
   ]
  },
  {
   "cell_type": "code",
   "execution_count": 22,
   "metadata": {
    "collapsed": true
   },
   "outputs": [],
   "source": [
    "birds_list.ix[39, 'url'] = 'https://en.wikipedia.org/wiki/Mallard'"
   ]
  },
  {
   "cell_type": "code",
   "execution_count": 26,
   "metadata": {
    "collapsed": true
   },
   "outputs": [],
   "source": [
    "birds_list.ix[354, 'url'] = 'https://en.wikipedia.org/wiki/Baird%27s_sandpiper'"
   ]
  },
  {
   "cell_type": "code",
   "execution_count": 39,
   "metadata": {},
   "outputs": [],
   "source": [
    "birds_list = pd.concat([birds_list, pd.DataFrame(columns=['nsw', 'vic', 'tas', 'act', 'sa', 'wa', 'nt', 'qld', \n",
    "                                                          'min_weight', 'max_weight', 'min_length', 'max_length',\n",
    "                                                          'images_url', 'voice_url', 'Description', 'Sources'\n",
    "                                                          'colour'])])"
   ]
  },
  {
   "cell_type": "code",
   "execution_count": 40,
   "metadata": {
    "collapsed": true
   },
   "outputs": [],
   "source": [
    "birds_list_nul = birds_list[birds_list['url'].isnull()]"
   ]
  },
  {
   "cell_type": "code",
   "execution_count": 41,
   "metadata": {
    "scrolled": true
   },
   "outputs": [
    {
     "data": {
      "text/plain": [
       "658"
      ]
     },
     "execution_count": 41,
     "metadata": {},
     "output_type": "execute_result"
    }
   ],
   "source": [
    "len(birds_list)"
   ]
  },
  {
   "cell_type": "code",
   "execution_count": 42,
   "metadata": {},
   "outputs": [
    {
     "data": {
      "text/plain": [
       "1"
      ]
     },
     "execution_count": 42,
     "metadata": {},
     "output_type": "execute_result"
    }
   ],
   "source": [
    "len(birds_list_nul)"
   ]
  },
  {
   "cell_type": "code",
   "execution_count": 43,
   "metadata": {
    "scrolled": false
   },
   "outputs": [
    {
     "data": {
      "text/html": [
       "<div>\n",
       "<table border=\"1\" class=\"dataframe\">\n",
       "  <thead>\n",
       "    <tr style=\"text-align: right;\">\n",
       "      <th></th>\n",
       "      <th>Binomial</th>\n",
       "      <th>Category</th>\n",
       "      <th>Common name</th>\n",
       "      <th>Family</th>\n",
       "      <th>Notes</th>\n",
       "      <th>Order</th>\n",
       "      <th>colour</th>\n",
       "      <th>common_name_in_url</th>\n",
       "      <th>size</th>\n",
       "      <th>url</th>\n",
       "      <th>...</th>\n",
       "      <th>nt</th>\n",
       "      <th>qld</th>\n",
       "      <th>min_weight</th>\n",
       "      <th>max_weight</th>\n",
       "      <th>min_length</th>\n",
       "      <th>max_length</th>\n",
       "      <th>images_url</th>\n",
       "      <th>voice_url</th>\n",
       "      <th>Description</th>\n",
       "      <th>Sourcescolour</th>\n",
       "    </tr>\n",
       "  </thead>\n",
       "  <tbody>\n",
       "    <tr>\n",
       "      <th>884</th>\n",
       "      <td>Motacilla taivana</td>\n",
       "      <td>Wagtails and pipits</td>\n",
       "      <td>Green-headed yellow wagtail</td>\n",
       "      <td>Motacillidae</td>\n",
       "      <td>NaN</td>\n",
       "      <td>Passeriformes</td>\n",
       "      <td>NaN</td>\n",
       "      <td>Green-headed_yellow_wagtail</td>\n",
       "      <td>NaN</td>\n",
       "      <td>NaN</td>\n",
       "      <td>...</td>\n",
       "      <td>NaN</td>\n",
       "      <td>NaN</td>\n",
       "      <td>NaN</td>\n",
       "      <td>NaN</td>\n",
       "      <td>NaN</td>\n",
       "      <td>NaN</td>\n",
       "      <td>NaN</td>\n",
       "      <td>NaN</td>\n",
       "      <td>NaN</td>\n",
       "      <td>NaN</td>\n",
       "    </tr>\n",
       "  </tbody>\n",
       "</table>\n",
       "<p>1 rows × 27 columns</p>\n",
       "</div>"
      ],
      "text/plain": [
       "              Binomial             Category                  Common name  \\\n",
       "884  Motacilla taivana  Wagtails and pipits  Green-headed yellow wagtail   \n",
       "\n",
       "           Family Notes          Order  colour           common_name_in_url  \\\n",
       "884  Motacillidae   NaN  Passeriformes     NaN  Green-headed_yellow_wagtail   \n",
       "\n",
       "     size  url      ...        nt  qld min_weight max_weight min_length  \\\n",
       "884   NaN  NaN      ...       NaN  NaN        NaN        NaN        NaN   \n",
       "\n",
       "    max_length images_url voice_url Description Sourcescolour  \n",
       "884        NaN        NaN       NaN         NaN           NaN  \n",
       "\n",
       "[1 rows x 27 columns]"
      ]
     },
     "execution_count": 43,
     "metadata": {},
     "output_type": "execute_result"
    }
   ],
   "source": [
    "birds_list_nul"
   ]
  },
  {
   "cell_type": "code",
   "execution_count": 44,
   "metadata": {
    "collapsed": true
   },
   "outputs": [],
   "source": [
    "birds_list.to_csv(\"birds_info_wiki.csv\")"
   ]
  },
  {
   "cell_type": "code",
   "execution_count": 45,
   "metadata": {
    "collapsed": true
   },
   "outputs": [],
   "source": [
    "birds_list_nul.to_csv('birds_not_found_in_wiki.csv')"
   ]
  },
  {
   "cell_type": "code",
   "execution_count": null,
   "metadata": {
    "collapsed": true
   },
   "outputs": [],
   "source": []
  }
 ],
 "metadata": {
  "kernelspec": {
   "display_name": "Python 3",
   "language": "python",
   "name": "python3"
  },
  "language_info": {
   "codemirror_mode": {
    "name": "ipython",
    "version": 3
   },
   "file_extension": ".py",
   "mimetype": "text/x-python",
   "name": "python",
   "nbconvert_exporter": "python",
   "pygments_lexer": "ipython3",
   "version": "3.6.1"
  }
 },
 "nbformat": 4,
 "nbformat_minor": 2
}
