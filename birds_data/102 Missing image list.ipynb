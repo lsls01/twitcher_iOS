{
 "cells": [
  {
   "cell_type": "code",
   "execution_count": 1,
   "metadata": {
    "collapsed": true
   },
   "outputs": [],
   "source": [
    "# import pandas to deal with DataFrame\n",
    "import pandas as pd\n",
    "# import os lib to check if a file is exist\n",
    "import os"
   ]
  },
  {
   "cell_type": "code",
   "execution_count": 2,
   "metadata": {
    "collapsed": true
   },
   "outputs": [],
   "source": [
    "# load dataframe file\n",
    "birds_df = pd.read_csv(\"birds_April_6.csv\")\n",
    "# delete useless column\n",
    "del birds_df['Unnamed: 0']\n",
    "# reset index\n",
    "birds_df.set_index('Idx', inplace=True)"
   ]
  },
  {
   "cell_type": "code",
   "execution_count": 3,
   "metadata": {
    "collapsed": true
   },
   "outputs": [],
   "source": [
    "# assign directory\n",
    "directory = 'imgs_aio/'\n",
    "# assign index list\n",
    "index_set = set(birds_df.index)"
   ]
  },
  {
   "cell_type": "code",
   "execution_count": 4,
   "metadata": {
    "collapsed": true
   },
   "outputs": [],
   "source": [
    "# save all filenames into file_list\n",
    "file_list = os.listdir(directory)\n",
    "# remove .DS_Store in file_list\n",
    "file_list = file_list[1:]"
   ]
  },
  {
   "cell_type": "code",
   "execution_count": 5,
   "metadata": {
    "collapsed": true
   },
   "outputs": [],
   "source": [
    "# initialize a new set to store the idx of birds which already have images\n",
    "img_exist_idx_set = set()"
   ]
  },
  {
   "cell_type": "code",
   "execution_count": 6,
   "metadata": {
    "collapsed": true
   },
   "outputs": [],
   "source": [
    "for filename in file_list:\n",
    "    idx = filename.split('.')[0].split('_')[0]\n",
    "    img_exist_idx_set.add(int(idx))"
   ]
  },
  {
   "cell_type": "code",
   "execution_count": 7,
   "metadata": {
    "collapsed": true
   },
   "outputs": [],
   "source": [
    "# get the difference of two sets\n",
    "missing_img_set = index_set - img_exist_idx_set"
   ]
  },
  {
   "cell_type": "code",
   "execution_count": 8,
   "metadata": {
    "scrolled": true
   },
   "outputs": [
    {
     "data": {
      "text/plain": [
       "24"
      ]
     },
     "execution_count": 8,
     "metadata": {},
     "output_type": "execute_result"
    }
   ],
   "source": [
    "# check how many birds still need images\n",
    "len(missing_img_set)"
   ]
  },
  {
   "cell_type": "code",
   "execution_count": 9,
   "metadata": {
    "collapsed": true
   },
   "outputs": [],
   "source": [
    "# create a new dataframe to store the birds missing images\n",
    "missing_birds_df = birds_df.ix[missing_img_set, ['Common name', 'Binomial']]\n",
    "# initilize a new column to store voice url\n",
    "missing_birds_df['images_url'] = pd.np.nan\n",
    "\n",
    "missing_birds_df['Sources'] = pd.np.nan"
   ]
  },
  {
   "cell_type": "code",
   "execution_count": 10,
   "metadata": {
    "scrolled": true
   },
   "outputs": [
    {
     "data": {
      "text/html": [
       "<div>\n",
       "<table border=\"1\" class=\"dataframe\">\n",
       "  <thead>\n",
       "    <tr style=\"text-align: right;\">\n",
       "      <th></th>\n",
       "      <th>Common name</th>\n",
       "      <th>Binomial</th>\n",
       "      <th>images_url</th>\n",
       "      <th>Sources</th>\n",
       "    </tr>\n",
       "    <tr>\n",
       "      <th>Idx</th>\n",
       "      <th></th>\n",
       "      <th></th>\n",
       "      <th></th>\n",
       "      <th></th>\n",
       "    </tr>\n",
       "  </thead>\n",
       "  <tbody>\n",
       "    <tr>\n",
       "      <th>6</th>\n",
       "      <td>Orange-footed scrubfowl</td>\n",
       "      <td>Megapodius reinwardt</td>\n",
       "      <td>NaN</td>\n",
       "      <td>NaN</td>\n",
       "    </tr>\n",
       "    <tr>\n",
       "      <th>26</th>\n",
       "      <td>Radjah shelduck</td>\n",
       "      <td>Tadorna radjah</td>\n",
       "      <td>NaN</td>\n",
       "      <td>NaN</td>\n",
       "    </tr>\n",
       "    <tr>\n",
       "      <th>27</th>\n",
       "      <td>Australian shelduck</td>\n",
       "      <td>Tadorna tadornoides</td>\n",
       "      <td>NaN</td>\n",
       "      <td>NaN</td>\n",
       "    </tr>\n",
       "    <tr>\n",
       "      <th>28</th>\n",
       "      <td>Paradise shelduck</td>\n",
       "      <td>Tadorna variegata</td>\n",
       "      <td>NaN</td>\n",
       "      <td>NaN</td>\n",
       "    </tr>\n",
       "    <tr>\n",
       "      <th>29</th>\n",
       "      <td>Australian wood duck</td>\n",
       "      <td>Chenonetta jubata</td>\n",
       "      <td>NaN</td>\n",
       "      <td>NaN</td>\n",
       "    </tr>\n",
       "    <tr>\n",
       "      <th>30</th>\n",
       "      <td>Pink-eared duck</td>\n",
       "      <td>Malacorhynchus membranaceus</td>\n",
       "      <td>NaN</td>\n",
       "      <td>NaN</td>\n",
       "    </tr>\n",
       "    <tr>\n",
       "      <th>543</th>\n",
       "      <td>Superb fairywren</td>\n",
       "      <td>Malurus cyaneus</td>\n",
       "      <td>NaN</td>\n",
       "      <td>NaN</td>\n",
       "    </tr>\n",
       "    <tr>\n",
       "      <th>33</th>\n",
       "      <td>Garganey</td>\n",
       "      <td>Anas querquedula</td>\n",
       "      <td>NaN</td>\n",
       "      <td>NaN</td>\n",
       "    </tr>\n",
       "    <tr>\n",
       "      <th>301</th>\n",
       "      <td>Grey plover</td>\n",
       "      <td>Pluvialis squatarola</td>\n",
       "      <td>NaN</td>\n",
       "      <td>NaN</td>\n",
       "    </tr>\n",
       "    <tr>\n",
       "      <th>62</th>\n",
       "      <td>Spinifex pigeon</td>\n",
       "      <td>Geophaps plumifera</td>\n",
       "      <td>NaN</td>\n",
       "      <td>NaN</td>\n",
       "    </tr>\n",
       "    <tr>\n",
       "      <th>68</th>\n",
       "      <td>Peaceful dove</td>\n",
       "      <td>Geopelia striata</td>\n",
       "      <td>NaN</td>\n",
       "      <td>NaN</td>\n",
       "    </tr>\n",
       "    <tr>\n",
       "      <th>69</th>\n",
       "      <td>Bar-shouldered dove</td>\n",
       "      <td>Geopelia humeralis</td>\n",
       "      <td>NaN</td>\n",
       "      <td>NaN</td>\n",
       "    </tr>\n",
       "    <tr>\n",
       "      <th>70</th>\n",
       "      <td>Wonga pigeon</td>\n",
       "      <td>Leucosarcia melanoleuca</td>\n",
       "      <td>NaN</td>\n",
       "      <td>NaN</td>\n",
       "    </tr>\n",
       "    <tr>\n",
       "      <th>200</th>\n",
       "      <td>Brown booby</td>\n",
       "      <td>Sula leucogaster</td>\n",
       "      <td>NaN</td>\n",
       "      <td>NaN</td>\n",
       "    </tr>\n",
       "    <tr>\n",
       "      <th>203</th>\n",
       "      <td>Great cormorant</td>\n",
       "      <td>Phalacrocorax carbo</td>\n",
       "      <td>NaN</td>\n",
       "      <td>NaN</td>\n",
       "    </tr>\n",
       "    <tr>\n",
       "      <th>204</th>\n",
       "      <td>Little black cormorant</td>\n",
       "      <td>Phalacrocorax sulcirostris</td>\n",
       "      <td>NaN</td>\n",
       "      <td>NaN</td>\n",
       "    </tr>\n",
       "    <tr>\n",
       "      <th>209</th>\n",
       "      <td>Kerguelen shag</td>\n",
       "      <td>Phalacrocorax verrucosus</td>\n",
       "      <td>NaN</td>\n",
       "      <td>NaN</td>\n",
       "    </tr>\n",
       "    <tr>\n",
       "      <th>82</th>\n",
       "      <td>New Zealand pigeon</td>\n",
       "      <td>Hemiphaga novaeseelandiae</td>\n",
       "      <td>NaN</td>\n",
       "      <td>NaN</td>\n",
       "    </tr>\n",
       "    <tr>\n",
       "      <th>83</th>\n",
       "      <td>Tawny frogmouth</td>\n",
       "      <td>Podargus strigoides</td>\n",
       "      <td>NaN</td>\n",
       "      <td>NaN</td>\n",
       "    </tr>\n",
       "    <tr>\n",
       "      <th>217</th>\n",
       "      <td>Grey heron</td>\n",
       "      <td>Ardea cinerea</td>\n",
       "      <td>NaN</td>\n",
       "      <td>NaN</td>\n",
       "    </tr>\n",
       "    <tr>\n",
       "      <th>220</th>\n",
       "      <td>Intermediate egret</td>\n",
       "      <td>Ardea intermedia</td>\n",
       "      <td>NaN</td>\n",
       "      <td>NaN</td>\n",
       "    </tr>\n",
       "    <tr>\n",
       "      <th>350</th>\n",
       "      <td>Little stint</td>\n",
       "      <td>Calidris minuta</td>\n",
       "      <td>NaN</td>\n",
       "      <td>NaN</td>\n",
       "    </tr>\n",
       "    <tr>\n",
       "      <th>106</th>\n",
       "      <td>Grey-backed storm petrel</td>\n",
       "      <td>Garrodia nereis</td>\n",
       "      <td>NaN</td>\n",
       "      <td>NaN</td>\n",
       "    </tr>\n",
       "    <tr>\n",
       "      <th>108</th>\n",
       "      <td>Black-bellied storm petrel</td>\n",
       "      <td>Fregetta tropica</td>\n",
       "      <td>NaN</td>\n",
       "      <td>NaN</td>\n",
       "    </tr>\n",
       "  </tbody>\n",
       "</table>\n",
       "</div>"
      ],
      "text/plain": [
       "                    Common name                     Binomial  images_url  \\\n",
       "Idx                                                                        \n",
       "6       Orange-footed scrubfowl         Megapodius reinwardt         NaN   \n",
       "26              Radjah shelduck               Tadorna radjah         NaN   \n",
       "27          Australian shelduck          Tadorna tadornoides         NaN   \n",
       "28            Paradise shelduck            Tadorna variegata         NaN   \n",
       "29         Australian wood duck            Chenonetta jubata         NaN   \n",
       "30              Pink-eared duck  Malacorhynchus membranaceus         NaN   \n",
       "543            Superb fairywren              Malurus cyaneus         NaN   \n",
       "33                     Garganey             Anas querquedula         NaN   \n",
       "301                 Grey plover         Pluvialis squatarola         NaN   \n",
       "62              Spinifex pigeon           Geophaps plumifera         NaN   \n",
       "68                Peaceful dove             Geopelia striata         NaN   \n",
       "69          Bar-shouldered dove           Geopelia humeralis         NaN   \n",
       "70                 Wonga pigeon      Leucosarcia melanoleuca         NaN   \n",
       "200                 Brown booby             Sula leucogaster         NaN   \n",
       "203             Great cormorant          Phalacrocorax carbo         NaN   \n",
       "204      Little black cormorant   Phalacrocorax sulcirostris         NaN   \n",
       "209              Kerguelen shag     Phalacrocorax verrucosus         NaN   \n",
       "82           New Zealand pigeon    Hemiphaga novaeseelandiae         NaN   \n",
       "83              Tawny frogmouth          Podargus strigoides         NaN   \n",
       "217                  Grey heron                Ardea cinerea         NaN   \n",
       "220          Intermediate egret             Ardea intermedia         NaN   \n",
       "350                Little stint              Calidris minuta         NaN   \n",
       "106    Grey-backed storm petrel              Garrodia nereis         NaN   \n",
       "108  Black-bellied storm petrel             Fregetta tropica         NaN   \n",
       "\n",
       "     Sources  \n",
       "Idx           \n",
       "6        NaN  \n",
       "26       NaN  \n",
       "27       NaN  \n",
       "28       NaN  \n",
       "29       NaN  \n",
       "30       NaN  \n",
       "543      NaN  \n",
       "33       NaN  \n",
       "301      NaN  \n",
       "62       NaN  \n",
       "68       NaN  \n",
       "69       NaN  \n",
       "70       NaN  \n",
       "200      NaN  \n",
       "203      NaN  \n",
       "204      NaN  \n",
       "209      NaN  \n",
       "82       NaN  \n",
       "83       NaN  \n",
       "217      NaN  \n",
       "220      NaN  \n",
       "350      NaN  \n",
       "106      NaN  \n",
       "108      NaN  "
      ]
     },
     "execution_count": 10,
     "metadata": {},
     "output_type": "execute_result"
    }
   ],
   "source": [
    "# check the result\n",
    "missing_birds_df"
   ]
  },
  {
   "cell_type": "code",
   "execution_count": 11,
   "metadata": {
    "collapsed": true
   },
   "outputs": [],
   "source": [
    "# save into a new csv\n",
    "missing_birds_df.to_csv(\"102 missing images list.csv\")"
   ]
  },
  {
   "cell_type": "code",
   "execution_count": 12,
   "metadata": {
    "collapsed": true
   },
   "outputs": [],
   "source": [
    "missing_birds_df.ix[6, 'Sources'] = \"Toby Hudson\\nProceedings of the Zoological Society of London 1876\""
   ]
  },
  {
   "cell_type": "code",
   "execution_count": 13,
   "metadata": {
    "collapsed": true
   },
   "outputs": [],
   "source": [
    "missing_birds_df.ix[26, 'Sources'] = \"JJ Harrison (jjharrison89@facebook.com)\""
   ]
  },
  {
   "cell_type": "code",
   "execution_count": null,
   "metadata": {
    "collapsed": true
   },
   "outputs": [],
   "source": [
    "\n"
   ]
  }
 ],
 "metadata": {
  "kernelspec": {
   "display_name": "Python 3",
   "language": "python",
   "name": "python3"
  },
  "language_info": {
   "codemirror_mode": {
    "name": "ipython",
    "version": 3
   },
   "file_extension": ".py",
   "mimetype": "text/x-python",
   "name": "python",
   "nbconvert_exporter": "python",
   "pygments_lexer": "ipython3",
   "version": "3.6.1"
  }
 },
 "nbformat": 4,
 "nbformat_minor": 2
}
