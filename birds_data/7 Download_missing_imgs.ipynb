{
 "cells": [
  {
   "cell_type": "code",
   "execution_count": 1,
   "metadata": {
    "collapsed": true
   },
   "outputs": [],
   "source": [
    "# import pandas\n",
    "import pandas as pd\n",
    "# import urllib to get data from webpage\n",
    "from urllib.request import Request, urlopen\n",
    "# import beautifulsoup, regular expression to extract data\n",
    "from bs4 import BeautifulSoup as bs\n",
    "import re\n",
    "import os"
   ]
  },
  {
   "cell_type": "code",
   "execution_count": 2,
   "metadata": {
    "collapsed": true
   },
   "outputs": [],
   "source": [
    "# Read the current cleaned birds data to get the idx\n",
    "birds_df = pd.read_csv(\"birds.csv\")\n",
    "birds_df.set_index('id', inplace=True)"
   ]
  },
  {
   "cell_type": "code",
   "execution_count": 13,
   "metadata": {},
   "outputs": [],
   "source": [
    "imgs_old_df = pd.read_csv('imgs.csv')\n",
    "# remove unused column\n",
    "del imgs_old_df['Unnamed: 0']\n",
    "\n",
    "# get the transpose of the dataframe\n",
    "imgs_T_old_df = imgs_old_df.T\n",
    "imgs_existed_set = set(imgs_T_old_df.index)\n",
    "imgs_to_down_set = set([str(idx) for idx in birds_df.index]) - imgs_existed_set"
   ]
  },
  {
   "cell_type": "code",
   "execution_count": 15,
   "metadata": {},
   "outputs": [
    {
     "data": {
      "text/plain": [
       "235"
      ]
     },
     "execution_count": 15,
     "metadata": {},
     "output_type": "execute_result"
    }
   ],
   "source": [
    "len(imgs_existed_set)"
   ]
  },
  {
   "cell_type": "code",
   "execution_count": 3,
   "metadata": {
    "collapsed": true
   },
   "outputs": [],
   "source": [
    "birds_df['common_name_in_url'] = birds_df['common_name'].map(lambda x:\"_\".join(x.split()))\n",
    "url_prefix = \"https://en.wikipedia.org/wiki/\"\n",
    "birds_df['url'] = url_prefix + birds_df['common_name_in_url']"
   ]
  },
  {
   "cell_type": "code",
   "execution_count": 4,
   "metadata": {
    "collapsed": true
   },
   "outputs": [],
   "source": [
    "imgs_df = pd.DataFrame()\n",
    "imgs_df['id'] = pd.np.nan\n",
    "imgs_df['filename'] = pd.np.nan\n",
    "imgs_df['url'] = pd.np.nan\n",
    "imgs_df['source'] = pd.np.nan\n",
    "imgs_df['author'] = pd.np.nan"
   ]
  },
  {
   "cell_type": "code",
   "execution_count": 5,
   "metadata": {
    "collapsed": true
   },
   "outputs": [],
   "source": [
    "def down_one(soup, idx):\n",
    "    number_of_noviewer = len(soup.find_all('img', { \"class\" : \"noviewer\" }))\n",
    "    remove_number_from_end = - (3 + number_of_noviewer)\n",
    "    img_tags = soup.find_all('img')[:remove_number_from_end]\n",
    "    count = 0\n",
    "    for tag in img_tags:\n",
    "        src = tag['src']\n",
    "        if 'Status' in src or 'map' in src or 'Icon' in src:\n",
    "            continue\n",
    "        try:\n",
    "            skip_to_url = 'https://en.wikipedia.org' + tag.parent['href']\n",
    "        except:\n",
    "            continue\n",
    "        img_link = 'https:' + src.replace('/thumb', '')\n",
    "        # print(img_link)\n",
    "        img_link = re.search('.*?.(jpg|JPG)', img_link)\n",
    "        if img_link is None:\n",
    "            continue\n",
    "        img_link = img_link[0]\n",
    "        count = count + 1\n",
    "        filename = 'hdimgs/' + 'hd' + str(idx) + '_' + str(count) + '.jpg'\n",
    "        if os.path.isfile(filename):\n",
    "            continue\n",
    "        try:\n",
    "            request = urlopen(img_link, timeout=5)\n",
    "            with open(filename, 'wb') as f:\n",
    "                f.write(request.read())\n",
    "        except:\n",
    "            continue\n",
    "        author = get_author(skip_to_url, idx)\n",
    "        if not author:\n",
    "            continue\n",
    "        new_record = [idx, filename, img_link, author[0], author[1]]\n",
    "        imgs_df = imgs_df.append(pd.DataFrame([new_record], columns=imgs_df.columns))"
   ]
  },
  {
   "cell_type": "code",
   "execution_count": 6,
   "metadata": {
    "collapsed": true
   },
   "outputs": [],
   "source": [
    "def get_author(url, idx):\n",
    "    try:\n",
    "        df = pd.read_html(skip_to_url)\n",
    "    except:\n",
    "        return False\n",
    "    df = df[1]\n",
    "    img_source = False\n",
    "    img_author = False\n",
    "    for row in df.index:\n",
    "        if df[0][row] == 'Source':\n",
    "            img_source = df[1][row]\n",
    "        if df[0][row] == 'Author':\n",
    "            img_author = df[1][row]\n",
    "            break\n",
    "    if img_author or img_source is False:\n",
    "        return False\n",
    "    return img_source, img_author"
   ]
  },
  {
   "cell_type": "code",
   "execution_count": 8,
   "metadata": {
    "collapsed": true
   },
   "outputs": [],
   "source": [
    "for idx in birds_df.index:\n",
    "    url = birds_df.ix[idx, 'url']\n",
    "    # use Firefox as an user-agent, otherwise the connection will be rejected.\n",
    "    req = Request(url, headers={'User-Agent': 'Mozilla/5.0'})\n",
    "    try:\n",
    "        webpage = urlopen(req).read()\n",
    "    except:\n",
    "        birds_df.ix[idx, 'url'] = pd.np.nan\n",
    "        continue\n",
    "    # get the content of a webpage\n",
    "    webpage = urlopen(req).read()\n",
    "    # convert to string\n",
    "    webpage_str = str(webpage)\n",
    "    # initialize a beautiful soup with lxml engine\n",
    "    soup = bs(webpage, \"lxml\")\n",
    "    down_one(soup, idx)"
   ]
  },
  {
   "cell_type": "code",
   "execution_count": 9,
   "metadata": {
    "collapsed": true
   },
   "outputs": [],
   "source": [
    "imgs_df.to_csv('hd_imgs.csv')"
   ]
  },
  {
   "cell_type": "code",
   "execution_count": 17,
   "metadata": {
    "collapsed": true
   },
   "outputs": [],
   "source": [
    "birds_list.to_csv(\"birds_info_wiki.csv\")"
   ]
  },
  {
   "cell_type": "code",
   "execution_count": 22,
   "metadata": {
    "collapsed": true
   },
   "outputs": [],
   "source": [
    "birds_list.ix[39, 'url'] = 'https://en.wikipedia.org/wiki/Mallard'"
   ]
  },
  {
   "cell_type": "code",
   "execution_count": 26,
   "metadata": {
    "collapsed": true
   },
   "outputs": [],
   "source": [
    "birds_list.ix[354, 'url'] = 'https://en.wikipedia.org/wiki/Baird%27s_sandpiper'"
   ]
  },
  {
   "cell_type": "code",
   "execution_count": 39,
   "metadata": {
    "collapsed": true
   },
   "outputs": [],
   "source": [
    "birds_list = pd.concat([birds_list, pd.DataFrame(columns=['nsw', 'vic', 'tas', 'act', 'sa', 'wa', 'nt', 'qld', \n",
    "                                                          'min_weight', 'max_weight', 'min_length', 'max_length',\n",
    "                                                          'images_url', 'voice_url', 'Description', 'Sources'\n",
    "                                                          'colour'])])"
   ]
  },
  {
   "cell_type": "code",
   "execution_count": 40,
   "metadata": {
    "collapsed": true
   },
   "outputs": [],
   "source": [
    "birds_list_nul = birds_list[birds_list['url'].isnull()]"
   ]
  },
  {
   "cell_type": "code",
   "execution_count": 41,
   "metadata": {
    "scrolled": true
   },
   "outputs": [
    {
     "data": {
      "text/plain": [
       "658"
      ]
     },
     "execution_count": 41,
     "metadata": {},
     "output_type": "execute_result"
    }
   ],
   "source": [
    "len(birds_list)"
   ]
  },
  {
   "cell_type": "code",
   "execution_count": 42,
   "metadata": {},
   "outputs": [
    {
     "data": {
      "text/plain": [
       "1"
      ]
     },
     "execution_count": 42,
     "metadata": {},
     "output_type": "execute_result"
    }
   ],
   "source": [
    "len(birds_list_nul)"
   ]
  },
  {
   "cell_type": "code",
   "execution_count": 43,
   "metadata": {
    "scrolled": false
   },
   "outputs": [
    {
     "data": {
      "text/html": [
       "<div>\n",
       "<table border=\"1\" class=\"dataframe\">\n",
       "  <thead>\n",
       "    <tr style=\"text-align: right;\">\n",
       "      <th></th>\n",
       "      <th>Binomial</th>\n",
       "      <th>Category</th>\n",
       "      <th>Common name</th>\n",
       "      <th>Family</th>\n",
       "      <th>Notes</th>\n",
       "      <th>Order</th>\n",
       "      <th>colour</th>\n",
       "      <th>common_name_in_url</th>\n",
       "      <th>size</th>\n",
       "      <th>url</th>\n",
       "      <th>...</th>\n",
       "      <th>nt</th>\n",
       "      <th>qld</th>\n",
       "      <th>min_weight</th>\n",
       "      <th>max_weight</th>\n",
       "      <th>min_length</th>\n",
       "      <th>max_length</th>\n",
       "      <th>images_url</th>\n",
       "      <th>voice_url</th>\n",
       "      <th>Description</th>\n",
       "      <th>Sourcescolour</th>\n",
       "    </tr>\n",
       "  </thead>\n",
       "  <tbody>\n",
       "    <tr>\n",
       "      <th>884</th>\n",
       "      <td>Motacilla taivana</td>\n",
       "      <td>Wagtails and pipits</td>\n",
       "      <td>Green-headed yellow wagtail</td>\n",
       "      <td>Motacillidae</td>\n",
       "      <td>NaN</td>\n",
       "      <td>Passeriformes</td>\n",
       "      <td>NaN</td>\n",
       "      <td>Green-headed_yellow_wagtail</td>\n",
       "      <td>NaN</td>\n",
       "      <td>NaN</td>\n",
       "      <td>...</td>\n",
       "      <td>NaN</td>\n",
       "      <td>NaN</td>\n",
       "      <td>NaN</td>\n",
       "      <td>NaN</td>\n",
       "      <td>NaN</td>\n",
       "      <td>NaN</td>\n",
       "      <td>NaN</td>\n",
       "      <td>NaN</td>\n",
       "      <td>NaN</td>\n",
       "      <td>NaN</td>\n",
       "    </tr>\n",
       "  </tbody>\n",
       "</table>\n",
       "<p>1 rows × 27 columns</p>\n",
       "</div>"
      ],
      "text/plain": [
       "              Binomial             Category                  Common name  \\\n",
       "884  Motacilla taivana  Wagtails and pipits  Green-headed yellow wagtail   \n",
       "\n",
       "           Family Notes          Order  colour           common_name_in_url  \\\n",
       "884  Motacillidae   NaN  Passeriformes     NaN  Green-headed_yellow_wagtail   \n",
       "\n",
       "     size  url      ...        nt  qld min_weight max_weight min_length  \\\n",
       "884   NaN  NaN      ...       NaN  NaN        NaN        NaN        NaN   \n",
       "\n",
       "    max_length images_url voice_url Description Sourcescolour  \n",
       "884        NaN        NaN       NaN         NaN           NaN  \n",
       "\n",
       "[1 rows x 27 columns]"
      ]
     },
     "execution_count": 43,
     "metadata": {},
     "output_type": "execute_result"
    }
   ],
   "source": [
    "birds_list_nul"
   ]
  },
  {
   "cell_type": "code",
   "execution_count": 44,
   "metadata": {
    "collapsed": true
   },
   "outputs": [],
   "source": [
    "birds_list.to_csv(\"birds_info_wiki.csv\")"
   ]
  },
  {
   "cell_type": "code",
   "execution_count": 45,
   "metadata": {
    "collapsed": true
   },
   "outputs": [],
   "source": [
    "birds_list_nul.to_csv('birds_not_found_in_wiki.csv')"
   ]
  },
  {
   "cell_type": "code",
   "execution_count": null,
   "metadata": {
    "collapsed": true
   },
   "outputs": [],
   "source": []
  }
 ],
 "metadata": {
  "kernelspec": {
   "display_name": "Python 3",
   "language": "python",
   "name": "python3"
  },
  "language_info": {
   "codemirror_mode": {
    "name": "ipython",
    "version": 3
   },
   "file_extension": ".py",
   "mimetype": "text/x-python",
   "name": "python",
   "nbconvert_exporter": "python",
   "pygments_lexer": "ipython3",
   "version": "3.6.1"
  }
 },
 "nbformat": 4,
 "nbformat_minor": 2
}
