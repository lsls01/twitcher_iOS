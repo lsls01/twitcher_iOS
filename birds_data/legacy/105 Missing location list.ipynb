{
 "cells": [
  {
   "cell_type": "code",
   "execution_count": 1,
   "metadata": {
    "collapsed": true
   },
   "outputs": [],
   "source": [
    "# import pandas to deal with DataFrame\n",
    "import pandas as pd\n",
    "# import os lib to check if a file is exist\n",
    "import os"
   ]
  },
  {
   "cell_type": "code",
   "execution_count": 2,
   "metadata": {
    "collapsed": true
   },
   "outputs": [],
   "source": [
    "# load dataframe file\n",
    "birds_df = pd.read_csv(\"birds_April_13.csv\")\n",
    "# delete useless column\n",
    "# del birds_df['Unnamed: 0']\n",
    "# reset index\n",
    "birds_df.set_index('Idx', inplace=True)"
   ]
  },
  {
   "cell_type": "code",
   "execution_count": 3,
   "metadata": {
    "collapsed": true
   },
   "outputs": [],
   "source": [
    "# create a dataframe with only location columns\n",
    "location_df = birds_df[['nsw', 'vic', 'tas', 'act', 'sa', 'wa', 'nt', 'qld']].copy()\n",
    "# initialize a list to store index which does not have location information\n",
    "idx_list = []\n",
    "# assign column names into a list\n",
    "columns = location_df.columns"
   ]
  },
  {
   "cell_type": "code",
   "execution_count": 4,
   "metadata": {
    "collapsed": true
   },
   "outputs": [],
   "source": [
    "for idx in location_df.index:\n",
    "    is_null = True\n",
    "    for column in columns:\n",
    "        if not pd.np.isnan(location_df.ix[idx, column]):\n",
    "            is_null = False\n",
    "            break\n",
    "    if is_null:\n",
    "        idx_list.append(idx)"
   ]
  },
  {
   "cell_type": "code",
   "execution_count": 5,
   "metadata": {
    "scrolled": true
   },
   "outputs": [
    {
     "data": {
      "text/plain": [
       "5"
      ]
     },
     "execution_count": 5,
     "metadata": {},
     "output_type": "execute_result"
    }
   ],
   "source": [
    "# check how many birds still need location\n",
    "len(idx_list)"
   ]
  },
  {
   "cell_type": "code",
   "execution_count": 6,
   "metadata": {
    "collapsed": true
   },
   "outputs": [],
   "source": [
    "# create a new dataframe to store the birds missing location\n",
    "missing_birds_df = birds_df.ix[idx_list, ['Common name', 'Binomial', \n",
    "                                          'nsw', 'vic', 'tas', 'act', 'sa', 'wa', 'nt', 'qld']]"
   ]
  },
  {
   "cell_type": "code",
   "execution_count": 7,
   "metadata": {
    "scrolled": true
   },
   "outputs": [
    {
     "data": {
      "text/html": [
       "<div>\n",
       "<table border=\"1\" class=\"dataframe\">\n",
       "  <thead>\n",
       "    <tr style=\"text-align: right;\">\n",
       "      <th></th>\n",
       "      <th>Common name</th>\n",
       "      <th>Binomial</th>\n",
       "      <th>nsw</th>\n",
       "      <th>vic</th>\n",
       "      <th>tas</th>\n",
       "      <th>act</th>\n",
       "      <th>sa</th>\n",
       "      <th>wa</th>\n",
       "      <th>nt</th>\n",
       "      <th>qld</th>\n",
       "    </tr>\n",
       "    <tr>\n",
       "      <th>Idx</th>\n",
       "      <th></th>\n",
       "      <th></th>\n",
       "      <th></th>\n",
       "      <th></th>\n",
       "      <th></th>\n",
       "      <th></th>\n",
       "      <th></th>\n",
       "      <th></th>\n",
       "      <th></th>\n",
       "      <th></th>\n",
       "    </tr>\n",
       "  </thead>\n",
       "  <tbody>\n",
       "    <tr>\n",
       "      <th>114</th>\n",
       "      <td>Laysan albatross</td>\n",
       "      <td>Phoebastria immutabilis</td>\n",
       "      <td>NaN</td>\n",
       "      <td>NaN</td>\n",
       "      <td>NaN</td>\n",
       "      <td>NaN</td>\n",
       "      <td>NaN</td>\n",
       "      <td>NaN</td>\n",
       "      <td>NaN</td>\n",
       "      <td>NaN</td>\n",
       "    </tr>\n",
       "    <tr>\n",
       "      <th>180</th>\n",
       "      <td>Emperor penguin</td>\n",
       "      <td>Aptenodytes forsteri</td>\n",
       "      <td>NaN</td>\n",
       "      <td>NaN</td>\n",
       "      <td>NaN</td>\n",
       "      <td>NaN</td>\n",
       "      <td>NaN</td>\n",
       "      <td>NaN</td>\n",
       "      <td>NaN</td>\n",
       "      <td>NaN</td>\n",
       "    </tr>\n",
       "    <tr>\n",
       "      <th>207</th>\n",
       "      <td>Macquarie shag</td>\n",
       "      <td>Phalacrocorax purpurascens</td>\n",
       "      <td>NaN</td>\n",
       "      <td>NaN</td>\n",
       "      <td>NaN</td>\n",
       "      <td>NaN</td>\n",
       "      <td>NaN</td>\n",
       "      <td>NaN</td>\n",
       "      <td>NaN</td>\n",
       "      <td>NaN</td>\n",
       "    </tr>\n",
       "    <tr>\n",
       "      <th>405</th>\n",
       "      <td>Mew gull</td>\n",
       "      <td>Larus canus</td>\n",
       "      <td>NaN</td>\n",
       "      <td>NaN</td>\n",
       "      <td>NaN</td>\n",
       "      <td>NaN</td>\n",
       "      <td>NaN</td>\n",
       "      <td>NaN</td>\n",
       "      <td>NaN</td>\n",
       "      <td>NaN</td>\n",
       "    </tr>\n",
       "    <tr>\n",
       "      <th>892</th>\n",
       "      <td>Yellowhammer</td>\n",
       "      <td>Emberiza citrinella</td>\n",
       "      <td>NaN</td>\n",
       "      <td>NaN</td>\n",
       "      <td>NaN</td>\n",
       "      <td>NaN</td>\n",
       "      <td>NaN</td>\n",
       "      <td>NaN</td>\n",
       "      <td>NaN</td>\n",
       "      <td>NaN</td>\n",
       "    </tr>\n",
       "  </tbody>\n",
       "</table>\n",
       "</div>"
      ],
      "text/plain": [
       "          Common name                    Binomial  nsw  vic  tas  act  sa  wa  \\\n",
       "Idx                                                                             \n",
       "114  Laysan albatross     Phoebastria immutabilis  NaN  NaN  NaN  NaN NaN NaN   \n",
       "180   Emperor penguin        Aptenodytes forsteri  NaN  NaN  NaN  NaN NaN NaN   \n",
       "207    Macquarie shag  Phalacrocorax purpurascens  NaN  NaN  NaN  NaN NaN NaN   \n",
       "405          Mew gull                 Larus canus  NaN  NaN  NaN  NaN NaN NaN   \n",
       "892      Yellowhammer         Emberiza citrinella  NaN  NaN  NaN  NaN NaN NaN   \n",
       "\n",
       "     nt  qld  \n",
       "Idx           \n",
       "114 NaN  NaN  \n",
       "180 NaN  NaN  \n",
       "207 NaN  NaN  \n",
       "405 NaN  NaN  \n",
       "892 NaN  NaN  "
      ]
     },
     "execution_count": 7,
     "metadata": {},
     "output_type": "execute_result"
    }
   ],
   "source": [
    "# check the result\n",
    "missing_birds_df"
   ]
  },
  {
   "cell_type": "code",
   "execution_count": 8,
   "metadata": {},
   "outputs": [],
   "source": [
    "# load dataframe file\n",
    "new_df = pd.read_csv(\"105 missing location list.csv\")\n",
    "new_df.set_index(\"Idx\", inplace=True)\n",
    "columns = ['nsw', 'vic', 'tas', 'act', 'sa', 'wa', 'nt', 'qld']"
   ]
  },
  {
   "cell_type": "code",
   "execution_count": 9,
   "metadata": {},
   "outputs": [],
   "source": [
    "for idx in idx_list:\n",
    "    for column in columns:\n",
    "        birds_df.ix[idx, column] = new_df.ix[idx, column]"
   ]
  },
  {
   "cell_type": "code",
   "execution_count": 10,
   "metadata": {
    "collapsed": true
   },
   "outputs": [],
   "source": [
    "birds_df.to_csv(\"birds_April_13.csv\")"
   ]
  },
  {
   "cell_type": "code",
   "execution_count": 8,
   "metadata": {
    "collapsed": true
   },
   "outputs": [],
   "source": [
    "# save into a new csv\n",
    "missing_birds_df.to_csv(\"105 missing location list.csv\")"
   ]
  }
 ],
 "metadata": {
  "kernelspec": {
   "display_name": "Python 3",
   "language": "python",
   "name": "python3"
  },
  "language_info": {
   "codemirror_mode": {
    "name": "ipython",
    "version": 3
   },
   "file_extension": ".py",
   "mimetype": "text/x-python",
   "name": "python",
   "nbconvert_exporter": "python",
   "pygments_lexer": "ipython3",
   "version": "3.6.1"
  }
 },
 "nbformat": 4,
 "nbformat_minor": 2
}
